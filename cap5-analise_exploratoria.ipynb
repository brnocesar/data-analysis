{
  "nbformat": 4,
  "nbformat_minor": 0,
  "metadata": {
    "kernelspec": {
      "display_name": "Python 3",
      "language": "python",
      "name": "python3"
    },
    "language_info": {
      "codemirror_mode": {
        "name": "ipython",
        "version": 3
      },
      "file_extension": ".py",
      "mimetype": "text/x-python",
      "name": "python",
      "nbconvert_exporter": "python",
      "pygments_lexer": "ipython3",
      "version": "3.7.3"
    },
    "colab": {
      "name": "Cópia de cap5-analise_exploratoria-checkpoint.ipynb",
      "provenance": [],
      "collapsed_sections": [
        "gDQ7aP51bkQ0",
        "4Bp9WsT8ZAs3",
        "nBQARGYGGud3",
        "jPZUuT8JZAtU",
        "SQzXx_CpZAud",
        "bezGfoCjZAvI",
        "g8mTXQyOZAv0",
        "_lldzN-ZZAwB",
        "smlOSnWoguLv",
        "ytVfOikidjva",
        "z2gXQ7ViltFK",
        "pFHJgYkdy8S0",
        "jrYgmIued8CQ",
        "oOb7nMOjgddA",
        "46wREQ5xij16",
        "0jvJoUXQwjFp",
        "fSYCC_cJyRzm"
      ]
    }
  },
  "cells": [
    {
      "cell_type": "markdown",
      "metadata": {
        "id": "_fueUdaCZAnX"
      },
      "source": [
        "# Capítulo 5 - Análise exploratória de Dados\n",
        "Vamos utilizar o método de _Exploratory Data Analysis_ para explorar dados do mundo real e obter algumas informações. Os dados que vamos analisar são referentes a **filmes** que receberam **notas** a partir da avaliação de **usuários**, eles podem ser encontrados no site [MovieLens](https://grouplens.org/datasets/movielens/).\n",
        "\n",
        "Vamos realizar queries, avaliar a Tendência Central, média, mediana e etc. Aliado a isso vamos procurar entender a distribuição das notas dadas ao filmes por meio de gráficos como histogramas e _boxplots_, que nos permitem fazer comparações entre as grandezas disponíveis. \n",
        "\n",
        "Para tudo isso serão utilizadas as principais bibliotecas de Python para análise de dados: Pandas, NumPy, Seaborn, Matplotlib. A visualização de dados será abordada, assim como boas e más práticas.\n",
        "\n",
        "<br />\n",
        "\n",
        "### Índice\n",
        "1 - [Investigação inicial](#1-investigação-inicial)  \n",
        "2 - [Avançando para outro DataSet](#2-avançando-para-outro-_dataset_)  \n",
        "3 - [Visualizando gráficos](#3-visualizando-gráficos)  \n",
        "4 - [Tipos de variáveis](#4-tipos-de-variáveis)  \n",
        "5 - [Visualizando gráficos (de novo)](#5-visualizando-gráficos-(de-novo))  \n",
        "6 - [Conclusões a partir de grandezas estátisticas](#6-conclusões-a-partir-de-grandezas-estátisticas)  "
      ]
    },
    {
      "cell_type": "markdown",
      "metadata": {
        "id": "gDQ7aP51bkQ0"
      },
      "source": [
        "## 1 Investigação inicial\n",
        "\n",
        "### 1.1 Notas\n",
        "\n",
        "Vamos começar pelo arquivo que contém as notas dadas pelos usuários. Vamos carregar o arquivo em formato CSV para um _DataFrame_ e armazená-lo em uma variável chamada `notas_df`, então prosseguimos para uma investigação inicial dos nossos dados:"
      ]
    },
    {
      "cell_type": "code",
      "metadata": {
        "id": "-yIQa93VZAoY"
      },
      "source": [
        "# antes de tudo, devemos importar a biblioteca Pandas com um apelido\n",
        "import pandas as pd"
      ],
      "execution_count": 1,
      "outputs": []
    },
    {
      "cell_type": "code",
      "metadata": {
        "id": "R2NipJK2ZApW"
      },
      "source": [
        "# carrega o arquivo de notas (CSV) como um DataFrame\n",
        "# notas_df = pd.read_csv('data/aula5_ratings.csv')\n",
        "notas_df = pd.read_csv('https://github.com/brnocesar/learning-data-analysis/blob/main/datasets/aula5_ratings.csv?raw=true')"
      ],
      "execution_count": 2,
      "outputs": []
    },
    {
      "cell_type": "code",
      "metadata": {
        "id": "4fVsh9edZAqH",
        "colab": {
          "base_uri": "https://localhost:8080/",
          "height": 206
        },
        "outputId": "b2d49973-70f3-4d92-f850-dae8a7d81e18"
      },
      "source": [
        "notas_df.head()"
      ],
      "execution_count": 3,
      "outputs": [
        {
          "output_type": "execute_result",
          "data": {
            "text/html": [
              "<div>\n",
              "<style scoped>\n",
              "    .dataframe tbody tr th:only-of-type {\n",
              "        vertical-align: middle;\n",
              "    }\n",
              "\n",
              "    .dataframe tbody tr th {\n",
              "        vertical-align: top;\n",
              "    }\n",
              "\n",
              "    .dataframe thead th {\n",
              "        text-align: right;\n",
              "    }\n",
              "</style>\n",
              "<table border=\"1\" class=\"dataframe\">\n",
              "  <thead>\n",
              "    <tr style=\"text-align: right;\">\n",
              "      <th></th>\n",
              "      <th>userId</th>\n",
              "      <th>movieId</th>\n",
              "      <th>rating</th>\n",
              "      <th>timestamp</th>\n",
              "    </tr>\n",
              "  </thead>\n",
              "  <tbody>\n",
              "    <tr>\n",
              "      <th>0</th>\n",
              "      <td>1</td>\n",
              "      <td>1</td>\n",
              "      <td>4.0</td>\n",
              "      <td>964982703</td>\n",
              "    </tr>\n",
              "    <tr>\n",
              "      <th>1</th>\n",
              "      <td>1</td>\n",
              "      <td>3</td>\n",
              "      <td>4.0</td>\n",
              "      <td>964981247</td>\n",
              "    </tr>\n",
              "    <tr>\n",
              "      <th>2</th>\n",
              "      <td>1</td>\n",
              "      <td>6</td>\n",
              "      <td>4.0</td>\n",
              "      <td>964982224</td>\n",
              "    </tr>\n",
              "    <tr>\n",
              "      <th>3</th>\n",
              "      <td>1</td>\n",
              "      <td>47</td>\n",
              "      <td>5.0</td>\n",
              "      <td>964983815</td>\n",
              "    </tr>\n",
              "    <tr>\n",
              "      <th>4</th>\n",
              "      <td>1</td>\n",
              "      <td>50</td>\n",
              "      <td>5.0</td>\n",
              "      <td>964982931</td>\n",
              "    </tr>\n",
              "  </tbody>\n",
              "</table>\n",
              "</div>"
            ],
            "text/plain": [
              "   userId  movieId  rating  timestamp\n",
              "0       1        1     4.0  964982703\n",
              "1       1        3     4.0  964981247\n",
              "2       1        6     4.0  964982224\n",
              "3       1       47     5.0  964983815\n",
              "4       1       50     5.0  964982931"
            ]
          },
          "metadata": {
            "tags": []
          },
          "execution_count": 3
        }
      ]
    },
    {
      "cell_type": "code",
      "metadata": {
        "id": "BMcluhxOZAqh",
        "colab": {
          "base_uri": "https://localhost:8080/"
        },
        "outputId": "da0f126b-cfdc-452a-cbdf-bea12daad5bc"
      },
      "source": [
        "notas_df.shape"
      ],
      "execution_count": 4,
      "outputs": [
        {
          "output_type": "execute_result",
          "data": {
            "text/plain": [
              "(100836, 4)"
            ]
          },
          "metadata": {
            "tags": []
          },
          "execution_count": 4
        }
      ]
    },
    {
      "cell_type": "code",
      "metadata": {
        "id": "4slKYTf9ZAq0"
      },
      "source": [
        "# altera os rótulos das colunas\n",
        "notas_df.columns = ['usuario_id', 'filme_id', 'nota', 'instante']"
      ],
      "execution_count": 5,
      "outputs": []
    },
    {
      "cell_type": "code",
      "metadata": {
        "id": "T0h8bdC4ZArA",
        "colab": {
          "base_uri": "https://localhost:8080/"
        },
        "outputId": "764eb770-3917-4a14-d71a-45ca9c29d68b"
      },
      "source": [
        "notas_df.columns"
      ],
      "execution_count": 6,
      "outputs": [
        {
          "output_type": "execute_result",
          "data": {
            "text/plain": [
              "Index(['usuario_id', 'filme_id', 'nota', 'instante'], dtype='object')"
            ]
          },
          "metadata": {
            "tags": []
          },
          "execution_count": 6
        }
      ]
    },
    {
      "cell_type": "code",
      "metadata": {
        "id": "Q6mvWnBBZArV",
        "colab": {
          "base_uri": "https://localhost:8080/",
          "height": 206
        },
        "outputId": "f690102e-b002-4434-a1e1-82cbaf43b809"
      },
      "source": [
        "notas_df.head()"
      ],
      "execution_count": 7,
      "outputs": [
        {
          "output_type": "execute_result",
          "data": {
            "text/html": [
              "<div>\n",
              "<style scoped>\n",
              "    .dataframe tbody tr th:only-of-type {\n",
              "        vertical-align: middle;\n",
              "    }\n",
              "\n",
              "    .dataframe tbody tr th {\n",
              "        vertical-align: top;\n",
              "    }\n",
              "\n",
              "    .dataframe thead th {\n",
              "        text-align: right;\n",
              "    }\n",
              "</style>\n",
              "<table border=\"1\" class=\"dataframe\">\n",
              "  <thead>\n",
              "    <tr style=\"text-align: right;\">\n",
              "      <th></th>\n",
              "      <th>usuario_id</th>\n",
              "      <th>filme_id</th>\n",
              "      <th>nota</th>\n",
              "      <th>instante</th>\n",
              "    </tr>\n",
              "  </thead>\n",
              "  <tbody>\n",
              "    <tr>\n",
              "      <th>0</th>\n",
              "      <td>1</td>\n",
              "      <td>1</td>\n",
              "      <td>4.0</td>\n",
              "      <td>964982703</td>\n",
              "    </tr>\n",
              "    <tr>\n",
              "      <th>1</th>\n",
              "      <td>1</td>\n",
              "      <td>3</td>\n",
              "      <td>4.0</td>\n",
              "      <td>964981247</td>\n",
              "    </tr>\n",
              "    <tr>\n",
              "      <th>2</th>\n",
              "      <td>1</td>\n",
              "      <td>6</td>\n",
              "      <td>4.0</td>\n",
              "      <td>964982224</td>\n",
              "    </tr>\n",
              "    <tr>\n",
              "      <th>3</th>\n",
              "      <td>1</td>\n",
              "      <td>47</td>\n",
              "      <td>5.0</td>\n",
              "      <td>964983815</td>\n",
              "    </tr>\n",
              "    <tr>\n",
              "      <th>4</th>\n",
              "      <td>1</td>\n",
              "      <td>50</td>\n",
              "      <td>5.0</td>\n",
              "      <td>964982931</td>\n",
              "    </tr>\n",
              "  </tbody>\n",
              "</table>\n",
              "</div>"
            ],
            "text/plain": [
              "   usuario_id  filme_id  nota   instante\n",
              "0           1         1   4.0  964982703\n",
              "1           1         3   4.0  964981247\n",
              "2           1         6   4.0  964982224\n",
              "3           1        47   5.0  964983815\n",
              "4           1        50   5.0  964982931"
            ]
          },
          "metadata": {
            "tags": []
          },
          "execution_count": 7
        }
      ]
    },
    {
      "cell_type": "code",
      "metadata": {
        "id": "eanZ7jxuZArf",
        "colab": {
          "base_uri": "https://localhost:8080/"
        },
        "outputId": "94d870d6-f3b0-4c8f-bbef-e01e300b7b44"
      },
      "source": [
        "# notas possiveis, retorna valores unicos na coluna 'nota'\n",
        "set(notas_df['nota'])"
      ],
      "execution_count": 8,
      "outputs": [
        {
          "output_type": "execute_result",
          "data": {
            "text/plain": [
              "{0.5, 1.0, 1.5, 2.0, 2.5, 3.0, 3.5, 4.0, 4.5, 5.0}"
            ]
          },
          "metadata": {
            "tags": []
          },
          "execution_count": 8
        }
      ]
    },
    {
      "cell_type": "code",
      "metadata": {
        "id": "wJFwkUU9ZArp",
        "colab": {
          "base_uri": "https://localhost:8080/"
        },
        "outputId": "1186d6d8-7301-4f75-dd33-a28a92e2412f"
      },
      "source": [
        "notas_df['nota'].unique()"
      ],
      "execution_count": 9,
      "outputs": [
        {
          "output_type": "execute_result",
          "data": {
            "text/plain": [
              "array([4. , 5. , 3. , 2. , 1. , 4.5, 3.5, 2.5, 0.5, 1.5])"
            ]
          },
          "metadata": {
            "tags": []
          },
          "execution_count": 9
        }
      ]
    },
    {
      "cell_type": "code",
      "metadata": {
        "id": "HupcD82EZArz",
        "colab": {
          "base_uri": "https://localhost:8080/"
        },
        "outputId": "7bc0c019-8b05-4d5a-92a5-e69e52163572"
      },
      "source": [
        "# numero de ocorrencias de cada nota\n",
        "notas_df.nota.value_counts()\n",
        "# quando o nome da coluna não possui espaços ou caracteres especiais, podemos acessar a coluna usando essa notação"
      ],
      "execution_count": 10,
      "outputs": [
        {
          "output_type": "execute_result",
          "data": {
            "text/plain": [
              "4.0    26818\n",
              "3.0    20047\n",
              "5.0    13211\n",
              "3.5    13136\n",
              "4.5     8551\n",
              "2.0     7551\n",
              "2.5     5550\n",
              "1.0     2811\n",
              "1.5     1791\n",
              "0.5     1370\n",
              "Name: nota, dtype: int64"
            ]
          },
          "metadata": {
            "tags": []
          },
          "execution_count": 10
        }
      ]
    },
    {
      "cell_type": "code",
      "metadata": {
        "id": "B1VDWnOjZAr9",
        "colab": {
          "base_uri": "https://localhost:8080/"
        },
        "outputId": "7232432c-699b-445b-d5f3-fd2c8c7c9535"
      },
      "source": [
        "# média geral das notas\n",
        "notas_df.nota.mean()"
      ],
      "execution_count": 11,
      "outputs": [
        {
          "output_type": "execute_result",
          "data": {
            "text/plain": [
              "3.501556983616962"
            ]
          },
          "metadata": {
            "tags": []
          },
          "execution_count": 11
        }
      ]
    },
    {
      "cell_type": "code",
      "metadata": {
        "id": "e7k2TeLjZAsI",
        "colab": {
          "base_uri": "https://localhost:8080/",
          "height": 283
        },
        "outputId": "d5658d3c-fa2a-45d7-a40c-228e39585150"
      },
      "source": [
        "# plotando histograma, um `value_counts()` visual\n",
        "notas_df['nota'].plot(kind='hist')"
      ],
      "execution_count": 12,
      "outputs": [
        {
          "output_type": "execute_result",
          "data": {
            "text/plain": [
              "<matplotlib.axes._subplots.AxesSubplot at 0x7fee6987afd0>"
            ]
          },
          "metadata": {
            "tags": []
          },
          "execution_count": 12
        },
        {
          "output_type": "display_data",
          "data": {
            "image/png": "[encoded data removed]",
            "text/plain": [
              "<Figure size 432x288 with 1 Axes>"
            ]
          },
          "metadata": {
            "tags": [],
            "needs_background": "light"
          }
        }
      ]
    },
    {
      "cell_type": "code",
      "metadata": {
        "id": "UA_sNj1cZAsR",
        "colab": {
          "base_uri": "https://localhost:8080/"
        },
        "outputId": "03644b91-f2a7-4b92-d1c0-88ad8b164b73"
      },
      "source": [
        "# mediana\n",
        "notas_df['nota'].median()"
      ],
      "execution_count": 13,
      "outputs": [
        {
          "output_type": "execute_result",
          "data": {
            "text/plain": [
              "3.5"
            ]
          },
          "metadata": {
            "tags": []
          },
          "execution_count": 13
        }
      ]
    },
    {
      "cell_type": "code",
      "metadata": {
        "id": "u2cZ7bM1ZAsb",
        "colab": {
          "base_uri": "https://localhost:8080/"
        },
        "outputId": "54cdbafa-fc24-4085-d130-750d9305404a"
      },
      "source": [
        "notas_df['nota'].describe()"
      ],
      "execution_count": 14,
      "outputs": [
        {
          "output_type": "execute_result",
          "data": {
            "text/plain": [
              "count    100836.000000\n",
              "mean          3.501557\n",
              "std           1.042529\n",
              "min           0.500000\n",
              "25%           3.000000\n",
              "50%           3.500000\n",
              "75%           4.000000\n",
              "max           5.000000\n",
              "Name: nota, dtype: float64"
            ]
          },
          "metadata": {
            "tags": []
          },
          "execution_count": 14
        }
      ]
    },
    {
      "cell_type": "code",
      "metadata": {
        "id": "lmRExNHmZAsi"
      },
      "source": [
        "import seaborn as sns"
      ],
      "execution_count": 15,
      "outputs": []
    },
    {
      "cell_type": "code",
      "metadata": {
        "id": "IPCCFFl3ZAst",
        "colab": {
          "base_uri": "https://localhost:8080/",
          "height": 354
        },
        "outputId": "9aba45df-8ed8-4cfa-a3a6-0b9808f0acdd"
      },
      "source": [
        "# plotar o `describe()` visual\n",
        "sns.boxplot(notas_df.nota)"
      ],
      "execution_count": 16,
      "outputs": [
        {
          "output_type": "stream",
          "text": [
            "/usr/local/lib/python3.6/dist-packages/seaborn/_decorators.py:43: FutureWarning: Pass the following variable as a keyword arg: x. From version 0.12, the only valid positional argument will be `data`, and passing other arguments without an explicit keyword will result in an error or misinterpretation.\n",
            "  FutureWarning\n"
          ],
          "name": "stderr"
        },
        {
          "output_type": "execute_result",
          "data": {
            "text/plain": [
              "<matplotlib.axes._subplots.AxesSubplot at 0x7fee5f325710>"
            ]
          },
          "metadata": {
            "tags": []
          },
          "execution_count": 16
        },
        {
          "output_type": "display_data",
          "data": {
            "image/png": "[encoded data removed]",
            "text/plain": [
              "<Figure size 432x288 with 1 Axes>"
            ]
          },
          "metadata": {
            "tags": [],
            "needs_background": "light"
          }
        }
      ]
    },
    {
      "cell_type": "markdown",
      "metadata": {
        "id": "4Bp9WsT8ZAs3"
      },
      "source": [
        "## 2 Avançando para outro _DataSet_"
      ]
    },
    {
      "cell_type": "markdown",
      "metadata": {
        "id": "nBQARGYGGud3"
      },
      "source": [
        "### 2.1 Filmes\n",
        "\n",
        "Agora vamos carregar um outro arquivo CSV, agora o arquivo de filmes:"
      ]
    },
    {
      "cell_type": "code",
      "metadata": {
        "id": "gnmo2ShDZAs4"
      },
      "source": [
        "# filmes_df = pd.read_csv('data/aula5_movies.csv')\n",
        "filmes_df = pd.read_csv('https://raw.githubusercontent.com/brnocesar/learning-data-analysis/main/datasets/aula5_movies.csv')"
      ],
      "execution_count": 17,
      "outputs": []
    },
    {
      "cell_type": "code",
      "metadata": {
        "id": "DRdY1nSDZAtA",
        "colab": {
          "base_uri": "https://localhost:8080/",
          "height": 225
        },
        "outputId": "46b02408-2e1c-4737-8501-0b45d2e240c1"
      },
      "source": [
        "print(filmes_df.shape)\n",
        "filmes_df.head()"
      ],
      "execution_count": 18,
      "outputs": [
        {
          "output_type": "stream",
          "text": [
            "(9742, 3)\n"
          ],
          "name": "stdout"
        },
        {
          "output_type": "execute_result",
          "data": {
            "text/html": [
              "<div>\n",
              "<style scoped>\n",
              "    .dataframe tbody tr th:only-of-type {\n",
              "        vertical-align: middle;\n",
              "    }\n",
              "\n",
              "    .dataframe tbody tr th {\n",
              "        vertical-align: top;\n",
              "    }\n",
              "\n",
              "    .dataframe thead th {\n",
              "        text-align: right;\n",
              "    }\n",
              "</style>\n",
              "<table border=\"1\" class=\"dataframe\">\n",
              "  <thead>\n",
              "    <tr style=\"text-align: right;\">\n",
              "      <th></th>\n",
              "      <th>movieId</th>\n",
              "      <th>title</th>\n",
              "      <th>genres</th>\n",
              "    </tr>\n",
              "  </thead>\n",
              "  <tbody>\n",
              "    <tr>\n",
              "      <th>0</th>\n",
              "      <td>1</td>\n",
              "      <td>Toy Story (1995)</td>\n",
              "      <td>Adventure|Animation|Children|Comedy|Fantasy</td>\n",
              "    </tr>\n",
              "    <tr>\n",
              "      <th>1</th>\n",
              "      <td>2</td>\n",
              "      <td>Jumanji (1995)</td>\n",
              "      <td>Adventure|Children|Fantasy</td>\n",
              "    </tr>\n",
              "    <tr>\n",
              "      <th>2</th>\n",
              "      <td>3</td>\n",
              "      <td>Grumpier Old Men (1995)</td>\n",
              "      <td>Comedy|Romance</td>\n",
              "    </tr>\n",
              "    <tr>\n",
              "      <th>3</th>\n",
              "      <td>4</td>\n",
              "      <td>Waiting to Exhale (1995)</td>\n",
              "      <td>Comedy|Drama|Romance</td>\n",
              "    </tr>\n",
              "    <tr>\n",
              "      <th>4</th>\n",
              "      <td>5</td>\n",
              "      <td>Father of the Bride Part II (1995)</td>\n",
              "      <td>Comedy</td>\n",
              "    </tr>\n",
              "  </tbody>\n",
              "</table>\n",
              "</div>"
            ],
            "text/plain": [
              "   movieId  ...                                       genres\n",
              "0        1  ...  Adventure|Animation|Children|Comedy|Fantasy\n",
              "1        2  ...                   Adventure|Children|Fantasy\n",
              "2        3  ...                               Comedy|Romance\n",
              "3        4  ...                         Comedy|Drama|Romance\n",
              "4        5  ...                                       Comedy\n",
              "\n",
              "[5 rows x 3 columns]"
            ]
          },
          "metadata": {
            "tags": []
          },
          "execution_count": 18
        }
      ]
    },
    {
      "cell_type": "markdown",
      "metadata": {
        "id": "hzhBSYuJZAtL"
      },
      "source": [
        "Note que os titulos das colunas estão em inglês, então vamos mudar para português, como foi feito para o primeiro arquivo."
      ]
    },
    {
      "cell_type": "code",
      "metadata": {
        "id": "j95FU0LjZAtL",
        "colab": {
          "base_uri": "https://localhost:8080/",
          "height": 206
        },
        "outputId": "09f079bb-1eb5-42f1-a78e-fc5ffbb106c8"
      },
      "source": [
        "filmes_df.columns = ['filme_id', 'titulo', 'generos']\n",
        "filmes_df.head()"
      ],
      "execution_count": 19,
      "outputs": [
        {
          "output_type": "execute_result",
          "data": {
            "text/html": [
              "<div>\n",
              "<style scoped>\n",
              "    .dataframe tbody tr th:only-of-type {\n",
              "        vertical-align: middle;\n",
              "    }\n",
              "\n",
              "    .dataframe tbody tr th {\n",
              "        vertical-align: top;\n",
              "    }\n",
              "\n",
              "    .dataframe thead th {\n",
              "        text-align: right;\n",
              "    }\n",
              "</style>\n",
              "<table border=\"1\" class=\"dataframe\">\n",
              "  <thead>\n",
              "    <tr style=\"text-align: right;\">\n",
              "      <th></th>\n",
              "      <th>filme_id</th>\n",
              "      <th>titulo</th>\n",
              "      <th>generos</th>\n",
              "    </tr>\n",
              "  </thead>\n",
              "  <tbody>\n",
              "    <tr>\n",
              "      <th>0</th>\n",
              "      <td>1</td>\n",
              "      <td>Toy Story (1995)</td>\n",
              "      <td>Adventure|Animation|Children|Comedy|Fantasy</td>\n",
              "    </tr>\n",
              "    <tr>\n",
              "      <th>1</th>\n",
              "      <td>2</td>\n",
              "      <td>Jumanji (1995)</td>\n",
              "      <td>Adventure|Children|Fantasy</td>\n",
              "    </tr>\n",
              "    <tr>\n",
              "      <th>2</th>\n",
              "      <td>3</td>\n",
              "      <td>Grumpier Old Men (1995)</td>\n",
              "      <td>Comedy|Romance</td>\n",
              "    </tr>\n",
              "    <tr>\n",
              "      <th>3</th>\n",
              "      <td>4</td>\n",
              "      <td>Waiting to Exhale (1995)</td>\n",
              "      <td>Comedy|Drama|Romance</td>\n",
              "    </tr>\n",
              "    <tr>\n",
              "      <th>4</th>\n",
              "      <td>5</td>\n",
              "      <td>Father of the Bride Part II (1995)</td>\n",
              "      <td>Comedy</td>\n",
              "    </tr>\n",
              "  </tbody>\n",
              "</table>\n",
              "</div>"
            ],
            "text/plain": [
              "   filme_id  ...                                      generos\n",
              "0         1  ...  Adventure|Animation|Children|Comedy|Fantasy\n",
              "1         2  ...                   Adventure|Children|Fantasy\n",
              "2         3  ...                               Comedy|Romance\n",
              "3         4  ...                         Comedy|Drama|Romance\n",
              "4         5  ...                                       Comedy\n",
              "\n",
              "[5 rows x 3 columns]"
            ]
          },
          "metadata": {
            "tags": []
          },
          "execution_count": 19
        }
      ]
    },
    {
      "cell_type": "markdown",
      "metadata": {
        "id": "jPZUuT8JZAtU"
      },
      "source": [
        "### 2.2. Notas por filme\n",
        "Vamos considerar a situação em que queremos saber quais foram as notas dadas para um determinado filme. Se no primeiro arquivo temos as notas para cada `filme_id` e no segundo temos o titulo de cada `filme_id`, devemos fazer a seguinte _query_ para obter, digamos, todas as notas para o filme cujo _id_ é igual a **1**:"
      ]
    },
    {
      "cell_type": "code",
      "metadata": {
        "id": "geWgbU5mZAtU"
      },
      "source": [
        "# cria df apenas com as notas para o filme de ID = 1\n",
        "notas_filme_um = notas_df.query('filme_id == 1')"
      ],
      "execution_count": 20,
      "outputs": []
    },
    {
      "cell_type": "code",
      "metadata": {
        "id": "re6-3X3uZAtd",
        "colab": {
          "base_uri": "https://localhost:8080/",
          "height": 243
        },
        "outputId": "8bdb2afe-70ba-4d84-da59-cdac1503910f"
      },
      "source": [
        "print(f\"Quantidade de notas: {len(notas_filme_um)}\\n\")\n",
        "notas_filme_um.head()"
      ],
      "execution_count": 21,
      "outputs": [
        {
          "output_type": "stream",
          "text": [
            "Quantidade de notas: 215\n",
            "\n"
          ],
          "name": "stdout"
        },
        {
          "output_type": "execute_result",
          "data": {
            "text/html": [
              "<div>\n",
              "<style scoped>\n",
              "    .dataframe tbody tr th:only-of-type {\n",
              "        vertical-align: middle;\n",
              "    }\n",
              "\n",
              "    .dataframe tbody tr th {\n",
              "        vertical-align: top;\n",
              "    }\n",
              "\n",
              "    .dataframe thead th {\n",
              "        text-align: right;\n",
              "    }\n",
              "</style>\n",
              "<table border=\"1\" class=\"dataframe\">\n",
              "  <thead>\n",
              "    <tr style=\"text-align: right;\">\n",
              "      <th></th>\n",
              "      <th>usuario_id</th>\n",
              "      <th>filme_id</th>\n",
              "      <th>nota</th>\n",
              "      <th>instante</th>\n",
              "    </tr>\n",
              "  </thead>\n",
              "  <tbody>\n",
              "    <tr>\n",
              "      <th>0</th>\n",
              "      <td>1</td>\n",
              "      <td>1</td>\n",
              "      <td>4.0</td>\n",
              "      <td>964982703</td>\n",
              "    </tr>\n",
              "    <tr>\n",
              "      <th>516</th>\n",
              "      <td>5</td>\n",
              "      <td>1</td>\n",
              "      <td>4.0</td>\n",
              "      <td>847434962</td>\n",
              "    </tr>\n",
              "    <tr>\n",
              "      <th>874</th>\n",
              "      <td>7</td>\n",
              "      <td>1</td>\n",
              "      <td>4.5</td>\n",
              "      <td>1106635946</td>\n",
              "    </tr>\n",
              "    <tr>\n",
              "      <th>1434</th>\n",
              "      <td>15</td>\n",
              "      <td>1</td>\n",
              "      <td>2.5</td>\n",
              "      <td>1510577970</td>\n",
              "    </tr>\n",
              "    <tr>\n",
              "      <th>1667</th>\n",
              "      <td>17</td>\n",
              "      <td>1</td>\n",
              "      <td>4.5</td>\n",
              "      <td>1305696483</td>\n",
              "    </tr>\n",
              "  </tbody>\n",
              "</table>\n",
              "</div>"
            ],
            "text/plain": [
              "      usuario_id  filme_id  nota    instante\n",
              "0              1         1   4.0   964982703\n",
              "516            5         1   4.0   847434962\n",
              "874            7         1   4.5  1106635946\n",
              "1434          15         1   2.5  1510577970\n",
              "1667          17         1   4.5  1305696483"
            ]
          },
          "metadata": {
            "tags": []
          },
          "execution_count": 21
        }
      ]
    },
    {
      "cell_type": "markdown",
      "metadata": {
        "id": "DSI6yJLXZAtq"
      },
      "source": [
        "Por questão de espaço, foram apresentadas apenas as cinco primeiras linhas do _DataFrame_ resultante da _query_. Note que temos 215 linhas, ou seja, 215 usuários deram alguma nota para o filme de _ID_ igual a **1**.\n",
        "\n",
        "Além disso, todas as outras colunas do _DataFrame_ original também estão presentes neste e, como as outras informações (qual usuário e quando) não nos interessam neste momento, podemos especificar apenas a coluna das notas, obtendo assim uma _series_. Neste caso a query ficaria:"
      ]
    },
    {
      "cell_type": "code",
      "metadata": {
        "id": "50uFxZGlZAtr"
      },
      "source": [
        "# notas_filme_um = notas_df.query('filme_id == 1').['nota']\n",
        "notas_filme_um = notas_filme_um['nota']"
      ],
      "execution_count": 22,
      "outputs": []
    },
    {
      "cell_type": "code",
      "metadata": {
        "id": "7fsBFo4GZAtx",
        "colab": {
          "base_uri": "https://localhost:8080/"
        },
        "outputId": "cadbdd48-c68d-46c7-d85a-4430cc1351ab"
      },
      "source": [
        "notas_filme_um.head()"
      ],
      "execution_count": 23,
      "outputs": [
        {
          "output_type": "execute_result",
          "data": {
            "text/plain": [
              "0       4.0\n",
              "516     4.0\n",
              "874     4.5\n",
              "1434    2.5\n",
              "1667    4.5\n",
              "Name: nota, dtype: float64"
            ]
          },
          "metadata": {
            "tags": []
          },
          "execution_count": 23
        }
      ]
    },
    {
      "cell_type": "markdown",
      "metadata": {
        "id": "NNxA08BuZAt9"
      },
      "source": [
        "Agora que sei como obter as notas individuais para um filme específico, posso calcular a média de todas as notas de um filme:"
      ]
    },
    {
      "cell_type": "code",
      "metadata": {
        "id": "F0m3aJPoZAuA",
        "colab": {
          "base_uri": "https://localhost:8080/"
        },
        "outputId": "4c659afa-6cf9-418f-d3ba-0e25cbef81b4"
      },
      "source": [
        "notas_filme_um.mean()"
      ],
      "execution_count": 24,
      "outputs": [
        {
          "output_type": "execute_result",
          "data": {
            "text/plain": [
              "3.9209302325581397"
            ]
          },
          "metadata": {
            "tags": []
          },
          "execution_count": 24
        }
      ]
    },
    {
      "cell_type": "markdown",
      "metadata": {
        "id": "5T4kCQqqZAuG"
      },
      "source": [
        "Podemos repetir este processo para o filme de _ID_ igual a **2**, por exemplo."
      ]
    },
    {
      "cell_type": "code",
      "metadata": {
        "id": "xHA9VpSKZAuH"
      },
      "source": [
        "notas_filme_dois = notas_df.query('filme_id == 2')['nota']"
      ],
      "execution_count": 25,
      "outputs": []
    },
    {
      "cell_type": "code",
      "metadata": {
        "id": "apzmxi01ZAuT",
        "colab": {
          "base_uri": "https://localhost:8080/"
        },
        "outputId": "13360097-0856-43bc-c82e-50a23d84f9d2"
      },
      "source": [
        "print(len(notas_filme_dois))\n",
        "print(notas_filme_dois.mean())"
      ],
      "execution_count": 26,
      "outputs": [
        {
          "output_type": "stream",
          "text": [
            "110\n",
            "3.4318181818181817\n"
          ],
          "name": "stdout"
        }
      ]
    },
    {
      "cell_type": "markdown",
      "metadata": {
        "id": "SQzXx_CpZAud"
      },
      "source": [
        "#### 2.2.1 `groupby()`\n",
        "\n",
        "Se tivermos que realizar este procedimento para cada um dos filmes, perceberemos logo que isso é inviável, então vamos começar a trabalhar uma forma de facilitar essa atividade.\n",
        "\n",
        "O primeiro passo será agrupar os dados do _DataFrame_ de notas de acordo com a coluna `filme_id`:"
      ]
    },
    {
      "cell_type": "code",
      "metadata": {
        "id": "cgzG82vAZAug",
        "colab": {
          "base_uri": "https://localhost:8080/"
        },
        "outputId": "a02d2665-933e-4865-9e4c-3fdfd61a7c25"
      },
      "source": [
        "agrupado_por_nota = notas_df.groupby('filme_id')\n",
        "agrupado_por_nota"
      ],
      "execution_count": 27,
      "outputs": [
        {
          "output_type": "execute_result",
          "data": {
            "text/plain": [
              "<pandas.core.groupby.generic.DataFrameGroupBy object at 0x7fee5f2a19b0>"
            ]
          },
          "metadata": {
            "tags": []
          },
          "execution_count": 27
        }
      ]
    },
    {
      "cell_type": "markdown",
      "metadata": {
        "id": "GCkODYmNZAum"
      },
      "source": [
        "O resultado disso é que temos um _DataFrame_ agrupado em função dos valores da coluna `filme_id`, e com esse _df_ podemos aplicar funções de agregação em função da coluna agrupada. Uma dessas funções de agregação é a média dos valores de cada uma das colunas para cada valor da coluna `filme_id`:"
      ]
    },
    {
      "cell_type": "code",
      "metadata": {
        "id": "EPZy5PO-ZAun",
        "colab": {
          "base_uri": "https://localhost:8080/",
          "height": 238
        },
        "outputId": "57309c35-57bf-439f-ce4a-9cce352cff5c"
      },
      "source": [
        "agrupado_por_nota.mean().head()"
      ],
      "execution_count": 28,
      "outputs": [
        {
          "output_type": "execute_result",
          "data": {
            "text/html": [
              "<div>\n",
              "<style scoped>\n",
              "    .dataframe tbody tr th:only-of-type {\n",
              "        vertical-align: middle;\n",
              "    }\n",
              "\n",
              "    .dataframe tbody tr th {\n",
              "        vertical-align: top;\n",
              "    }\n",
              "\n",
              "    .dataframe thead th {\n",
              "        text-align: right;\n",
              "    }\n",
              "</style>\n",
              "<table border=\"1\" class=\"dataframe\">\n",
              "  <thead>\n",
              "    <tr style=\"text-align: right;\">\n",
              "      <th></th>\n",
              "      <th>usuario_id</th>\n",
              "      <th>nota</th>\n",
              "      <th>instante</th>\n",
              "    </tr>\n",
              "    <tr>\n",
              "      <th>filme_id</th>\n",
              "      <th></th>\n",
              "      <th></th>\n",
              "      <th></th>\n",
              "    </tr>\n",
              "  </thead>\n",
              "  <tbody>\n",
              "    <tr>\n",
              "      <th>1</th>\n",
              "      <td>306.530233</td>\n",
              "      <td>3.920930</td>\n",
              "      <td>1.129835e+09</td>\n",
              "    </tr>\n",
              "    <tr>\n",
              "      <th>2</th>\n",
              "      <td>329.554545</td>\n",
              "      <td>3.431818</td>\n",
              "      <td>1.135805e+09</td>\n",
              "    </tr>\n",
              "    <tr>\n",
              "      <th>3</th>\n",
              "      <td>283.596154</td>\n",
              "      <td>3.259615</td>\n",
              "      <td>1.005110e+09</td>\n",
              "    </tr>\n",
              "    <tr>\n",
              "      <th>4</th>\n",
              "      <td>219.857143</td>\n",
              "      <td>2.357143</td>\n",
              "      <td>8.985789e+08</td>\n",
              "    </tr>\n",
              "    <tr>\n",
              "      <th>5</th>\n",
              "      <td>299.571429</td>\n",
              "      <td>3.071429</td>\n",
              "      <td>9.926643e+08</td>\n",
              "    </tr>\n",
              "  </tbody>\n",
              "</table>\n",
              "</div>"
            ],
            "text/plain": [
              "          usuario_id      nota      instante\n",
              "filme_id                                    \n",
              "1         306.530233  3.920930  1.129835e+09\n",
              "2         329.554545  3.431818  1.135805e+09\n",
              "3         283.596154  3.259615  1.005110e+09\n",
              "4         219.857143  2.357143  8.985789e+08\n",
              "5         299.571429  3.071429  9.926643e+08"
            ]
          },
          "metadata": {
            "tags": []
          },
          "execution_count": 28
        }
      ]
    },
    {
      "cell_type": "markdown",
      "metadata": {
        "id": "d7u-Aus7ZAu1"
      },
      "source": [
        "Note que o _DataFrame_ resultante possui como índice o valor de `filme_id`. E perceba também que a média para as colunas `usuario_id` e `instante` não fazem sentido, então podemos fazer o recorte para a coluna `nota`, resultando em uma _series_:"
      ]
    },
    {
      "cell_type": "code",
      "metadata": {
        "id": "V8lAsQQeZAu2",
        "colab": {
          "base_uri": "https://localhost:8080/"
        },
        "outputId": "ab174046-feaf-4ccf-985f-892b710b06eb"
      },
      "source": [
        "media_por_filme = agrupado_por_nota.mean()['nota']\n",
        "media_por_filme.head()"
      ],
      "execution_count": 29,
      "outputs": [
        {
          "output_type": "execute_result",
          "data": {
            "text/plain": [
              "filme_id\n",
              "1    3.920930\n",
              "2    3.431818\n",
              "3    3.259615\n",
              "4    2.357143\n",
              "5    3.071429\n",
              "Name: nota, dtype: float64"
            ]
          },
          "metadata": {
            "tags": []
          },
          "execution_count": 29
        }
      ]
    },
    {
      "cell_type": "markdown",
      "metadata": {
        "id": "0RYtDNvkZAu_"
      },
      "source": [
        "Outra questão que podemos avaliar agora é: _\"Todos os filmes receberam a mesma quantidade de avaliações? Se não, quantas avaliações foi feita para cada filme?\"_\n",
        "\n",
        "Basta aplicar o método `count()` (outra função de agregação) no _DataFrame_ agrupado:"
      ]
    },
    {
      "cell_type": "code",
      "metadata": {
        "id": "BDQbLYznZAvA",
        "colab": {
          "base_uri": "https://localhost:8080/",
          "height": 238
        },
        "outputId": "20ad7dc8-ec91-4814-be43-6208a9a3df86"
      },
      "source": [
        "agrupado_por_nota.count().head()"
      ],
      "execution_count": 30,
      "outputs": [
        {
          "output_type": "execute_result",
          "data": {
            "text/html": [
              "<div>\n",
              "<style scoped>\n",
              "    .dataframe tbody tr th:only-of-type {\n",
              "        vertical-align: middle;\n",
              "    }\n",
              "\n",
              "    .dataframe tbody tr th {\n",
              "        vertical-align: top;\n",
              "    }\n",
              "\n",
              "    .dataframe thead th {\n",
              "        text-align: right;\n",
              "    }\n",
              "</style>\n",
              "<table border=\"1\" class=\"dataframe\">\n",
              "  <thead>\n",
              "    <tr style=\"text-align: right;\">\n",
              "      <th></th>\n",
              "      <th>usuario_id</th>\n",
              "      <th>nota</th>\n",
              "      <th>instante</th>\n",
              "    </tr>\n",
              "    <tr>\n",
              "      <th>filme_id</th>\n",
              "      <th></th>\n",
              "      <th></th>\n",
              "      <th></th>\n",
              "    </tr>\n",
              "  </thead>\n",
              "  <tbody>\n",
              "    <tr>\n",
              "      <th>1</th>\n",
              "      <td>215</td>\n",
              "      <td>215</td>\n",
              "      <td>215</td>\n",
              "    </tr>\n",
              "    <tr>\n",
              "      <th>2</th>\n",
              "      <td>110</td>\n",
              "      <td>110</td>\n",
              "      <td>110</td>\n",
              "    </tr>\n",
              "    <tr>\n",
              "      <th>3</th>\n",
              "      <td>52</td>\n",
              "      <td>52</td>\n",
              "      <td>52</td>\n",
              "    </tr>\n",
              "    <tr>\n",
              "      <th>4</th>\n",
              "      <td>7</td>\n",
              "      <td>7</td>\n",
              "      <td>7</td>\n",
              "    </tr>\n",
              "    <tr>\n",
              "      <th>5</th>\n",
              "      <td>49</td>\n",
              "      <td>49</td>\n",
              "      <td>49</td>\n",
              "    </tr>\n",
              "  </tbody>\n",
              "</table>\n",
              "</div>"
            ],
            "text/plain": [
              "          usuario_id  nota  instante\n",
              "filme_id                            \n",
              "1                215   215       215\n",
              "2                110   110       110\n",
              "3                 52    52        52\n",
              "4                  7     7         7\n",
              "5                 49    49        49"
            ]
          },
          "metadata": {
            "tags": []
          },
          "execution_count": 30
        }
      ]
    },
    {
      "cell_type": "markdown",
      "metadata": {
        "id": "XACSbI8lZAvG"
      },
      "source": [
        "Note que todas as colunas possuem o mesmo valor para cada `filme_id`, o que mostra que nosso _DataFrame_ não possui linhas com valores nulos (o que ja deveria ter sido verificado láááá no inicio dessa análise, mas enfim...)."
      ]
    },
    {
      "cell_type": "markdown",
      "metadata": {
        "id": "bezGfoCjZAvI"
      },
      "source": [
        "## 3 Visualizando gráficos\n",
        "Vamos avaliar como estão distribuídas as médias usando gráficos. Podemos começar plotando um histograma usando Pandas:"
      ]
    },
    {
      "cell_type": "code",
      "metadata": {
        "id": "UDq29I8qZAvJ",
        "colab": {
          "base_uri": "https://localhost:8080/",
          "height": 283
        },
        "outputId": "821f8d46-a052-40e9-ab86-0a91bb803c9c"
      },
      "source": [
        "media_por_filme.plot(kind='hist')"
      ],
      "execution_count": 31,
      "outputs": [
        {
          "output_type": "execute_result",
          "data": {
            "text/plain": [
              "<matplotlib.axes._subplots.AxesSubplot at 0x7fee5df09780>"
            ]
          },
          "metadata": {
            "tags": []
          },
          "execution_count": 31
        },
        {
          "output_type": "display_data",
          "data": {
            "image/png": "[encoded data removed]",
            "text/plain": [
              "<Figure size 432x288 with 1 Axes>"
            ]
          },
          "metadata": {
            "tags": [],
            "needs_background": "light"
          }
        }
      ]
    },
    {
      "cell_type": "code",
      "metadata": {
        "id": "fGYE5JP7ZAvP",
        "colab": {
          "base_uri": "https://localhost:8080/",
          "height": 283
        },
        "outputId": "f1154a1e-f895-47e1-83db-34fb3c2552fa"
      },
      "source": [
        "# reduzindo de 10 para 5 faixas de notas\n",
        "media_por_filme.hist(bins=5)"
      ],
      "execution_count": 32,
      "outputs": [
        {
          "output_type": "execute_result",
          "data": {
            "text/plain": [
              "<matplotlib.axes._subplots.AxesSubplot at 0x7fee5de99908>"
            ]
          },
          "metadata": {
            "tags": []
          },
          "execution_count": 32
        },
        {
          "output_type": "display_data",
          "data": {
            "image/png": "[encoded data removed]",
            "text/plain": [
              "<Figure size 432x288 with 1 Axes>"
            ]
          },
          "metadata": {
            "tags": [],
            "needs_background": "light"
          }
        }
      ]
    },
    {
      "cell_type": "markdown",
      "metadata": {
        "id": "HyvN54G3ZAvW"
      },
      "source": [
        "Podemos fazer um _box plot_ vertical usando Seaborn:"
      ]
    },
    {
      "cell_type": "code",
      "metadata": {
        "id": "08846lVoZAvY",
        "colab": {
          "base_uri": "https://localhost:8080/",
          "height": 270
        },
        "outputId": "a0fc5de1-eeb9-4e31-c7fd-df0c574dd366"
      },
      "source": [
        "sns.boxplot(y=media_por_filme)"
      ],
      "execution_count": 33,
      "outputs": [
        {
          "output_type": "execute_result",
          "data": {
            "text/plain": [
              "<matplotlib.axes._subplots.AxesSubplot at 0x7fee5de05eb8>"
            ]
          },
          "metadata": {
            "tags": []
          },
          "execution_count": 33
        },
        {
          "output_type": "display_data",
          "data": {
            "image/png": "[encoded data removed]",
            "text/plain": [
              "<Figure size 432x288 with 1 Axes>"
            ]
          },
          "metadata": {
            "tags": [],
            "needs_background": "light"
          }
        }
      ]
    },
    {
      "cell_type": "code",
      "metadata": {
        "id": "kP4hM0u_ZAvh",
        "colab": {
          "base_uri": "https://localhost:8080/"
        },
        "outputId": "d1192de8-aa22-42a9-eb5e-2a03e2cd5650"
      },
      "source": [
        "media_por_filme.describe()"
      ],
      "execution_count": 34,
      "outputs": [
        {
          "output_type": "execute_result",
          "data": {
            "text/plain": [
              "count    9724.000000\n",
              "mean        3.262448\n",
              "std         0.869874\n",
              "min         0.500000\n",
              "25%         2.800000\n",
              "50%         3.416667\n",
              "75%         3.911765\n",
              "max         5.000000\n",
              "Name: nota, dtype: float64"
            ]
          },
          "metadata": {
            "tags": []
          },
          "execution_count": 34
        }
      ]
    },
    {
      "cell_type": "markdown",
      "metadata": {
        "id": "S6Fz-UM-ZAvm"
      },
      "source": [
        "Com o Seaborn também é possível fazer histogramas e ele ainda plota uma curva que se aproxima da distribuição dos dados:"
      ]
    },
    {
      "cell_type": "code",
      "metadata": {
        "id": "RDAe3ItXZAvo",
        "colab": {
          "base_uri": "https://localhost:8080/",
          "height": 354
        },
        "outputId": "1043f493-e30b-4f82-beb4-49fa9e0cb1c5"
      },
      "source": [
        "sns.distplot(media_por_filme)"
      ],
      "execution_count": 35,
      "outputs": [
        {
          "output_type": "stream",
          "text": [
            "/usr/local/lib/python3.6/dist-packages/seaborn/distributions.py:2551: FutureWarning: `distplot` is a deprecated function and will be removed in a future version. Please adapt your code to use either `displot` (a figure-level function with similar flexibility) or `histplot` (an axes-level function for histograms).\n",
            "  warnings.warn(msg, FutureWarning)\n"
          ],
          "name": "stderr"
        },
        {
          "output_type": "execute_result",
          "data": {
            "text/plain": [
              "<matplotlib.axes._subplots.AxesSubplot at 0x7fee5dddb160>"
            ]
          },
          "metadata": {
            "tags": []
          },
          "execution_count": 35
        },
        {
          "output_type": "display_data",
          "data": {
            "image/png": "[encoded data removed]",
            "text/plain": [
              "<Figure size 432x288 with 1 Axes>"
            ]
          },
          "metadata": {
            "tags": [],
            "needs_background": "light"
          }
        }
      ]
    },
    {
      "cell_type": "code",
      "metadata": {
        "id": "hcZE1YAWZAvt",
        "colab": {
          "base_uri": "https://localhost:8080/",
          "height": 354
        },
        "outputId": "f9a9d2b8-724d-4dbd-e714-f29945b089ed"
      },
      "source": [
        "# definindo o mesmo número de intervalos (bins) usado como padrão pelo Pandas\n",
        "sns.distplot(media_por_filme, bins=10)"
      ],
      "execution_count": 36,
      "outputs": [
        {
          "output_type": "stream",
          "text": [
            "/usr/local/lib/python3.6/dist-packages/seaborn/distributions.py:2551: FutureWarning: `distplot` is a deprecated function and will be removed in a future version. Please adapt your code to use either `displot` (a figure-level function with similar flexibility) or `histplot` (an axes-level function for histograms).\n",
            "  warnings.warn(msg, FutureWarning)\n"
          ],
          "name": "stderr"
        },
        {
          "output_type": "execute_result",
          "data": {
            "text/plain": [
              "<matplotlib.axes._subplots.AxesSubplot at 0x7fee5de922e8>"
            ]
          },
          "metadata": {
            "tags": []
          },
          "execution_count": 36
        },
        {
          "output_type": "display_data",
          "data": {
            "image/png": "[encoded data removed]",
            "text/plain": [
              "<Figure size 432x288 with 1 Axes>"
            ]
          },
          "metadata": {
            "tags": [],
            "needs_background": "light"
          }
        }
      ]
    },
    {
      "cell_type": "markdown",
      "metadata": {
        "id": "g8mTXQyOZAv0"
      },
      "source": [
        "### 3.1 Matplotlib\n",
        "\n",
        "Tanto Pandas como Seaborn utilizam uma outra biblioteca por baixo dos panos, a Matplotlib. "
      ]
    },
    {
      "cell_type": "code",
      "metadata": {
        "id": "EW62HtqhZAv1"
      },
      "source": [
        "import matplotlib.pyplot as plt"
      ],
      "execution_count": 37,
      "outputs": []
    },
    {
      "cell_type": "code",
      "metadata": {
        "id": "bZCC06b-ZAv5",
        "colab": {
          "base_uri": "https://localhost:8080/",
          "height": 354
        },
        "outputId": "fbf02f91-5d3e-44aa-c57d-0a6759984e24"
      },
      "source": [
        "plt.figure(figsize=(15,5))\n",
        "plt.hist(media_por_filme)\n",
        "plt.title(\"Histograma das Médias dos filmes\")"
      ],
      "execution_count": 38,
      "outputs": [
        {
          "output_type": "execute_result",
          "data": {
            "text/plain": [
              "Text(0.5, 1.0, 'Histograma das Médias dos filmes')"
            ]
          },
          "metadata": {
            "tags": []
          },
          "execution_count": 38
        },
        {
          "output_type": "display_data",
          "data": {
            "image/png": "[encoded data removed]",
            "text/plain": [
              "<Figure size 1080x360 with 1 Axes>"
            ]
          },
          "metadata": {
            "tags": [],
            "needs_background": "light"
          }
        }
      ]
    },
    {
      "cell_type": "markdown",
      "metadata": {
        "id": "_lldzN-ZZAwB"
      },
      "source": [
        "## 4 Tipos de variáveis\n",
        "\n",
        "Vamos começar a explorar um novo _dataset_ e aproveitar para ver algumas classificações para os tipos de valores que as variáveis podem assumir.\n",
        "\n",
        "Vamos utilizar o [TMDB 5000 Movie Dataset](https://www.kaggle.com/tmdb/tmdb-movie-metadata), que é um conjunto de dados com cinco mil filmes e está disponível no Kaggle."
      ]
    },
    {
      "cell_type": "code",
      "metadata": {
        "id": "0MxMRJMoZAwC"
      },
      "source": [
        "# carregando novo dataset de filmes\n",
        "tmdb = pd.read_csv('https://github.com/brnocesar/learning-data-analysis/blob/main/datasets/aula5_tmdb_5000_movies.csv?raw=true')"
      ],
      "execution_count": 39,
      "outputs": []
    },
    {
      "cell_type": "code",
      "metadata": {
        "colab": {
          "base_uri": "https://localhost:8080/",
          "height": 748
        },
        "id": "qIrLA01ncGXX",
        "outputId": "32ebc888-f42b-4bf1-bc75-231f35b248f9"
      },
      "source": [
        "print(tmdb.shape)\n",
        "tmdb.head()"
      ],
      "execution_count": 40,
      "outputs": [
        {
          "output_type": "stream",
          "text": [
            "(4803, 20)\n"
          ],
          "name": "stdout"
        },
        {
          "output_type": "execute_result",
          "data": {
            "text/html": [
              "<div>\n",
              "<style scoped>\n",
              "    .dataframe tbody tr th:only-of-type {\n",
              "        vertical-align: middle;\n",
              "    }\n",
              "\n",
              "    .dataframe tbody tr th {\n",
              "        vertical-align: top;\n",
              "    }\n",
              "\n",
              "    .dataframe thead th {\n",
              "        text-align: right;\n",
              "    }\n",
              "</style>\n",
              "<table border=\"1\" class=\"dataframe\">\n",
              "  <thead>\n",
              "    <tr style=\"text-align: right;\">\n",
              "      <th></th>\n",
              "      <th>budget</th>\n",
              "      <th>genres</th>\n",
              "      <th>homepage</th>\n",
              "      <th>id</th>\n",
              "      <th>keywords</th>\n",
              "      <th>original_language</th>\n",
              "      <th>original_title</th>\n",
              "      <th>overview</th>\n",
              "      <th>popularity</th>\n",
              "      <th>production_companies</th>\n",
              "      <th>production_countries</th>\n",
              "      <th>release_date</th>\n",
              "      <th>revenue</th>\n",
              "      <th>runtime</th>\n",
              "      <th>spoken_languages</th>\n",
              "      <th>status</th>\n",
              "      <th>tagline</th>\n",
              "      <th>title</th>\n",
              "      <th>vote_average</th>\n",
              "      <th>vote_count</th>\n",
              "    </tr>\n",
              "  </thead>\n",
              "  <tbody>\n",
              "    <tr>\n",
              "      <th>0</th>\n",
              "      <td>237000000</td>\n",
              "      <td>[{\"id\": 28, \"name\": \"Action\"}, {\"id\": 12, \"nam...</td>\n",
              "      <td>http://www.avatarmovie.com/</td>\n",
              "      <td>19995</td>\n",
              "      <td>[{\"id\": 1463, \"name\": \"culture clash\"}, {\"id\":...</td>\n",
              "      <td>en</td>\n",
              "      <td>Avatar</td>\n",
              "      <td>In the 22nd century, a paraplegic Marine is di...</td>\n",
              "      <td>150.437577</td>\n",
              "      <td>[{\"name\": \"Ingenious Film Partners\", \"id\": 289...</td>\n",
              "      <td>[{\"iso_3166_1\": \"US\", \"name\": \"United States o...</td>\n",
              "      <td>2009-12-10</td>\n",
              "      <td>2787965087</td>\n",
              "      <td>162.0</td>\n",
              "      <td>[{\"iso_639_1\": \"en\", \"name\": \"English\"}, {\"iso...</td>\n",
              "      <td>Released</td>\n",
              "      <td>Enter the World of Pandora.</td>\n",
              "      <td>Avatar</td>\n",
              "      <td>7.2</td>\n",
              "      <td>11800</td>\n",
              "    </tr>\n",
              "    <tr>\n",
              "      <th>1</th>\n",
              "      <td>300000000</td>\n",
              "      <td>[{\"id\": 12, \"name\": \"Adventure\"}, {\"id\": 14, \"...</td>\n",
              "      <td>http://disney.go.com/disneypictures/pirates/</td>\n",
              "      <td>285</td>\n",
              "      <td>[{\"id\": 270, \"name\": \"ocean\"}, {\"id\": 726, \"na...</td>\n",
              "      <td>en</td>\n",
              "      <td>Pirates of the Caribbean: At World's End</td>\n",
              "      <td>Captain Barbossa, long believed to be dead, ha...</td>\n",
              "      <td>139.082615</td>\n",
              "      <td>[{\"name\": \"Walt Disney Pictures\", \"id\": 2}, {\"...</td>\n",
              "      <td>[{\"iso_3166_1\": \"US\", \"name\": \"United States o...</td>\n",
              "      <td>2007-05-19</td>\n",
              "      <td>961000000</td>\n",
              "      <td>169.0</td>\n",
              "      <td>[{\"iso_639_1\": \"en\", \"name\": \"English\"}]</td>\n",
              "      <td>Released</td>\n",
              "      <td>At the end of the world, the adventure begins.</td>\n",
              "      <td>Pirates of the Caribbean: At World's End</td>\n",
              "      <td>6.9</td>\n",
              "      <td>4500</td>\n",
              "    </tr>\n",
              "    <tr>\n",
              "      <th>2</th>\n",
              "      <td>245000000</td>\n",
              "      <td>[{\"id\": 28, \"name\": \"Action\"}, {\"id\": 12, \"nam...</td>\n",
              "      <td>http://www.sonypictures.com/movies/spectre/</td>\n",
              "      <td>206647</td>\n",
              "      <td>[{\"id\": 470, \"name\": \"spy\"}, {\"id\": 818, \"name...</td>\n",
              "      <td>en</td>\n",
              "      <td>Spectre</td>\n",
              "      <td>A cryptic message from Bond’s past sends him o...</td>\n",
              "      <td>107.376788</td>\n",
              "      <td>[{\"name\": \"Columbia Pictures\", \"id\": 5}, {\"nam...</td>\n",
              "      <td>[{\"iso_3166_1\": \"GB\", \"name\": \"United Kingdom\"...</td>\n",
              "      <td>2015-10-26</td>\n",
              "      <td>880674609</td>\n",
              "      <td>148.0</td>\n",
              "      <td>[{\"iso_639_1\": \"fr\", \"name\": \"Fran\\u00e7ais\"},...</td>\n",
              "      <td>Released</td>\n",
              "      <td>A Plan No One Escapes</td>\n",
              "      <td>Spectre</td>\n",
              "      <td>6.3</td>\n",
              "      <td>4466</td>\n",
              "    </tr>\n",
              "    <tr>\n",
              "      <th>3</th>\n",
              "      <td>250000000</td>\n",
              "      <td>[{\"id\": 28, \"name\": \"Action\"}, {\"id\": 80, \"nam...</td>\n",
              "      <td>http://www.thedarkknightrises.com/</td>\n",
              "      <td>49026</td>\n",
              "      <td>[{\"id\": 849, \"name\": \"dc comics\"}, {\"id\": 853,...</td>\n",
              "      <td>en</td>\n",
              "      <td>The Dark Knight Rises</td>\n",
              "      <td>Following the death of District Attorney Harve...</td>\n",
              "      <td>112.312950</td>\n",
              "      <td>[{\"name\": \"Legendary Pictures\", \"id\": 923}, {\"...</td>\n",
              "      <td>[{\"iso_3166_1\": \"US\", \"name\": \"United States o...</td>\n",
              "      <td>2012-07-16</td>\n",
              "      <td>1084939099</td>\n",
              "      <td>165.0</td>\n",
              "      <td>[{\"iso_639_1\": \"en\", \"name\": \"English\"}]</td>\n",
              "      <td>Released</td>\n",
              "      <td>The Legend Ends</td>\n",
              "      <td>The Dark Knight Rises</td>\n",
              "      <td>7.6</td>\n",
              "      <td>9106</td>\n",
              "    </tr>\n",
              "    <tr>\n",
              "      <th>4</th>\n",
              "      <td>260000000</td>\n",
              "      <td>[{\"id\": 28, \"name\": \"Action\"}, {\"id\": 12, \"nam...</td>\n",
              "      <td>http://movies.disney.com/john-carter</td>\n",
              "      <td>49529</td>\n",
              "      <td>[{\"id\": 818, \"name\": \"based on novel\"}, {\"id\":...</td>\n",
              "      <td>en</td>\n",
              "      <td>John Carter</td>\n",
              "      <td>John Carter is a war-weary, former military ca...</td>\n",
              "      <td>43.926995</td>\n",
              "      <td>[{\"name\": \"Walt Disney Pictures\", \"id\": 2}]</td>\n",
              "      <td>[{\"iso_3166_1\": \"US\", \"name\": \"United States o...</td>\n",
              "      <td>2012-03-07</td>\n",
              "      <td>284139100</td>\n",
              "      <td>132.0</td>\n",
              "      <td>[{\"iso_639_1\": \"en\", \"name\": \"English\"}]</td>\n",
              "      <td>Released</td>\n",
              "      <td>Lost in our world, found in another.</td>\n",
              "      <td>John Carter</td>\n",
              "      <td>6.1</td>\n",
              "      <td>2124</td>\n",
              "    </tr>\n",
              "  </tbody>\n",
              "</table>\n",
              "</div>"
            ],
            "text/plain": [
              "      budget  ... vote_count\n",
              "0  237000000  ...      11800\n",
              "1  300000000  ...       4500\n",
              "2  245000000  ...       4466\n",
              "3  250000000  ...       9106\n",
              "4  260000000  ...       2124\n",
              "\n",
              "[5 rows x 20 columns]"
            ]
          },
          "metadata": {
            "tags": []
          },
          "execution_count": 40
        }
      ]
    },
    {
      "cell_type": "markdown",
      "metadata": {
        "id": "jX2bY4I6dgUJ"
      },
      "source": [
        "### 4.1 Variáveis categóricas\n",
        "\n",
        "#### 4.1.1 Categórica nominal\n",
        "\n",
        "Vamos olhar para a coluna `original_language` desse novo _dataset_. Os valores dessa coluna são os idiomas de cada filme, e podemos dizer que cada idioma é uma categoria. De forma geral, os elementos/registros devem se encaixar em uma categoria apenas, não sendo possível fazer parte de mais de uma. Podem existir casos em que faça sentido cada registro ser classificado em masi de uma categoria, mas isso deve ser levado em conta nas análises."
      ]
    },
    {
      "cell_type": "code",
      "metadata": {
        "colab": {
          "base_uri": "https://localhost:8080/"
        },
        "id": "zPUhRRYQdyjt",
        "outputId": "bc7de951-1474-4584-9405-528edfd1a376"
      },
      "source": [
        "tmdb['original_language'].unique()"
      ],
      "execution_count": 41,
      "outputs": [
        {
          "output_type": "execute_result",
          "data": {
            "text/plain": [
              "array(['en', 'ja', 'fr', 'zh', 'es', 'de', 'hi', 'ru', 'ko', 'te', 'cn',\n",
              "       'it', 'nl', 'ta', 'sv', 'th', 'da', 'xx', 'hu', 'cs', 'pt', 'is',\n",
              "       'tr', 'nb', 'af', 'pl', 'he', 'ar', 'vi', 'ky', 'id', 'ro', 'fa',\n",
              "       'no', 'sl', 'ps', 'el'], dtype=object)"
            ]
          },
          "metadata": {
            "tags": []
          },
          "execution_count": 41
        }
      ]
    },
    {
      "cell_type": "markdown",
      "metadata": {
        "id": "smlOSnWoguLv"
      },
      "source": [
        "Nessa classificação de valores não existe uma ordem entre as categorias. Por exemplo, não faz sentido estabelecer uma ordem de melhor ou pior. Até poderíamos considerar uma ordem lexicográfica (alfabética), mas no momento isso não tem siginificado algum para o que queremos.\n",
        "\n",
        "Nessa situação dizemos que essa é uma **variável categórica nominal**.\n",
        "\n",
        "#### 4.1.2 Categórica ordinal\n",
        "\n",
        "Essa classificação é destinada para as variáveis que representam categorias, mas que possuem uma ordem entre elas.\n",
        "\n",
        "Por exemplo, os níveis de educação formal, em que temos: primeiro grau (ensino fundamental), segundo grau (ensino médio) e terceiro grau (ensino superior), Essas categorias possuem uma ordem bem definida em que devem ser cursadas. Mas apesar disso não significa que o intervalo entre cada uma das categorias ordinais seja o mesmo, ou ainda que seja possível realizar operações algébricas entre as categorias.\n",
        "\n",
        "As variáveis categóricas podem ou não representar quantidades.\n"
      ]
    },
    {
      "cell_type": "markdown",
      "metadata": {
        "id": "ytVfOikidjva"
      },
      "source": [
        "### 4.2 Variáveis quantitativas\n",
        "\n",
        "As variáveis numéricas que representam uma quantidade, possuem ordem e aceitam operações algébricas são chamadas de quantitativas e podem se dividir em dois grupos:\n",
        "\n",
        "#### 4.2.1 Quantitativa contínua\n",
        "\n",
        "Seus valores podem assumir qualquer valor em um certo _range_, ou seja, existem infinitos valores possíveis. Uma coluna com esse tipo de valor é a do orçamento (`budget`). \n",
        "\n",
        "#### 4.2.2 Quantitativa discreta\n",
        "\n",
        "Esse tipo de valor é utilizado para as variáveis que podem assumir apenas alguns valores bem definidos em um _range_. Por exemplo, a quantidade de votos (`vote_count`), não é possível que haja 3,5 votos em um filme, deve ser 3 ou 4. Além disso, o intervalo entre cada valor possível deve ser igual."
      ]
    },
    {
      "cell_type": "markdown",
      "metadata": {
        "id": "z2gXQ7ViltFK"
      },
      "source": [
        "## 5 Visualizando gráficos (de novo)\n",
        "\n",
        "Uma das formas mais básicas de comparar categorias é através da contagem de quantos elementos/registros estão presentes em cada uma delas. Então vamos aproveitar para fazer _categorical plots_ utilizando duas abordagens: uma alto nível e outra um pouco menos alto nível (não vou dizer baixo nível porque é Python né...).\n",
        "\n",
        "Ambas as abordagens farão uso de funções da biblioteca [`seaborn`](https://seaborn.pydata.org/tutorial/categorical.html)."
      ]
    },
    {
      "cell_type": "markdown",
      "metadata": {
        "id": "pFHJgYkdy8S0"
      },
      "source": [
        "### 5.1 Utilizando função de (menos) alto nível\n",
        "\n",
        "Começamos extraindo a coluna dos idiomas do _DataFrame_ original, obetendo assim uma _series_ de dados e depois aplicamos o método que conta as aparições dos difentes valores."
      ]
    },
    {
      "cell_type": "code",
      "metadata": {
        "colab": {
          "base_uri": "https://localhost:8080/"
        },
        "id": "0_FMXaaMYoOF",
        "outputId": "2bfb4802-fc84-4abc-f4d0-6d81e0ca9112"
      },
      "source": [
        "filmes_por_idioma = tmdb['original_language'].value_counts()\n",
        "filmes_por_idioma.head()"
      ],
      "execution_count": 42,
      "outputs": [
        {
          "output_type": "execute_result",
          "data": {
            "text/plain": [
              "en    4505\n",
              "fr      70\n",
              "es      32\n",
              "de      27\n",
              "zh      27\n",
              "Name: original_language, dtype: int64"
            ]
          },
          "metadata": {
            "tags": []
          },
          "execution_count": 42
        }
      ]
    },
    {
      "cell_type": "markdown",
      "metadata": {
        "id": "bCRpyx9nZv2J"
      },
      "source": [
        "O resultado contínua sendo uma _series_, mas agora o índice é a sigla (em inglês) do idioma e o valor é a quantidade de filmes com esse idioma:"
      ]
    },
    {
      "cell_type": "code",
      "metadata": {
        "colab": {
          "base_uri": "https://localhost:8080/"
        },
        "id": "olD3OoDiZcXc",
        "outputId": "9db88a52-e8b5-4ac4-8b7a-c1009f076ae0"
      },
      "source": [
        "filmes_por_idioma.index"
      ],
      "execution_count": 43,
      "outputs": [
        {
          "output_type": "execute_result",
          "data": {
            "text/plain": [
              "Index(['en', 'fr', 'es', 'de', 'zh', 'hi', 'ja', 'it', 'cn', 'ko', 'ru', 'pt',\n",
              "       'da', 'sv', 'fa', 'nl', 'he', 'th', 'ar', 'ta', 'cs', 'id', 'ro', 'no',\n",
              "       'ps', 'vi', 'te', 'is', 'xx', 'ky', 'el', 'nb', 'sl', 'hu', 'af', 'pl',\n",
              "       'tr'],\n",
              "      dtype='object')"
            ]
          },
          "metadata": {
            "tags": []
          },
          "execution_count": 43
        }
      ]
    },
    {
      "cell_type": "code",
      "metadata": {
        "colab": {
          "base_uri": "https://localhost:8080/"
        },
        "id": "ivER_pDHaA4X",
        "outputId": "257f411e-fa36-4ead-e091-d2fa4d50251b"
      },
      "source": [
        "filmes_por_idioma.values"
      ],
      "execution_count": 44,
      "outputs": [
        {
          "output_type": "execute_result",
          "data": {
            "text/plain": [
              "array([4505,   70,   32,   27,   27,   19,   16,   14,   12,   11,   11,\n",
              "          9,    7,    5,    4,    4,    3,    3,    2,    2,    2,    2,\n",
              "          2,    1,    1,    1,    1,    1,    1,    1,    1,    1,    1,\n",
              "          1,    1,    1,    1])"
            ]
          },
          "metadata": {
            "tags": []
          },
          "execution_count": 44
        }
      ]
    },
    {
      "cell_type": "markdown",
      "metadata": {
        "id": "9dsv542-aHrG"
      },
      "source": [
        "Se quisermos continuar trabalhando com um _DataFrame_ ao invés de uma _series_, usamos o método `to_frame()` para transformá-lo (não _implace_):"
      ]
    },
    {
      "cell_type": "code",
      "metadata": {
        "colab": {
          "base_uri": "https://localhost:8080/",
          "height": 0
        },
        "id": "SerQPHhjajS1",
        "outputId": "c6c0c63c-3b83-45bb-e50b-ebc5a27ad0df"
      },
      "source": [
        "filmes_por_idioma.to_frame().head()"
      ],
      "execution_count": 45,
      "outputs": [
        {
          "output_type": "execute_result",
          "data": {
            "text/html": [
              "<div>\n",
              "<style scoped>\n",
              "    .dataframe tbody tr th:only-of-type {\n",
              "        vertical-align: middle;\n",
              "    }\n",
              "\n",
              "    .dataframe tbody tr th {\n",
              "        vertical-align: top;\n",
              "    }\n",
              "\n",
              "    .dataframe thead th {\n",
              "        text-align: right;\n",
              "    }\n",
              "</style>\n",
              "<table border=\"1\" class=\"dataframe\">\n",
              "  <thead>\n",
              "    <tr style=\"text-align: right;\">\n",
              "      <th></th>\n",
              "      <th>original_language</th>\n",
              "    </tr>\n",
              "  </thead>\n",
              "  <tbody>\n",
              "    <tr>\n",
              "      <th>en</th>\n",
              "      <td>4505</td>\n",
              "    </tr>\n",
              "    <tr>\n",
              "      <th>fr</th>\n",
              "      <td>70</td>\n",
              "    </tr>\n",
              "    <tr>\n",
              "      <th>es</th>\n",
              "      <td>32</td>\n",
              "    </tr>\n",
              "    <tr>\n",
              "      <th>de</th>\n",
              "      <td>27</td>\n",
              "    </tr>\n",
              "    <tr>\n",
              "      <th>zh</th>\n",
              "      <td>27</td>\n",
              "    </tr>\n",
              "  </tbody>\n",
              "</table>\n",
              "</div>"
            ],
            "text/plain": [
              "    original_language\n",
              "en               4505\n",
              "fr                 70\n",
              "es                 32\n",
              "de                 27\n",
              "zh                 27"
            ]
          },
          "metadata": {
            "tags": []
          },
          "execution_count": 45
        }
      ]
    },
    {
      "cell_type": "markdown",
      "metadata": {
        "id": "xHBIxouJbELc"
      },
      "source": [
        "e podemos resetar os indíces para separá-lo em outra coluna:"
      ]
    },
    {
      "cell_type": "code",
      "metadata": {
        "colab": {
          "base_uri": "https://localhost:8080/",
          "height": 0
        },
        "id": "es7VExBNautt",
        "outputId": "ead27048-7c29-4914-f8d1-6587af94b770"
      },
      "source": [
        "filmes_por_idioma.to_frame().reset_index().head()"
      ],
      "execution_count": 46,
      "outputs": [
        {
          "output_type": "execute_result",
          "data": {
            "text/html": [
              "<div>\n",
              "<style scoped>\n",
              "    .dataframe tbody tr th:only-of-type {\n",
              "        vertical-align: middle;\n",
              "    }\n",
              "\n",
              "    .dataframe tbody tr th {\n",
              "        vertical-align: top;\n",
              "    }\n",
              "\n",
              "    .dataframe thead th {\n",
              "        text-align: right;\n",
              "    }\n",
              "</style>\n",
              "<table border=\"1\" class=\"dataframe\">\n",
              "  <thead>\n",
              "    <tr style=\"text-align: right;\">\n",
              "      <th></th>\n",
              "      <th>index</th>\n",
              "      <th>original_language</th>\n",
              "    </tr>\n",
              "  </thead>\n",
              "  <tbody>\n",
              "    <tr>\n",
              "      <th>0</th>\n",
              "      <td>en</td>\n",
              "      <td>4505</td>\n",
              "    </tr>\n",
              "    <tr>\n",
              "      <th>1</th>\n",
              "      <td>fr</td>\n",
              "      <td>70</td>\n",
              "    </tr>\n",
              "    <tr>\n",
              "      <th>2</th>\n",
              "      <td>es</td>\n",
              "      <td>32</td>\n",
              "    </tr>\n",
              "    <tr>\n",
              "      <th>3</th>\n",
              "      <td>de</td>\n",
              "      <td>27</td>\n",
              "    </tr>\n",
              "    <tr>\n",
              "      <th>4</th>\n",
              "      <td>zh</td>\n",
              "      <td>27</td>\n",
              "    </tr>\n",
              "  </tbody>\n",
              "</table>\n",
              "</div>"
            ],
            "text/plain": [
              "  index  original_language\n",
              "0    en               4505\n",
              "1    fr                 70\n",
              "2    es                 32\n",
              "3    de                 27\n",
              "4    zh                 27"
            ]
          },
          "metadata": {
            "tags": []
          },
          "execution_count": 46
        }
      ]
    },
    {
      "cell_type": "code",
      "metadata": {
        "colab": {
          "base_uri": "https://localhost:8080/",
          "height": 0
        },
        "id": "RIdKkkUwbljz",
        "outputId": "b9b6e13d-ed41-46f0-9916-2c43e8a2caab"
      },
      "source": [
        "filmes_por_idioma_df = filmes_por_idioma.to_frame().reset_index()\n",
        "filmes_por_idioma_df.columns = ['original_language', 'total']\n",
        "filmes_por_idioma_df.head()"
      ],
      "execution_count": 47,
      "outputs": [
        {
          "output_type": "execute_result",
          "data": {
            "text/html": [
              "<div>\n",
              "<style scoped>\n",
              "    .dataframe tbody tr th:only-of-type {\n",
              "        vertical-align: middle;\n",
              "    }\n",
              "\n",
              "    .dataframe tbody tr th {\n",
              "        vertical-align: top;\n",
              "    }\n",
              "\n",
              "    .dataframe thead th {\n",
              "        text-align: right;\n",
              "    }\n",
              "</style>\n",
              "<table border=\"1\" class=\"dataframe\">\n",
              "  <thead>\n",
              "    <tr style=\"text-align: right;\">\n",
              "      <th></th>\n",
              "      <th>original_language</th>\n",
              "      <th>total</th>\n",
              "    </tr>\n",
              "  </thead>\n",
              "  <tbody>\n",
              "    <tr>\n",
              "      <th>0</th>\n",
              "      <td>en</td>\n",
              "      <td>4505</td>\n",
              "    </tr>\n",
              "    <tr>\n",
              "      <th>1</th>\n",
              "      <td>fr</td>\n",
              "      <td>70</td>\n",
              "    </tr>\n",
              "    <tr>\n",
              "      <th>2</th>\n",
              "      <td>es</td>\n",
              "      <td>32</td>\n",
              "    </tr>\n",
              "    <tr>\n",
              "      <th>3</th>\n",
              "      <td>de</td>\n",
              "      <td>27</td>\n",
              "    </tr>\n",
              "    <tr>\n",
              "      <th>4</th>\n",
              "      <td>zh</td>\n",
              "      <td>27</td>\n",
              "    </tr>\n",
              "  </tbody>\n",
              "</table>\n",
              "</div>"
            ],
            "text/plain": [
              "  original_language  total\n",
              "0                en   4505\n",
              "1                fr     70\n",
              "2                es     32\n",
              "3                de     27\n",
              "4                zh     27"
            ]
          },
          "metadata": {
            "tags": []
          },
          "execution_count": 47
        }
      ]
    },
    {
      "cell_type": "markdown",
      "metadata": {
        "id": "VWubFCy2cj0d"
      },
      "source": [
        "Agora que temos um _df_ com o total de filmes para cada idioma vamos plotar um gráfico de barras:"
      ]
    },
    {
      "cell_type": "code",
      "metadata": {
        "colab": {
          "base_uri": "https://localhost:8080/",
          "height": 0
        },
        "id": "599OXEmJccHn",
        "outputId": "97483683-7b17-45c5-bf92-5c5701419be2"
      },
      "source": [
        "sns.barplot(x='original_language', y='total', data=filmes_por_idioma_df)"
      ],
      "execution_count": 48,
      "outputs": [
        {
          "output_type": "execute_result",
          "data": {
            "text/plain": [
              "<matplotlib.axes._subplots.AxesSubplot at 0x7fee5d713710>"
            ]
          },
          "metadata": {
            "tags": []
          },
          "execution_count": 48
        },
        {
          "output_type": "display_data",
          "data": {
            "image/png": "[encoded data removed]",
            "text/plain": [
              "<Figure size 432x288 with 1 Axes>"
            ]
          },
          "metadata": {
            "tags": [],
            "needs_background": "light"
          }
        }
      ]
    },
    {
      "cell_type": "code",
      "metadata": {
        "colab": {
          "base_uri": "https://localhost:8080/",
          "height": 0
        },
        "id": "70MMd_FadiZj",
        "outputId": "56475dd4-2d91-4c1b-c4ca-00cb1c7eb1fe"
      },
      "source": [
        "# removendo o idioma inglês\n",
        "sns.barplot(x='original_language', y='total', data=filmes_por_idioma_df.drop(0))"
      ],
      "execution_count": 49,
      "outputs": [
        {
          "output_type": "execute_result",
          "data": {
            "text/plain": [
              "<matplotlib.axes._subplots.AxesSubplot at 0x7fee5d586710>"
            ]
          },
          "metadata": {
            "tags": []
          },
          "execution_count": 49
        },
        {
          "output_type": "display_data",
          "data": {
            "image/png": "[encoded data removed]",
            "text/plain": [
              "<Figure size 432x288 with 1 Axes>"
            ]
          },
          "metadata": {
            "tags": [],
            "needs_background": "light"
          }
        }
      ]
    },
    {
      "cell_type": "markdown",
      "metadata": {
        "id": "jrYgmIued8CQ"
      },
      "source": [
        "### 5.2 Utilizando função de alto nível\n",
        "\n",
        "Existem funções que não precisam da preparação de um _df_, podemos usar o original e apenas indicar o tipo de gráfigo, que no caso é \"contagem\":"
      ]
    },
    {
      "cell_type": "code",
      "metadata": {
        "colab": {
          "base_uri": "https://localhost:8080/",
          "height": 0
        },
        "id": "cctPuzAMekZf",
        "outputId": "42fd0dbb-6fd8-40e0-c769-c142b5c4d57d"
      },
      "source": [
        "sns.catplot(x='original_language', kind='count', data=tmdb)"
      ],
      "execution_count": 50,
      "outputs": [
        {
          "output_type": "execute_result",
          "data": {
            "text/plain": [
              "<seaborn.axisgrid.FacetGrid at 0x7fee5d451908>"
            ]
          },
          "metadata": {
            "tags": []
          },
          "execution_count": 50
        },
        {
          "output_type": "display_data",
          "data": {
            "image/png": "[encoded data removed]",
            "text/plain": [
              "<Figure size 360x360 with 1 Axes>"
            ]
          },
          "metadata": {
            "tags": [],
            "needs_background": "light"
          }
        }
      ]
    },
    {
      "cell_type": "code",
      "metadata": {
        "colab": {
          "base_uri": "https://localhost:8080/",
          "height": 0
        },
        "id": "lF38lZHifGYm",
        "outputId": "b62cca26-0a07-4eaa-935f-091fe2e5e5c9"
      },
      "source": [
        "# sns.catplot(x='original_language', kind='count', data=tmdb.query(\"original_language != 'en'\"))\n",
        "\n",
        "# removendo os filmes com idioma em ingles\n",
        "tmdb_sem_ingles = tmdb.drop(tmdb[tmdb['original_language']=='en'].index)\n",
        "sns.catplot(x='original_language', kind='count', data=tmdb_sem_ingles)"
      ],
      "execution_count": 51,
      "outputs": [
        {
          "output_type": "execute_result",
          "data": {
            "text/plain": [
              "<seaborn.axisgrid.FacetGrid at 0x7fee5d3c7390>"
            ]
          },
          "metadata": {
            "tags": []
          },
          "execution_count": 51
        },
        {
          "output_type": "display_data",
          "data": {
            "image/png": "[encoded data removed]",
            "text/plain": [
              "<Figure size 360x360 with 1 Axes>"
            ]
          },
          "metadata": {
            "tags": [],
            "needs_background": "light"
          }
        }
      ]
    },
    {
      "cell_type": "markdown",
      "metadata": {
        "id": "oOb7nMOjgddA"
      },
      "source": [
        "Perceba que diferente da abordagem \"menos alto nível\", aqui as categorias não foram ordenadas. Isso acabamos ganhando de graça ao utilizar o `value_counts()` antes.\n",
        "\n",
        "### 5.3 Gráfico de pizza\n",
        "\n",
        "Este é outro tipo de gráfico bastante comum para representar distribuições em categorias. O `seaborn` não plota esse tipo de gráfico, mas o `matplotlib` sim, então partimoos disso:mm"
      ]
    },
    {
      "cell_type": "code",
      "metadata": {
        "colab": {
          "base_uri": "https://localhost:8080/",
          "height": 0
        },
        "id": "pCm3JxA9h5gd",
        "outputId": "a96a1f0d-622a-41ac-ddac-b7fb6d319562"
      },
      "source": [
        "plt.pie(filmes_por_idioma_df['total'], labels=filmes_por_idioma_df['original_language'])"
      ],
      "execution_count": 52,
      "outputs": [
        {
          "output_type": "execute_result",
          "data": {
            "text/plain": [
              "([<matplotlib.patches.Wedge at 0x7fee5dce9710>,\n",
              "  <matplotlib.patches.Wedge at 0x7fee5dd0fd68>,\n",
              "  <matplotlib.patches.Wedge at 0x7fee5dc5c5f8>,\n",
              "  <matplotlib.patches.Wedge at 0x7fee5dca6470>,\n",
              "  <matplotlib.patches.Wedge at 0x7fee5de48940>,\n",
              "  <matplotlib.patches.Wedge at 0x7fee5dc7b080>,\n",
              "  <matplotlib.patches.Wedge at 0x7fee5dcda160>,\n",
              "  <matplotlib.patches.Wedge at 0x7fee5dc67390>,\n",
              "  <matplotlib.patches.Wedge at 0x7fee5de44e80>,\n",
              "  <matplotlib.patches.Wedge at 0x7fee5dc63e80>,\n",
              "  <matplotlib.patches.Wedge at 0x7fee5aa42cc0>,\n",
              "  <matplotlib.patches.Wedge at 0x7fee5dc46b38>,\n",
              "  <matplotlib.patches.Wedge at 0x7fee5dc46940>,\n",
              "  <matplotlib.patches.Wedge at 0x7fee5dce3390>,\n",
              "  <matplotlib.patches.Wedge at 0x7fee5dce3438>,\n",
              "  <matplotlib.patches.Wedge at 0x7fee5dbe1978>,\n",
              "  <matplotlib.patches.Wedge at 0x7fee5dbc7390>,\n",
              "  <matplotlib.patches.Wedge at 0x7fee5de05668>,\n",
              "  <matplotlib.patches.Wedge at 0x7fee5dc3fdd8>,\n",
              "  <matplotlib.patches.Wedge at 0x7fee5d5fd320>,\n",
              "  <matplotlib.patches.Wedge at 0x7fee5d5fdd30>,\n",
              "  <matplotlib.patches.Wedge at 0x7fee5d6e59b0>,\n",
              "  <matplotlib.patches.Wedge at 0x7fee5d68a550>,\n",
              "  <matplotlib.patches.Wedge at 0x7fee5d6995f8>,\n",
              "  <matplotlib.patches.Wedge at 0x7fee5d72d0b8>,\n",
              "  <matplotlib.patches.Wedge at 0x7fee5d5df828>,\n",
              "  <matplotlib.patches.Wedge at 0x7fee5d5df710>,\n",
              "  <matplotlib.patches.Wedge at 0x7fee5d5e52b0>,\n",
              "  <matplotlib.patches.Wedge at 0x7fee5d5e5c50>,\n",
              "  <matplotlib.patches.Wedge at 0x7fee5d5e5e80>,\n",
              "  <matplotlib.patches.Wedge at 0x7fee5d59e7b8>,\n",
              "  <matplotlib.patches.Wedge at 0x7fee5d5f63c8>,\n",
              "  <matplotlib.patches.Wedge at 0x7fee5d5f6be0>,\n",
              "  <matplotlib.patches.Wedge at 0x7fee5d7280b8>,\n",
              "  <matplotlib.patches.Wedge at 0x7fee5d728dd8>,\n",
              "  <matplotlib.patches.Wedge at 0x7fee5d77f470>,\n",
              "  <matplotlib.patches.Wedge at 0x7fee5d58a588>],\n",
              " [Text(-1.0791697536499925, 0.2130554923183512, 'en'),\n",
              "  Text(1.0355355017029462, -0.3710339940124459, 'fr'),\n",
              "  Text(1.0579676486019882, -0.3011718023181785, 'es'),\n",
              "  Text(1.0687996606645356, -0.26012936274741094, 'de'),\n",
              "  Text(1.0773191105706255, -0.22222406260195313, 'zh'),\n",
              "  Text(1.0835167978583342, -0.18971386021801853, 'hi'),\n",
              "  Text(1.0875756432724297, -0.16486121484618815, 'ja'),\n",
              "  Text(1.0906010773146022, -0.14348968659882622, 'it'),\n",
              "  Text(1.092883487371409, -0.12492270822755745, 'cn'),\n",
              "  Text(1.0946390911069936, -0.10846778425161549, 'ko'),\n",
              "  Text(1.0960865535188649, -0.09270527058984593, 'ru'),\n",
              "  Text(1.0972054830031333, -0.07835896928789601, 'pt'),\n",
              "  Text(1.097965443340663, -0.06687215586282344, 'da'),\n",
              "  Text(1.0984565010300316, -0.05825217030171998, 'sv'),\n",
              "  Text(1.0987803851616647, -0.0517847968421653, 'fa'),\n",
              "  Text(1.0990363161210686, -0.04603450713357274, 'nl'),\n",
              "  Text(1.0992355702663055, -0.04100196411527794, 'he'),\n",
              "  Text(1.0993880184234357, -0.03668766750546649, 'th'),\n",
              "  Text(1.0995021239019234, -0.033091985965784415, 'ar'),\n",
              "  Text(1.099584941078101, -0.03021518416739545, 'ta'),\n",
              "  Text(1.0996602312343366, -0.027338175536150495, 'cs'),\n",
              "  Text(1.099727993855245, -0.024460979766119193, 'id'),\n",
              "  Text(1.0997882284769684, -0.02158361655264929, 'ro'),\n",
              "  Text(1.0998284639438185, -0.01942549610642471, 'no'),\n",
              "  Text(1.0998529348820232, -0.01798670707495573, 'ps'),\n",
              "  Text(1.0998755236058106, -0.01654788726224571, 'vi'),\n",
              "  Text(1.0998962300765243, -0.01510903913059323, 'te'),\n",
              "  Text(1.0999150542587282, -0.013670165142345335, 'is'),\n",
              "  Text(1.0999319961202083, -0.012231267759896247, 'xx'),\n",
              "  Text(1.0999470556319713, -0.01079234944567632, 'ky'),\n",
              "  Text(1.099960232768245, -0.00935341266215563, 'el'),\n",
              "  Text(1.0999715275064792, -0.007914459871831963, 'nb'),\n",
              "  Text(1.0999809398273452, -0.006475493537234394, 'sl'),\n",
              "  Text(1.0999884697147349, -0.005036516120911278, 'hu'),\n",
              "  Text(1.0999941171557621, -0.0035975300854338356, 'af'),\n",
              "  Text(1.0999978821407626, -0.0021585378933851127, 'pl'),\n",
              "  Text(1.0999997646632929, -0.0007195420073586872, 'tr')])"
            ]
          },
          "metadata": {
            "tags": []
          },
          "execution_count": 52
        },
        {
          "output_type": "display_data",
          "data": {
            "image/png": "[encoded data removed]",
            "text/plain": [
              "<Figure size 432x288 with 1 Axes>"
            ]
          },
          "metadata": {
            "tags": []
          }
        }
      ]
    },
    {
      "cell_type": "markdown",
      "metadata": {
        "id": "46wREQ5xij16"
      },
      "source": [
        "Esse tipo de gráfico tem seu uso altamente desencorajado, em geral pode ser usado com pouquissimas categorias.\n",
        "\n",
        "### 5.4 Passando uma mensagem\n",
        "\n",
        "O objetivo da área de visualização de dados é ilustrar uma mensagem da forma mais simples e clara possível. Anteriormente com os gráficos de barras percebemos que o idioma inglês é dominante, e para deixar isso explícito podemos comparar inglês com \"todo o resto\"."
      ]
    },
    {
      "cell_type": "code",
      "metadata": {
        "colab": {
          "base_uri": "https://localhost:8080/"
        },
        "id": "bRupqdYtsIA2",
        "outputId": "73c27132-70da-4218-e7f5-de0898276c98"
      },
      "source": [
        "# determinamos as quantidades\n",
        "total_por_idioma = tmdb['original_language'].value_counts()\n",
        "total_ingles = total_por_idioma.loc['en']\n",
        "total_resto = total_por_idioma.sum() - total_ingles\n",
        "print(total_ingles, total_resto)"
      ],
      "execution_count": 53,
      "outputs": [
        {
          "output_type": "stream",
          "text": [
            "4505 298\n"
          ],
          "name": "stdout"
        }
      ]
    },
    {
      "cell_type": "code",
      "metadata": {
        "colab": {
          "base_uri": "https://localhost:8080/"
        },
        "id": "uq7uHCKctE7j",
        "outputId": "0f5e1e7a-97ea-4401-8705-2093ae9fe42b"
      },
      "source": [
        "# dicionario associando as quantidades com rótulos\n",
        "dados_idiomas = {\n",
        "    'idiomas': ['ingles', 'outros'],\n",
        "    'total': [total_ingles, total_resto]\n",
        "}\n",
        "dados_idiomas"
      ],
      "execution_count": 54,
      "outputs": [
        {
          "output_type": "execute_result",
          "data": {
            "text/plain": [
              "{'idiomas': ['ingles', 'outros'], 'total': [4505, 298]}"
            ]
          },
          "metadata": {
            "tags": []
          },
          "execution_count": 54
        }
      ]
    },
    {
      "cell_type": "code",
      "metadata": {
        "colab": {
          "base_uri": "https://localhost:8080/",
          "height": 0
        },
        "id": "iVfqGlbrtoiz",
        "outputId": "421b9528-c534-4f00-d59c-91a8fa4dab05"
      },
      "source": [
        "# cria um df a partir do dicionario\n",
        "dados_idiomas = pd.DataFrame(dados_idiomas)\n",
        "dados_idiomas"
      ],
      "execution_count": 55,
      "outputs": [
        {
          "output_type": "execute_result",
          "data": {
            "text/html": [
              "<div>\n",
              "<style scoped>\n",
              "    .dataframe tbody tr th:only-of-type {\n",
              "        vertical-align: middle;\n",
              "    }\n",
              "\n",
              "    .dataframe tbody tr th {\n",
              "        vertical-align: top;\n",
              "    }\n",
              "\n",
              "    .dataframe thead th {\n",
              "        text-align: right;\n",
              "    }\n",
              "</style>\n",
              "<table border=\"1\" class=\"dataframe\">\n",
              "  <thead>\n",
              "    <tr style=\"text-align: right;\">\n",
              "      <th></th>\n",
              "      <th>idiomas</th>\n",
              "      <th>total</th>\n",
              "    </tr>\n",
              "  </thead>\n",
              "  <tbody>\n",
              "    <tr>\n",
              "      <th>0</th>\n",
              "      <td>ingles</td>\n",
              "      <td>4505</td>\n",
              "    </tr>\n",
              "    <tr>\n",
              "      <th>1</th>\n",
              "      <td>outros</td>\n",
              "      <td>298</td>\n",
              "    </tr>\n",
              "  </tbody>\n",
              "</table>\n",
              "</div>"
            ],
            "text/plain": [
              "  idiomas  total\n",
              "0  ingles   4505\n",
              "1  outros    298"
            ]
          },
          "metadata": {
            "tags": []
          },
          "execution_count": 55
        }
      ]
    },
    {
      "cell_type": "code",
      "metadata": {
        "colab": {
          "base_uri": "https://localhost:8080/",
          "height": 0
        },
        "id": "KoipIFNbt92o",
        "outputId": "76402842-0fb9-4d22-b55e-432e4f6af044"
      },
      "source": [
        "# grafico de barras\n",
        "sns.barplot(x='idiomas', y='total', data=dados_idiomas)"
      ],
      "execution_count": 56,
      "outputs": [
        {
          "output_type": "execute_result",
          "data": {
            "text/plain": [
              "<matplotlib.axes._subplots.AxesSubplot at 0x7fee5d4640b8>"
            ]
          },
          "metadata": {
            "tags": []
          },
          "execution_count": 56
        },
        {
          "output_type": "display_data",
          "data": {
            "image/png": "[encoded data removed]",
            "text/plain": [
              "<Figure size 432x288 with 1 Axes>"
            ]
          },
          "metadata": {
            "tags": [],
            "needs_background": "light"
          }
        }
      ]
    },
    {
      "cell_type": "markdown",
      "metadata": {
        "id": "0jvJoUXQwjFp"
      },
      "source": [
        "### 5.5 Analisando todo o resto\n",
        "\n",
        "Acima já vimos que o inglês é o idioma dominante, então vamos análisar um conjunto de dados apenas com idiomas diferentes do inglês. Anteriormente já plotamos gráficos de barra excluindo o idioma inglês, mas agora vamos refinar a apresentação do gráfico."
      ]
    },
    {
      "cell_type": "code",
      "metadata": {
        "colab": {
          "base_uri": "https://localhost:8080/",
          "height": 0
        },
        "id": "cg2huQ9wxH6b",
        "outputId": "c960037b-2594-459b-d1ea-ca7d030e0bfb"
      },
      "source": [
        "filmes_nao_ingles = tmdb.query(\"original_language != 'en'\")\n",
        "filmes_nao_ingles.head()"
      ],
      "execution_count": 57,
      "outputs": [
        {
          "output_type": "execute_result",
          "data": {
            "text/html": [
              "<div>\n",
              "<style scoped>\n",
              "    .dataframe tbody tr th:only-of-type {\n",
              "        vertical-align: middle;\n",
              "    }\n",
              "\n",
              "    .dataframe tbody tr th {\n",
              "        vertical-align: top;\n",
              "    }\n",
              "\n",
              "    .dataframe thead th {\n",
              "        text-align: right;\n",
              "    }\n",
              "</style>\n",
              "<table border=\"1\" class=\"dataframe\">\n",
              "  <thead>\n",
              "    <tr style=\"text-align: right;\">\n",
              "      <th></th>\n",
              "      <th>budget</th>\n",
              "      <th>genres</th>\n",
              "      <th>homepage</th>\n",
              "      <th>id</th>\n",
              "      <th>keywords</th>\n",
              "      <th>original_language</th>\n",
              "      <th>original_title</th>\n",
              "      <th>overview</th>\n",
              "      <th>popularity</th>\n",
              "      <th>production_companies</th>\n",
              "      <th>production_countries</th>\n",
              "      <th>release_date</th>\n",
              "      <th>revenue</th>\n",
              "      <th>runtime</th>\n",
              "      <th>spoken_languages</th>\n",
              "      <th>status</th>\n",
              "      <th>tagline</th>\n",
              "      <th>title</th>\n",
              "      <th>vote_average</th>\n",
              "      <th>vote_count</th>\n",
              "    </tr>\n",
              "  </thead>\n",
              "  <tbody>\n",
              "    <tr>\n",
              "      <th>97</th>\n",
              "      <td>15000000</td>\n",
              "      <td>[{\"id\": 28, \"name\": \"Action\"}, {\"id\": 12, \"nam...</td>\n",
              "      <td>NaN</td>\n",
              "      <td>315011</td>\n",
              "      <td>[{\"id\": 1299, \"name\": \"monster\"}, {\"id\": 7671,...</td>\n",
              "      <td>ja</td>\n",
              "      <td>シン・ゴジラ</td>\n",
              "      <td>From the mind behind Evangelion comes a hit la...</td>\n",
              "      <td>9.476999</td>\n",
              "      <td>[{\"name\": \"Cine Bazar\", \"id\": 5896}, {\"name\": ...</td>\n",
              "      <td>[{\"iso_3166_1\": \"JP\", \"name\": \"Japan\"}]</td>\n",
              "      <td>2016-07-29</td>\n",
              "      <td>77000000</td>\n",
              "      <td>120.0</td>\n",
              "      <td>[{\"iso_639_1\": \"it\", \"name\": \"Italiano\"}, {\"is...</td>\n",
              "      <td>Released</td>\n",
              "      <td>A god incarnate. A city doomed.</td>\n",
              "      <td>Shin Godzilla</td>\n",
              "      <td>6.5</td>\n",
              "      <td>143</td>\n",
              "    </tr>\n",
              "    <tr>\n",
              "      <th>235</th>\n",
              "      <td>97250400</td>\n",
              "      <td>[{\"id\": 14, \"name\": \"Fantasy\"}, {\"id\": 12, \"na...</td>\n",
              "      <td>http://www.asterixauxjeuxolympiques.com/index.php</td>\n",
              "      <td>2395</td>\n",
              "      <td>[{\"id\": 271, \"name\": \"competition\"}, {\"id\": 12...</td>\n",
              "      <td>fr</td>\n",
              "      <td>Astérix aux Jeux Olympiques</td>\n",
              "      <td>Astérix and Obélix have to win the Olympic Gam...</td>\n",
              "      <td>20.344364</td>\n",
              "      <td>[{\"name\": \"Constantin Film\", \"id\": 47}, {\"name...</td>\n",
              "      <td>[{\"iso_3166_1\": \"BE\", \"name\": \"Belgium\"}, {\"is...</td>\n",
              "      <td>2008-01-13</td>\n",
              "      <td>132900000</td>\n",
              "      <td>116.0</td>\n",
              "      <td>[{\"iso_639_1\": \"fr\", \"name\": \"Fran\\u00e7ais\"},...</td>\n",
              "      <td>Released</td>\n",
              "      <td>NaN</td>\n",
              "      <td>Asterix at the Olympic Games</td>\n",
              "      <td>5.0</td>\n",
              "      <td>471</td>\n",
              "    </tr>\n",
              "    <tr>\n",
              "      <th>317</th>\n",
              "      <td>94000000</td>\n",
              "      <td>[{\"id\": 18, \"name\": \"Drama\"}, {\"id\": 36, \"name...</td>\n",
              "      <td>http://www.theflowersofwarmovie.com/</td>\n",
              "      <td>76758</td>\n",
              "      <td>[{\"id\": 173251, \"name\": \"forced prostitution\"}...</td>\n",
              "      <td>zh</td>\n",
              "      <td>金陵十三釵</td>\n",
              "      <td>A Westerner finds refuge with a group of women...</td>\n",
              "      <td>12.516546</td>\n",
              "      <td>[{\"name\": \"Beijing New Picture Film Co. Ltd.\",...</td>\n",
              "      <td>[{\"iso_3166_1\": \"CN\", \"name\": \"China\"}, {\"iso_...</td>\n",
              "      <td>2011-12-15</td>\n",
              "      <td>95311434</td>\n",
              "      <td>145.0</td>\n",
              "      <td>[{\"iso_639_1\": \"zh\", \"name\": \"\\u666e\\u901a\\u8b...</td>\n",
              "      <td>Released</td>\n",
              "      <td>NaN</td>\n",
              "      <td>The Flowers of War</td>\n",
              "      <td>7.1</td>\n",
              "      <td>187</td>\n",
              "    </tr>\n",
              "    <tr>\n",
              "      <th>474</th>\n",
              "      <td>0</td>\n",
              "      <td>[{\"id\": 9648, \"name\": \"Mystery\"}, {\"id\": 18, \"...</td>\n",
              "      <td>NaN</td>\n",
              "      <td>330770</td>\n",
              "      <td>[{\"id\": 428, \"name\": \"nurse\"}, {\"id\": 658, \"na...</td>\n",
              "      <td>fr</td>\n",
              "      <td>Évolution</td>\n",
              "      <td>11-year-old Nicolas lives with his mother in a...</td>\n",
              "      <td>3.300061</td>\n",
              "      <td>[{\"name\": \"Ex Nihilo\", \"id\": 3307}, {\"name\": \"...</td>\n",
              "      <td>[{\"iso_3166_1\": \"BE\", \"name\": \"Belgium\"}, {\"is...</td>\n",
              "      <td>2015-09-14</td>\n",
              "      <td>0</td>\n",
              "      <td>81.0</td>\n",
              "      <td>[{\"iso_639_1\": \"fr\", \"name\": \"Fran\\u00e7ais\"}]</td>\n",
              "      <td>Released</td>\n",
              "      <td>NaN</td>\n",
              "      <td>Evolution</td>\n",
              "      <td>6.4</td>\n",
              "      <td>47</td>\n",
              "    </tr>\n",
              "    <tr>\n",
              "      <th>492</th>\n",
              "      <td>8000000</td>\n",
              "      <td>[{\"id\": 35, \"name\": \"Comedy\"}, {\"id\": 16, \"nam...</td>\n",
              "      <td>NaN</td>\n",
              "      <td>293644</td>\n",
              "      <td>[{\"id\": 209714, \"name\": \"3d\"}]</td>\n",
              "      <td>es</td>\n",
              "      <td>Don Gato: El inicio de la pandilla</td>\n",
              "      <td>Top Cat has arrived to charm his way into your...</td>\n",
              "      <td>0.719996</td>\n",
              "      <td>[{\"name\": \"Anima Estudios\", \"id\": 9965}, {\"nam...</td>\n",
              "      <td>[{\"iso_3166_1\": \"IN\", \"name\": \"India\"}, {\"iso_...</td>\n",
              "      <td>2015-10-30</td>\n",
              "      <td>0</td>\n",
              "      <td>89.0</td>\n",
              "      <td>[]</td>\n",
              "      <td>Released</td>\n",
              "      <td>NaN</td>\n",
              "      <td>Top Cat Begins</td>\n",
              "      <td>5.3</td>\n",
              "      <td>9</td>\n",
              "    </tr>\n",
              "  </tbody>\n",
              "</table>\n",
              "</div>"
            ],
            "text/plain": [
              "       budget  ... vote_count\n",
              "97   15000000  ...        143\n",
              "235  97250400  ...        471\n",
              "317  94000000  ...        187\n",
              "474         0  ...         47\n",
              "492   8000000  ...          9\n",
              "\n",
              "[5 rows x 20 columns]"
            ]
          },
          "metadata": {
            "tags": []
          },
          "execution_count": 57
        }
      ]
    },
    {
      "cell_type": "code",
      "metadata": {
        "colab": {
          "base_uri": "https://localhost:8080/",
          "height": 0
        },
        "id": "tbR03KLuxYpu",
        "outputId": "50e14208-04c9-4444-da23-7ab8b299b329"
      },
      "source": [
        "sns.catplot(x='original_language', kind='count', data=filmes_nao_ingles, \n",
        "            aspect=3, # aspect ratio da figura\n",
        "            order=filmes_nao_ingles['original_language'].value_counts().index, # ordena os dados usando value_counts\n",
        "            palette='GnBu_d' # paleta de cores sequencial\n",
        "            )"
      ],
      "execution_count": 58,
      "outputs": [
        {
          "output_type": "execute_result",
          "data": {
            "text/plain": [
              "<seaborn.axisgrid.FacetGrid at 0x7fee5d58f128>"
            ]
          },
          "metadata": {
            "tags": []
          },
          "execution_count": 58
        },
        {
          "output_type": "display_data",
          "data": {
            "image/png": "[encoded data removed]",
            "text/plain": [
              "<Figure size 1080x360 with 1 Axes>"
            ]
          },
          "metadata": {
            "tags": [],
            "needs_background": "light"
          }
        }
      ]
    },
    {
      "cell_type": "markdown",
      "metadata": {
        "id": "fSYCC_cJyRzm"
      },
      "source": [
        "## 6 Conclusões a partir de grandezas estátisticas\n",
        "\n",
        "Vamos analisar as notas dos dois primieros filmes dos primeiros _datasets_."
      ]
    },
    {
      "cell_type": "code",
      "metadata": {
        "colab": {
          "base_uri": "https://localhost:8080/",
          "height": 112
        },
        "id": "16-SBceZzEVH",
        "outputId": "7dcd1343-d2ea-4b71-d47f-342c225cebbb"
      },
      "source": [
        "# dois primeiros filmes do dataset\n",
        "filmes_df.head(2)"
      ],
      "execution_count": 59,
      "outputs": [
        {
          "output_type": "execute_result",
          "data": {
            "text/html": [
              "<div>\n",
              "<style scoped>\n",
              "    .dataframe tbody tr th:only-of-type {\n",
              "        vertical-align: middle;\n",
              "    }\n",
              "\n",
              "    .dataframe tbody tr th {\n",
              "        vertical-align: top;\n",
              "    }\n",
              "\n",
              "    .dataframe thead th {\n",
              "        text-align: right;\n",
              "    }\n",
              "</style>\n",
              "<table border=\"1\" class=\"dataframe\">\n",
              "  <thead>\n",
              "    <tr style=\"text-align: right;\">\n",
              "      <th></th>\n",
              "      <th>filme_id</th>\n",
              "      <th>titulo</th>\n",
              "      <th>generos</th>\n",
              "    </tr>\n",
              "  </thead>\n",
              "  <tbody>\n",
              "    <tr>\n",
              "      <th>0</th>\n",
              "      <td>1</td>\n",
              "      <td>Toy Story (1995)</td>\n",
              "      <td>Adventure|Animation|Children|Comedy|Fantasy</td>\n",
              "    </tr>\n",
              "    <tr>\n",
              "      <th>1</th>\n",
              "      <td>2</td>\n",
              "      <td>Jumanji (1995)</td>\n",
              "      <td>Adventure|Children|Fantasy</td>\n",
              "    </tr>\n",
              "  </tbody>\n",
              "</table>\n",
              "</div>"
            ],
            "text/plain": [
              "   filme_id            titulo                                      generos\n",
              "0         1  Toy Story (1995)  Adventure|Animation|Children|Comedy|Fantasy\n",
              "1         2    Jumanji (1995)                   Adventure|Children|Fantasy"
            ]
          },
          "metadata": {
            "tags": []
          },
          "execution_count": 59
        }
      ]
    },
    {
      "cell_type": "code",
      "metadata": {
        "colab": {
          "base_uri": "https://localhost:8080/"
        },
        "id": "QcDYnDOuzupC",
        "outputId": "68215616-0b69-4e1e-aad1-6f2cf8fabc5a"
      },
      "source": [
        "# dfs apenas com as notas de cada filme\n",
        "notas_toy_story = notas_df.query('filme_id == 1')\n",
        "notas_jumanji = notas_df.query('filme_id == 2')\n",
        "\n",
        "print(f\"Quantidade de notas\\n\\nToy Story\\t{len(notas_toy_story)}\\nJumanji\\t\\t{len(notas_jumanji)}\")"
      ],
      "execution_count": 60,
      "outputs": [
        {
          "output_type": "stream",
          "text": [
            "Quantidade de notas\n",
            "\n",
            "Toy Story\t215\n",
            "Jumanji\t\t110\n"
          ],
          "name": "stdout"
        }
      ]
    },
    {
      "cell_type": "code",
      "metadata": {
        "colab": {
          "base_uri": "https://localhost:8080/"
        },
        "id": "vAXYIywn0y8k",
        "outputId": "3510fef3-f4ec-40d5-c4fa-20f9a41862f8"
      },
      "source": [
        "# medias das notas de cada filme, apresentando apenas duas casas decimais\n",
        "print('Média das notas\\n')\n",
        "print(\"Toy Story\\t%.2f\" % notas_toy_story['nota'].mean())\n",
        "print(\"Juanji\\t\\t%.2f\" % notas_jumanji['nota'].mean())"
      ],
      "execution_count": 61,
      "outputs": [
        {
          "output_type": "stream",
          "text": [
            "Média das notas\n",
            "\n",
            "Toy Story\t3.92\n",
            "Juanji\t\t3.43\n"
          ],
          "name": "stdout"
        }
      ]
    },
    {
      "cell_type": "code",
      "metadata": {
        "colab": {
          "base_uri": "https://localhost:8080/"
        },
        "id": "J1j-s8gv4uTs",
        "outputId": "bea19d0e-1a64-4b4f-996b-1d329b5636df"
      },
      "source": [
        "# mediana das notas de cada filme\n",
        "print('Mediana das notas\\n')\n",
        "print(\"Toy Story\\t%.2f\" % notas_toy_story['nota'].median())\n",
        "print(\"Juanji\\t\\t%.2f\" % notas_jumanji['nota'].median())"
      ],
      "execution_count": 62,
      "outputs": [
        {
          "output_type": "stream",
          "text": [
            "Mediana das notas\n",
            "\n",
            "Toy Story\t4.00\n",
            "Juanji\t\t3.50\n"
          ],
          "name": "stdout"
        }
      ]
    },
    {
      "cell_type": "code",
      "metadata": {
        "colab": {
          "base_uri": "https://localhost:8080/"
        },
        "id": "hwbr2Py-54WQ",
        "outputId": "3334654c-dcdc-4716-8fc2-095e504b9318"
      },
      "source": [
        "# moda das notas de cada filme\n",
        "print('Moda das notas\\n')\n",
        "print(\"Toy Story\\t%.2f\" % notas_toy_story['nota'].mode())\n",
        "print(\"Juanji\\t\\t%.2f\" % notas_jumanji['nota'].mode())"
      ],
      "execution_count": 63,
      "outputs": [
        {
          "output_type": "stream",
          "text": [
            "Moda das notas\n",
            "\n",
            "Toy Story\t4.00\n",
            "Juanji\t\t4.00\n"
          ],
          "name": "stdout"
        }
      ]
    },
    {
      "cell_type": "markdown",
      "metadata": {
        "id": "toHsFery14la"
      },
      "source": [
        "Perceba que apenas calcular a essas grandezas não é suficiente para entender como foi a dinâmica por trás dessas notas. Mesmo calculando a mediana (que separa 50% das notas para cada lado), não tenho informação alguma sobre a distribuição das notas.\n",
        "\n",
        "Essas medidas apenas nos ajudam a entender como é o comportamento central das notas, cada uma com seu significado, reduzindo toda a distribuição dos dados a um único valor."
      ]
    },
    {
      "cell_type": "markdown",
      "metadata": {
        "id": "DqPRBc9l6NJD"
      },
      "source": [
        "### 6.1 Reduzindo uma distribuição de dados e perdendo informação\n",
        "\n",
        "Vamos utilizar a biblioteca `numpy` para explorar um pouco essa idéia, criando diferentes distribuições de notas para dois filmes imaginários:"
      ]
    },
    {
      "cell_type": "code",
      "metadata": {
        "colab": {
          "base_uri": "https://localhost:8080/"
        },
        "id": "Oi8NB1zD6Vvv",
        "outputId": "abfbf9aa-ff4c-4c2f-86e6-f9aa41deed63"
      },
      "source": [
        "# cria uma lista com dez elementos `2.5`\n",
        "[2.5] * 10"
      ],
      "execution_count": 66,
      "outputs": [
        {
          "output_type": "execute_result",
          "data": {
            "text/plain": [
              "[2.5, 2.5, 2.5, 2.5, 2.5, 2.5, 2.5, 2.5, 2.5, 2.5]"
            ]
          },
          "metadata": {
            "tags": []
          },
          "execution_count": 66
        }
      ]
    },
    {
      "cell_type": "code",
      "metadata": {
        "colab": {
          "base_uri": "https://localhost:8080/"
        },
        "id": "rQRkDlAY7GBU",
        "outputId": "3c12a789-d965-471a-bd93-3d41cf72457e"
      },
      "source": [
        "import numpy as np\n",
        "\n",
        "# cria um array do numpy a partir de uma lista\n",
        "np.array([2.5] * 10)"
      ],
      "execution_count": 67,
      "outputs": [
        {
          "output_type": "execute_result",
          "data": {
            "text/plain": [
              "array([2.5, 2.5, 2.5, 2.5, 2.5, 2.5, 2.5, 2.5, 2.5, 2.5])"
            ]
          },
          "metadata": {
            "tags": []
          },
          "execution_count": 67
        }
      ]
    },
    {
      "cell_type": "code",
      "metadata": {
        "colab": {
          "base_uri": "https://localhost:8080/"
        },
        "id": "P2w4WW0T7IW5",
        "outputId": "2e66a5f9-8230-464f-9a8f-e00caadb378f"
      },
      "source": [
        "# junta dois arrays numpy\n",
        "np.append(np.array([2.5] * 10), np.array([3.5] * 10))"
      ],
      "execution_count": 68,
      "outputs": [
        {
          "output_type": "execute_result",
          "data": {
            "text/plain": [
              "array([2.5, 2.5, 2.5, 2.5, 2.5, 2.5, 2.5, 2.5, 2.5, 2.5, 3.5, 3.5, 3.5,\n",
              "       3.5, 3.5, 3.5, 3.5, 3.5, 3.5, 3.5])"
            ]
          },
          "metadata": {
            "tags": []
          },
          "execution_count": 68
        }
      ]
    },
    {
      "cell_type": "code",
      "metadata": {
        "id": "TMLSmQNt7VUu"
      },
      "source": [
        "# simula notas para dois filmes\n",
        "notas_filme1 = np.append(np.array([2.5] * 10), np.array([3.5] * 10))\n",
        "notas_filme2 = np.append(np.array([5] * 10), np.array([1] * 10))"
      ],
      "execution_count": 69,
      "outputs": []
    },
    {
      "cell_type": "code",
      "metadata": {
        "colab": {
          "base_uri": "https://localhost:8080/"
        },
        "id": "rcp5iJGH7qhu",
        "outputId": "5c5af038-5b2f-4916-acf8-24073f9f0e02"
      },
      "source": [
        "# média dos dois filmes imaginários\n",
        "print(notas_filme1.mean(), notas_filme2.mean())"
      ],
      "execution_count": 70,
      "outputs": [
        {
          "output_type": "stream",
          "text": [
            "3.0 3.0\n"
          ],
          "name": "stdout"
        }
      ]
    },
    {
      "cell_type": "code",
      "metadata": {
        "colab": {
          "base_uri": "https://localhost:8080/"
        },
        "id": "6FJk9Rmd8jSj",
        "outputId": "8651c4e1-c4f8-42c5-86db-54a788216dbc"
      },
      "source": [
        "# mediana para os dois filmes\n",
        "print(np.median(notas_filme1), np.median(notas_filme2))"
      ],
      "execution_count": 71,
      "outputs": [
        {
          "output_type": "stream",
          "text": [
            "3.0 3.0\n"
          ],
          "name": "stdout"
        }
      ]
    },
    {
      "cell_type": "markdown",
      "metadata": {
        "id": "Re0-P0349A83"
      },
      "source": [
        "Veja que para os dois filmes obtivemos os mesmos valores para para média e moda, mesmo sabendo que a distribuição das notas foi bem diferente para cada um deles."
      ]
    },
    {
      "cell_type": "markdown",
      "metadata": {
        "id": "zDFgOA8eCTsQ"
      },
      "source": [
        "### 6.2 Explorando através de gráficos\n",
        "\n",
        "Por isso é importante não avaliar apenas um valor pontual. Veja os diferentes tipos de _plot_ que podem ser feitos para as distribuições dos filmes:"
      ]
    },
    {
      "cell_type": "code",
      "metadata": {
        "colab": {
          "base_uri": "https://localhost:8080/",
          "height": 377
        },
        "id": "C_l04yuw9g3m",
        "outputId": "0b309dd6-70a9-4b6f-9717-5bf5ca3036d2"
      },
      "source": [
        "sns.distplot(notas_filme1)\n",
        "sns.distplot(notas_filme2)"
      ],
      "execution_count": 75,
      "outputs": [
        {
          "output_type": "stream",
          "text": [
            "/usr/local/lib/python3.6/dist-packages/seaborn/distributions.py:2551: FutureWarning: `distplot` is a deprecated function and will be removed in a future version. Please adapt your code to use either `displot` (a figure-level function with similar flexibility) or `histplot` (an axes-level function for histograms).\n",
            "  warnings.warn(msg, FutureWarning)\n",
            "/usr/local/lib/python3.6/dist-packages/seaborn/distributions.py:2551: FutureWarning: `distplot` is a deprecated function and will be removed in a future version. Please adapt your code to use either `displot` (a figure-level function with similar flexibility) or `histplot` (an axes-level function for histograms).\n",
            "  warnings.warn(msg, FutureWarning)\n"
          ],
          "name": "stderr"
        },
        {
          "output_type": "execute_result",
          "data": {
            "text/plain": [
              "<matplotlib.axes._subplots.AxesSubplot at 0x7fee58b08cf8>"
            ]
          },
          "metadata": {
            "tags": []
          },
          "execution_count": 75
        },
        {
          "output_type": "display_data",
          "data": {
            "image/png": "[encoded data removed]",
            "text/plain": [
              "<Figure size 432x288 with 1 Axes>"
            ]
          },
          "metadata": {
            "tags": [],
            "needs_background": "light"
          }
        }
      ]
    },
    {
      "cell_type": "code",
      "metadata": {
        "colab": {
          "base_uri": "https://localhost:8080/",
          "height": 320
        },
        "id": "Hoecp30-98Og",
        "outputId": "d9fbdfaf-2ce2-4a0e-e21a-7f931c1af750"
      },
      "source": [
        "plt.hist(notas_filme1)\n",
        "plt.hist(notas_filme2)"
      ],
      "execution_count": 76,
      "outputs": [
        {
          "output_type": "execute_result",
          "data": {
            "text/plain": [
              "(array([10.,  0.,  0.,  0.,  0.,  0.,  0.,  0.,  0., 10.]),\n",
              " array([1. , 1.4, 1.8, 2.2, 2.6, 3. , 3.4, 3.8, 4.2, 4.6, 5. ]),\n",
              " <a list of 10 Patch objects>)"
            ]
          },
          "metadata": {
            "tags": []
          },
          "execution_count": 76
        },
        {
          "output_type": "display_data",
          "data": {
            "image/png": "[encoded data removed]",
            "text/plain": [
              "<Figure size 432x288 with 1 Axes>"
            ]
          },
          "metadata": {
            "tags": [],
            "needs_background": "light"
          }
        }
      ]
    },
    {
      "cell_type": "code",
      "metadata": {
        "colab": {
          "base_uri": "https://localhost:8080/",
          "height": 541
        },
        "id": "jrN1Z8Ig-RnG",
        "outputId": "36a08237-f051-494f-f1fb-8cf1f291b0f9"
      },
      "source": [
        "plt.boxplot([notas_filme1, notas_filme2])"
      ],
      "execution_count": 79,
      "outputs": [
        {
          "output_type": "execute_result",
          "data": {
            "text/plain": [
              "{'boxes': [<matplotlib.lines.Line2D at 0x7fee5851ba58>,\n",
              "  <matplotlib.lines.Line2D at 0x7fee585352b0>],\n",
              " 'caps': [<matplotlib.lines.Line2D at 0x7fee5852c4a8>,\n",
              "  <matplotlib.lines.Line2D at 0x7fee5852c828>,\n",
              "  <matplotlib.lines.Line2D at 0x7fee58535cc0>,\n",
              "  <matplotlib.lines.Line2D at 0x7fee584c3048>],\n",
              " 'fliers': [<matplotlib.lines.Line2D at 0x7fee5852cf28>,\n",
              "  <matplotlib.lines.Line2D at 0x7fee584c36d8>],\n",
              " 'means': [],\n",
              " 'medians': [<matplotlib.lines.Line2D at 0x7fee5852cba8>,\n",
              "  <matplotlib.lines.Line2D at 0x7fee584c3390>],\n",
              " 'whiskers': [<matplotlib.lines.Line2D at 0x7fee5851bd68>,\n",
              "  <matplotlib.lines.Line2D at 0x7fee5852c128>,\n",
              "  <matplotlib.lines.Line2D at 0x7fee58535630>,\n",
              "  <matplotlib.lines.Line2D at 0x7fee58535978>]}"
            ]
          },
          "metadata": {
            "tags": []
          },
          "execution_count": 79
        },
        {
          "output_type": "display_data",
          "data": {
            "image/png": "[encoded data removed]",
            "text/plain": [
              "<Figure size 432x288 with 1 Axes>"
            ]
          },
          "metadata": {
            "tags": [],
            "needs_background": "light"
          }
        }
      ]
    },
    {
      "cell_type": "markdown",
      "metadata": {
        "id": "95vvIyA5-i_H"
      },
      "source": [
        "Nesse último gráfico fica bem evidente que os dois filmes possuem a mesma mediana, mas distribuições bem diferentes.\n",
        "\n",
        "Vamos voltar para as notas dos dois primeiros filmes, agora fazendo um gráfico do tipo _boxplot_. Vemos que de fato a concentração das notas do Toy Story está acima do Jumanji."
      ]
    },
    {
      "cell_type": "code",
      "metadata": {
        "colab": {
          "base_uri": "https://localhost:8080/",
          "height": 541
        },
        "id": "K2aME6z7-7d9",
        "outputId": "64d84293-3f1c-44a7-9d6e-12cbb39a0761"
      },
      "source": [
        "plt.boxplot([notas_toy_story['nota'], notas_jumanji['nota']])"
      ],
      "execution_count": 89,
      "outputs": [
        {
          "output_type": "execute_result",
          "data": {
            "text/plain": [
              "{'boxes': [<matplotlib.lines.Line2D at 0x7fee50300fd0>,\n",
              "  <matplotlib.lines.Line2D at 0x7fee5029b7f0>],\n",
              " 'caps': [<matplotlib.lines.Line2D at 0x7fee502909e8>,\n",
              "  <matplotlib.lines.Line2D at 0x7fee50290d68>,\n",
              "  <matplotlib.lines.Line2D at 0x7fee502a62e8>,\n",
              "  <matplotlib.lines.Line2D at 0x7fee502a6668>],\n",
              " 'fliers': [<matplotlib.lines.Line2D at 0x7fee5029b4a8>,\n",
              "  <matplotlib.lines.Line2D at 0x7fee502a6d68>],\n",
              " 'means': [],\n",
              " 'medians': [<matplotlib.lines.Line2D at 0x7fee5029b128>,\n",
              "  <matplotlib.lines.Line2D at 0x7fee502a69e8>],\n",
              " 'whiskers': [<matplotlib.lines.Line2D at 0x7fee502902e8>,\n",
              "  <matplotlib.lines.Line2D at 0x7fee50290668>,\n",
              "  <matplotlib.lines.Line2D at 0x7fee5029bba8>,\n",
              "  <matplotlib.lines.Line2D at 0x7fee5029bf28>]}"
            ]
          },
          "metadata": {
            "tags": []
          },
          "execution_count": 89
        },
        {
          "output_type": "display_data",
          "data": {
            "image/png": "[encoded data removed]",
            "text/plain": [
              "<Figure size 432x288 with 1 Axes>"
            ]
          },
          "metadata": {
            "tags": [],
            "needs_background": "light"
          }
        }
      ]
    },
    {
      "cell_type": "markdown",
      "metadata": {
        "id": "b2dCF1Vm_9ze"
      },
      "source": [
        "A biblioteca `seaborn` possui várias funcionalidades que permitem fazer essa exploração dos dados sem precisar tratá-los previamente, como fizemos com esses dois filmes.\n",
        "\n",
        "Poderíamos fazer um _boxplot_ para todos os filmes do _dataset_:\n",
        "\n",
        "```\n",
        "sns.boxplot(x='filme_id', y='nota', data=notas_df)\n",
        "```\n",
        "\n",
        "Como sei que são muitos filmes e o gráfico vai ficar muito poluído, vou restringir para apenas alguns:"
      ]
    },
    {
      "cell_type": "code",
      "metadata": {
        "colab": {
          "base_uri": "https://localhost:8080/",
          "height": 298
        },
        "id": "UvdiiN1XBNkZ",
        "outputId": "8b74d0e6-9913-4781-fb06-4ff16bc95186"
      },
      "source": [
        "sns.boxplot(x='filme_id', y='nota', data=notas_df.query(\"filme_id in [1,2,3,4,5,6,7,8,9]\"))"
      ],
      "execution_count": 88,
      "outputs": [
        {
          "output_type": "execute_result",
          "data": {
            "text/plain": [
              "<matplotlib.axes._subplots.AxesSubplot at 0x7fee58944470>"
            ]
          },
          "metadata": {
            "tags": []
          },
          "execution_count": 88
        },
        {
          "output_type": "display_data",
          "data": {
            "image/png": "[encoded data removed]",
            "text/plain": [
              "<Figure size 432x288 with 1 Axes>"
            ]
          },
          "metadata": {
            "tags": [],
            "needs_background": "light"
          }
        }
      ]
    },
    {
      "cell_type": "markdown",
      "metadata": {
        "id": "FV556OiPCjIT"
      },
      "source": [
        "### 6.3 Desvio padrão\n",
        "\n",
        "Olhando para o _boxplot_ dos filmes fictícios, vimos que a dispersão das notas em torno da madiana é bem diferente para cada um deles. Vamos calcular o desvio padrão para essas distribuições, que é um valor que nos informa o quanto os dados se dispersam em torno de uma tendência central.\n",
        "\n",
        "Note que para os dois primeiros filmes do _dataset_ devemos usar uma função do Pandas, pois é um _DataFrame_ do Pandas, e para os filmes fictícios devemos usar uma função do Numpy:"
      ]
    },
    {
      "cell_type": "code",
      "metadata": {
        "colab": {
          "base_uri": "https://localhost:8080/"
        },
        "id": "2ZzUBENzDLuG",
        "outputId": "d2905292-5786-469e-a60b-c1102415d064"
      },
      "source": [
        "# desvio padrão\n",
        "print(\"Toy Story\\t%.2f\" % notas_toy_story['nota'].std())\n",
        "print(\"Juanji\\t\\t%.2f\" % notas_jumanji['nota'].std())"
      ],
      "execution_count": 90,
      "outputs": [
        {
          "output_type": "stream",
          "text": [
            "Desvio padrão das notas\n",
            "\n",
            "Toy Story\t0.83\n",
            "Juanji\t\t0.88\n"
          ],
          "name": "stdout"
        }
      ]
    },
    {
      "cell_type": "code",
      "metadata": {
        "colab": {
          "base_uri": "https://localhost:8080/"
        },
        "id": "mAa65VZxEJkO",
        "outputId": "81d5d714-9b4b-4031-c9d8-74e6951346cb"
      },
      "source": [
        "# desvio padrão\n",
        "print(\"filme 1\\t\\t%.2f\" % np.std(notas_filme1))\n",
        "print(\"filme 2\\t\\t%.2f\" % np.std(notas_filme2))"
      ],
      "execution_count": 92,
      "outputs": [
        {
          "output_type": "stream",
          "text": [
            "filme 1\t\t0.50\n",
            "filme 2\t\t2.00\n"
          ],
          "name": "stdout"
        }
      ]
    }
  ]
}