{
 "cells": [
  {
   "cell_type": "markdown",
   "metadata": {},
   "source": [
    "# Introdução a Python - Aula 5 - Bibliotecas\n",
    "<br>\n",
    "\n",
    "### Índice<a id='indice'></a><br>\n",
    "1 - [Numpy](#1)<br>\n",
    "1.1 - [](#1.1)<br>\n",
    "1.2 - [](#1.2)<br>\n",
    "<br>"
   ]
  },
  {
   "cell_type": "code",
   "execution_count": 20,
   "metadata": {},
   "outputs": [
    {
     "name": "stdout",
     "output_type": "stream",
     "text": [
      "Python 3.7.3\n"
     ]
    }
   ],
   "source": [
    "!python --version"
   ]
  },
  {
   "cell_type": "markdown",
   "metadata": {},
   "source": [
    "## 1. Numpy<a id='1'></a>\n",
    "---\n",
    "**Numpy** é a abreviação de _Numerical Python_ e é um dos pacotes mais importantes para processamento numérico em Python.\n",
    "\n",
    "Para começar, vamos utilizar uma das funções da biblioteca Numpy para ler um conjunto de dados de um arquivo externo (txt) e transformar estas informações em _arrays_ **Numpy**. \n",
    "\n",
    "O pacote **Numpy** possui um poderoso objeto _array_ multidimensional, que nos permite realizar um conjunto bastante amplo de operações numéricas, sem a necessidade de utilização de laços `for`.\n",
    "\n",
    "O primeiro passo é importar a biblioteca, e logo após, utilizo o método [`np.loadtxt()`](https://docs.scipy.org/doc/numpy/reference/generated/numpy.loadtxt.html?highlight=loadtxt#numpy.loadtxt) para carregar o conteúdo de um arquivo como um _array_ numpy."
   ]
  },
  {
   "cell_type": "code",
   "execution_count": 25,
   "metadata": {},
   "outputs": [],
   "source": [
    "import numpy as np"
   ]
  },
  {
   "cell_type": "code",
   "execution_count": 26,
   "metadata": {},
   "outputs": [],
   "source": [
    "km = np.loadtxt('data/carros-km.txt')"
   ]
  },
  {
   "cell_type": "markdown",
   "metadata": {},
   "source": [
    "Antes de \"printar\" o resultado verificamos o tamanho do _array_ com o método [`size`](https://docs.scipy.org/doc/numpy/reference/generated/numpy.ndarray.size.html):"
   ]
  },
  {
   "cell_type": "code",
   "execution_count": 27,
   "metadata": {},
   "outputs": [
    {
     "data": {
      "text/plain": [
       "258"
      ]
     },
     "execution_count": 27,
     "metadata": {},
     "output_type": "execute_result"
    }
   ],
   "source": [
    "km.size"
   ]
  },
  {
   "cell_type": "markdown",
   "metadata": {},
   "source": [
    "Sabendo que se trata de um número grande de valores para \"printar\" na tela, vamos apresentar apenas os dez primeiros:"
   ]
  },
  {
   "cell_type": "code",
   "execution_count": 29,
   "metadata": {},
   "outputs": [
    {
     "data": {
      "text/plain": [
       "array([44410.,  5712., 37123.,     0., 25757., 10728.,     0., 77599.,\n",
       "       99197., 37978.])"
      ]
     },
     "execution_count": 29,
     "metadata": {},
     "output_type": "execute_result"
    }
   ],
   "source": [
    "km[:10]"
   ]
  },
  {
   "cell_type": "markdown",
   "metadata": {},
   "source": [
    "Este arquivo que foi importado possui como conteúdo a quilometragem de carros.\n",
    "\n",
    "Agora vamos importar o arquivo que contém o ano de fabricação de cada um desses carros. Mas agora vamos especificar o tipo de dados dos valores contidos no arquivo, isso é feito passando um segundo parâmetro para o método."
   ]
  },
  {
   "cell_type": "code",
   "execution_count": 30,
   "metadata": {},
   "outputs": [],
   "source": [
    "anos = np.loadtxt('data/carros-anos.txt', dtype=int)"
   ]
  },
  {
   "cell_type": "code",
   "execution_count": 36,
   "metadata": {},
   "outputs": [
    {
     "name": "stdout",
     "output_type": "stream",
     "text": [
      "258\n",
      "[2003 1991 1990 2019 2006 2012 2019 2009 2010 2011]\n"
     ]
    }
   ],
   "source": [
    "print(anos.size)\n",
    "print(anos[:10])"
   ]
  },
  {
   "cell_type": "markdown",
   "metadata": {},
   "source": [
    "Por fim, vamos calcular a quilometragem média que cada carrou andou por ano. Faremos isso para duas situações: até o ano de 2019 (ano de fabricação mais recente) e o atual. Então, começando por 2020:"
   ]
  },
  {
   "cell_type": "code",
   "execution_count": 37,
   "metadata": {},
   "outputs": [],
   "source": [
    "km_media_20 = km / (2020 - anos)"
   ]
  },
  {
   "cell_type": "code",
   "execution_count": 38,
   "metadata": {},
   "outputs": [
    {
     "data": {
      "text/plain": [
       "array([2612.35294118,  196.96551724, 1237.43333333,    0.        ,\n",
       "       1839.78571429, 1341.        ,    0.        , 7054.45454545,\n",
       "       9919.7       , 4219.77777778])"
      ]
     },
     "execution_count": 38,
     "metadata": {},
     "output_type": "execute_result"
    }
   ],
   "source": [
    "km_media_20[:10]"
   ]
  },
  {
   "cell_type": "code",
   "execution_count": 39,
   "metadata": {},
   "outputs": [
    {
     "name": "stderr",
     "output_type": "stream",
     "text": [
      "C:\\Users\\cesar\\Anaconda3\\lib\\site-packages\\ipykernel_launcher.py:1: RuntimeWarning: invalid value encountered in true_divide\n",
      "  \"\"\"Entry point for launching an IPython kernel.\n"
     ]
    }
   ],
   "source": [
    "km_media_19 = km / (2019 - anos)"
   ]
  },
  {
   "cell_type": "code",
   "execution_count": 40,
   "metadata": {},
   "outputs": [
    {
     "data": {
      "text/plain": [
       "array([ 2775.625     ,   204.        ,  1280.10344828,            nan,\n",
       "        1981.30769231,  1532.57142857,            nan,  7759.9       ,\n",
       "       11021.88888889,  4747.25      ])"
      ]
     },
     "execution_count": 40,
     "metadata": {},
     "output_type": "execute_result"
    }
   ],
   "source": [
    "km_media_19[:10]"
   ]
  },
  {
   "cell_type": "markdown",
   "metadata": {},
   "source": [
    "Note que quando calculamos em relação ao ano de 2020 não recebemos nenhum <font color=red>warning</font>, enquanto que para 2019 recebemos um mensagem. Isso se deve a divisões por zero que aconteceram na segunda situação, pois alguns carros foram fabricados em 2019. Perceba que os respectivos elementos no _array_ de quilometragem média receberam o valor `nan` (not a number)."
   ]
  },
  {
   "cell_type": "markdown",
   "metadata": {},
   "source": [
    "<p style=\"text-align: right\"> <a href=\"#indice\">voltar ao topo </p>"
   ]
  },
  {
   "cell_type": "markdown",
   "metadata": {
    "colab_type": "text",
    "id": "do3kUOLbltjE"
   },
   "source": [
    "# <font color=green> PYTHON PARA DATA SCIENCE - NUMPY\n",
    "---"
   ]
  },
  {
   "cell_type": "markdown",
   "metadata": {
    "colab_type": "text",
    "id": "_IZuNE48ltnS"
   },
   "source": [
    "# <font color=green> 3. TRABALHANDO COM LISTAS\n",
    "---"
   ]
  },
  {
   "cell_type": "markdown",
   "metadata": {
    "colab_type": "text",
    "id": "zhS89xysltnS"
   },
   "source": [
    "# 3.1 Criando listas\n",
    "\n",
    "Listas são sequências **mutáveis** que são utilizadas para armazenar coleções de itens, geralmente homogêneos. Podem ser construídas de várias formas:\n",
    "```\n",
    "- Utilizando um par de colchetes: [ ], [ 1 ]\n",
    "- Utilizando um par de colchetes com itens separados por vírgulas: [ 1, 2, 3 ]\n",
    "```"
   ]
  },
  {
   "cell_type": "code",
   "execution_count": null,
   "metadata": {
    "colab": {
     "base_uri": "https://localhost:8080/",
     "height": 153
    },
    "colab_type": "code",
    "id": "aE4UWF10ltnS",
    "outputId": "179285f6-ac09-4abe-e67f-eaa723b79687"
   },
   "outputs": [],
   "source": [
    "Acessorios = ['Rodas de liga', 'Travas elétricas', 'Piloto automático', 'Bancos de couro', 'Ar condicionado', 'Sensor de estacionamento', 'Sensor crepuscular', 'Sensor de chuva']\n",
    "Acessorios"
   ]
  },
  {
   "cell_type": "markdown",
   "metadata": {
    "colab_type": "text",
    "id": "Mmlkh5TVltnT"
   },
   "source": [
    "### Lista com tipos de dados variados"
   ]
  },
  {
   "cell_type": "code",
   "execution_count": null,
   "metadata": {
    "colab": {},
    "colab_type": "code",
    "id": "Mfpu7NoJltnT"
   },
   "outputs": [],
   "source": [
    "Carro_1 = ['Jetta Variant', 'Motor 4.0 Turbo', 2003, 44410.0, False, ['Rodas de liga', 'Travas elétricas', 'Piloto automático'], 88078.64]\n",
    "Carro_2 = ['Passat', 'Motor Diesel', 1991, 5712.0, False, ['Central multimídia', 'Teto panorâmico', 'Freios ABS'], 106161.94]"
   ]
  },
  {
   "cell_type": "code",
   "execution_count": null,
   "metadata": {
    "colab": {
     "base_uri": "https://localhost:8080/",
     "height": 136
    },
    "colab_type": "code",
    "id": "EJSJFJjKltnV",
    "outputId": "3761c00b-b215-47fa-be1f-bf3774a86874"
   },
   "outputs": [],
   "source": []
  },
  {
   "cell_type": "code",
   "execution_count": null,
   "metadata": {
    "colab": {
     "base_uri": "https://localhost:8080/",
     "height": 136
    },
    "colab_type": "code",
    "id": "7MMG7L8VltnX",
    "outputId": "f68f1e83-203a-4540-95d8-c22d7d4420c3"
   },
   "outputs": [],
   "source": []
  },
  {
   "cell_type": "code",
   "execution_count": null,
   "metadata": {
    "colab": {
     "base_uri": "https://localhost:8080/",
     "height": 255
    },
    "colab_type": "code",
    "id": "7E8erLgZltnZ",
    "outputId": "be64d3c9-b4fc-4b82-fcee-128c09a72742"
   },
   "outputs": [],
   "source": []
  },
  {
   "cell_type": "markdown",
   "metadata": {
    "colab_type": "text",
    "id": "5yMXJ0xdltna"
   },
   "source": [
    "# 3.2 Operações com listas\n",
    "\n",
    "https://docs.python.org/3.6/library/stdtypes.html#common-sequence-operations"
   ]
  },
  {
   "cell_type": "markdown",
   "metadata": {
    "colab_type": "text",
    "id": "YSorJOGlltna"
   },
   "source": [
    "## *x in A*\n",
    "\n",
    "Retorna **True** se um elemento da lista *A* for igual a *x*."
   ]
  },
  {
   "cell_type": "code",
   "execution_count": null,
   "metadata": {
    "colab": {
     "base_uri": "https://localhost:8080/",
     "height": 153
    },
    "colab_type": "code",
    "id": "GgSP_nlHltnb",
    "outputId": "5e2fef4b-9cbf-4af2-fb50-23ac1b1ee879"
   },
   "outputs": [],
   "source": []
  },
  {
   "cell_type": "code",
   "execution_count": null,
   "metadata": {
    "colab": {
     "base_uri": "https://localhost:8080/",
     "height": 34
    },
    "colab_type": "code",
    "id": "_JyyHPmWltnd",
    "outputId": "8354f264-e976-414f-eacc-1ec2c23418f9"
   },
   "outputs": [],
   "source": []
  },
  {
   "cell_type": "code",
   "execution_count": null,
   "metadata": {
    "colab": {
     "base_uri": "https://localhost:8080/",
     "height": 34
    },
    "colab_type": "code",
    "id": "tebg9gAyltne",
    "outputId": "0a1b5321-4ff3-45e9-8120-1c05bf15cd4b"
   },
   "outputs": [],
   "source": []
  },
  {
   "cell_type": "code",
   "execution_count": null,
   "metadata": {
    "colab": {
     "base_uri": "https://localhost:8080/",
     "height": 34
    },
    "colab_type": "code",
    "id": "W_1PKJYsltnf",
    "outputId": "ebf5de50-2d7f-428f-bd54-1c6d41e50dbf"
   },
   "outputs": [],
   "source": []
  },
  {
   "cell_type": "code",
   "execution_count": null,
   "metadata": {
    "colab": {
     "base_uri": "https://localhost:8080/",
     "height": 34
    },
    "colab_type": "code",
    "id": "1WNsBXFyltng",
    "outputId": "c8ba839c-4e41-4b99-8dfa-23526a2a1547"
   },
   "outputs": [],
   "source": []
  },
  {
   "cell_type": "markdown",
   "metadata": {
    "colab_type": "text",
    "id": "RF6_rf90ltnh"
   },
   "source": [
    "## *A + B*\n",
    "\n",
    "Concatena as listas *A* e *B*."
   ]
  },
  {
   "cell_type": "code",
   "execution_count": null,
   "metadata": {
    "colab": {},
    "colab_type": "code",
    "id": "8lnzbYnRltnh"
   },
   "outputs": [],
   "source": [
    "A = ['Rodas de liga', 'Travas elétricas', 'Piloto automático', 'Bancos de couro']\n",
    "B = ['Ar condicionado', 'Sensor de estacionamento', 'Sensor crepuscular', 'Sensor de chuva']"
   ]
  },
  {
   "cell_type": "code",
   "execution_count": null,
   "metadata": {
    "colab": {
     "base_uri": "https://localhost:8080/",
     "height": 34
    },
    "colab_type": "code",
    "id": "SzbiHHF4ltni",
    "outputId": "4c964473-6e1a-49fc-bd26-55e9c8e8aa41"
   },
   "outputs": [],
   "source": []
  },
  {
   "cell_type": "code",
   "execution_count": null,
   "metadata": {
    "colab": {
     "base_uri": "https://localhost:8080/",
     "height": 85
    },
    "colab_type": "code",
    "id": "It5Cn5aXltni",
    "outputId": "dacc8445-b26c-4c4b-c4f3-7197e1f42209"
   },
   "outputs": [],
   "source": []
  },
  {
   "cell_type": "code",
   "execution_count": null,
   "metadata": {
    "colab": {
     "base_uri": "https://localhost:8080/",
     "height": 153
    },
    "colab_type": "code",
    "id": "l7gF4Ph5ltnj",
    "outputId": "b4b28d24-8f9c-4778-a88b-dd79ff5aa6fb"
   },
   "outputs": [],
   "source": []
  },
  {
   "cell_type": "markdown",
   "metadata": {
    "colab_type": "text",
    "id": "iTv5t7zAltnk"
   },
   "source": [
    "## *len(A)*\n",
    "\n",
    "Tamanho da lista A."
   ]
  },
  {
   "cell_type": "code",
   "execution_count": null,
   "metadata": {
    "colab": {
     "base_uri": "https://localhost:8080/",
     "height": 34
    },
    "colab_type": "code",
    "id": "dtbuCDSOltnk",
    "outputId": "92a02510-1865-45a6-f5ee-194eee53f0bf"
   },
   "outputs": [],
   "source": []
  },
  {
   "cell_type": "markdown",
   "metadata": {
    "colab_type": "text",
    "id": "k7wWCbAmltnl"
   },
   "source": [
    "# 3.3 Seleções em listas"
   ]
  },
  {
   "cell_type": "markdown",
   "metadata": {
    "colab_type": "text",
    "id": "uF3NmgUaltnl"
   },
   "source": [
    "## *A[ i ]*\n",
    "\n",
    "Retorna o i-ésimo item da lista *A*.\n",
    "\n",
    "<font color=red>**Observação:**</font> Listas têm indexação com origem no zero."
   ]
  },
  {
   "cell_type": "code",
   "execution_count": null,
   "metadata": {
    "colab": {
     "base_uri": "https://localhost:8080/",
     "height": 153
    },
    "colab_type": "code",
    "id": "f5ct7w1Wltnm",
    "outputId": "f0eb0957-49fc-4cf6-c6a0-ec01503b7f75"
   },
   "outputs": [],
   "source": []
  },
  {
   "cell_type": "code",
   "execution_count": null,
   "metadata": {
    "colab": {
     "base_uri": "https://localhost:8080/",
     "height": 34
    },
    "colab_type": "code",
    "id": "-BLG7yifltnn",
    "outputId": "5e3253d2-b1ce-434b-de36-0dbcd0d4b7b4"
   },
   "outputs": [],
   "source": []
  },
  {
   "cell_type": "code",
   "execution_count": null,
   "metadata": {
    "colab": {
     "base_uri": "https://localhost:8080/",
     "height": 34
    },
    "colab_type": "code",
    "id": "SoL6PIjJltno",
    "outputId": "35a7a907-7890-44f0-9ffb-6aa936a6ac23"
   },
   "outputs": [],
   "source": []
  },
  {
   "cell_type": "code",
   "execution_count": null,
   "metadata": {
    "colab": {
     "base_uri": "https://localhost:8080/",
     "height": 34
    },
    "colab_type": "code",
    "id": "pGMDc5FLltnq",
    "outputId": "3fcdbc28-68b1-4fa7-99d9-c8492fa2434e"
   },
   "outputs": [],
   "source": []
  },
  {
   "cell_type": "code",
   "execution_count": null,
   "metadata": {
    "colab": {
     "base_uri": "https://localhost:8080/",
     "height": 255
    },
    "colab_type": "code",
    "id": "m3AaFe73ltnr",
    "outputId": "780d4f18-42e1-4c65-b4e9-f3e8cae080cf"
   },
   "outputs": [],
   "source": []
  },
  {
   "cell_type": "code",
   "execution_count": null,
   "metadata": {
    "colab": {
     "base_uri": "https://localhost:8080/",
     "height": 136
    },
    "colab_type": "code",
    "id": "AeDJviqoltns",
    "outputId": "8a66abfd-254e-45e2-d57c-4b07b56ad0dd"
   },
   "outputs": [],
   "source": []
  },
  {
   "cell_type": "code",
   "execution_count": null,
   "metadata": {
    "colab": {
     "base_uri": "https://localhost:8080/",
     "height": 34
    },
    "colab_type": "code",
    "id": "KdenG1BZltnt",
    "outputId": "80487f3a-e8dc-437e-a79e-7cb610575193"
   },
   "outputs": [],
   "source": []
  },
  {
   "cell_type": "code",
   "execution_count": null,
   "metadata": {
    "colab": {
     "base_uri": "https://localhost:8080/",
     "height": 34
    },
    "colab_type": "code",
    "id": "iOjsfrlFltnu",
    "outputId": "07305a2c-5c83-497a-bb9c-18c3323de205"
   },
   "outputs": [],
   "source": []
  },
  {
   "cell_type": "code",
   "execution_count": null,
   "metadata": {
    "colab": {
     "base_uri": "https://localhost:8080/",
     "height": 34
    },
    "colab_type": "code",
    "id": "6BrON70Zltnu",
    "outputId": "e7441adb-89a1-4a8b-f2c0-27b1288fa5a3"
   },
   "outputs": [],
   "source": []
  },
  {
   "cell_type": "markdown",
   "metadata": {
    "colab_type": "text",
    "id": "9WgwxPIMltnv"
   },
   "source": [
    "## *A[ i : j ]*\n",
    "\n",
    "Recorta a lista *A* do índice i até o j. Neste fatiamento o elemento com índice i é **incluído** e o elemento com índice j **não é incluído** no resultado."
   ]
  },
  {
   "cell_type": "code",
   "execution_count": null,
   "metadata": {
    "colab": {
     "base_uri": "https://localhost:8080/",
     "height": 153
    },
    "colab_type": "code",
    "id": "bJzL2PMiltnv",
    "outputId": "c3655691-cfc6-449c-8f37-dcb5f2c7e869"
   },
   "outputs": [],
   "source": []
  },
  {
   "cell_type": "code",
   "execution_count": null,
   "metadata": {
    "colab": {
     "base_uri": "https://localhost:8080/",
     "height": 34
    },
    "colab_type": "code",
    "id": "sFAlJ4u_ltnw",
    "outputId": "4ab4f052-e011-4ade-c796-ce14bafe83a3"
   },
   "outputs": [],
   "source": []
  },
  {
   "cell_type": "code",
   "execution_count": null,
   "metadata": {
    "colab": {
     "base_uri": "https://localhost:8080/",
     "height": 102
    },
    "colab_type": "code",
    "id": "dFdTBWa9ltnz",
    "outputId": "1400bbd5-5ddd-49d3-b304-eb8e0f91a6f3"
   },
   "outputs": [],
   "source": []
  },
  {
   "cell_type": "code",
   "execution_count": null,
   "metadata": {
    "colab": {
     "base_uri": "https://localhost:8080/",
     "height": 119
    },
    "colab_type": "code",
    "id": "yxxB2-_Dltn0",
    "outputId": "7dd2523b-3ae4-4c9d-f76c-be286ad75bbe"
   },
   "outputs": [],
   "source": []
  },
  {
   "cell_type": "markdown",
   "metadata": {
    "colab_type": "text",
    "id": "R-S-LCPGltn0"
   },
   "source": [
    "# 3.4 Métodos de listas\n",
    "\n",
    "https://docs.python.org/3.6/library/stdtypes.html#mutable-sequence-types"
   ]
  },
  {
   "cell_type": "markdown",
   "metadata": {
    "colab_type": "text",
    "id": "j9s2OyyPltn1"
   },
   "source": [
    "## *A.sort()*\n",
    "\n",
    "Ordena a lista *A*."
   ]
  },
  {
   "cell_type": "code",
   "execution_count": null,
   "metadata": {
    "colab": {
     "base_uri": "https://localhost:8080/",
     "height": 153
    },
    "colab_type": "code",
    "id": "A2dJGhFsltn1",
    "outputId": "bbe65e33-b326-4e01-bfb1-1e7104cc7551"
   },
   "outputs": [],
   "source": []
  },
  {
   "cell_type": "code",
   "execution_count": null,
   "metadata": {
    "colab": {
     "base_uri": "https://localhost:8080/",
     "height": 153
    },
    "colab_type": "code",
    "id": "VDWCHlTcltn2",
    "outputId": "6ef8c9b3-b719-4e48-c8ec-3a0a60f05cd6"
   },
   "outputs": [],
   "source": []
  },
  {
   "cell_type": "markdown",
   "metadata": {
    "colab_type": "text",
    "id": "N9Spp7-xltn3"
   },
   "source": [
    "## *A.append(x)*\n",
    "\n",
    "Adiciona o elemnto *x* no final da lista *A*."
   ]
  },
  {
   "cell_type": "code",
   "execution_count": null,
   "metadata": {
    "colab": {
     "base_uri": "https://localhost:8080/",
     "height": 170
    },
    "colab_type": "code",
    "id": "l7I_U-sRltn4",
    "outputId": "761e1d98-1de8-4d85-bfe4-69da7b3ba414"
   },
   "outputs": [],
   "source": []
  },
  {
   "cell_type": "markdown",
   "metadata": {
    "colab_type": "text",
    "id": "eiP3oACPltn6"
   },
   "source": [
    "## *A.pop(i)*\n",
    "\n",
    "Remove e retorna o elemento de índice i da lista *A*.\n",
    "\n",
    "<font color=red>**Observação:**</font> Por *default* o método *pop()* remove e retorna o último elemento de uma lista."
   ]
  },
  {
   "cell_type": "code",
   "execution_count": null,
   "metadata": {
    "colab": {
     "base_uri": "https://localhost:8080/",
     "height": 34
    },
    "colab_type": "code",
    "id": "BoCKa5Hqltn6",
    "outputId": "b7d0e690-7ee4-44e2-c874-618ebb001b68"
   },
   "outputs": [],
   "source": []
  },
  {
   "cell_type": "code",
   "execution_count": null,
   "metadata": {
    "colab": {
     "base_uri": "https://localhost:8080/",
     "height": 153
    },
    "colab_type": "code",
    "id": "GfGX1jw-ltn9",
    "outputId": "5bd2933c-52b9-4500-db6f-a2b7a66b7b31"
   },
   "outputs": [],
   "source": []
  },
  {
   "cell_type": "code",
   "execution_count": null,
   "metadata": {
    "colab": {
     "base_uri": "https://localhost:8080/",
     "height": 34
    },
    "colab_type": "code",
    "id": "tppe9tqbltn-",
    "outputId": "36a6ae6e-e79d-47e7-8da3-4d308d099938"
   },
   "outputs": [],
   "source": []
  },
  {
   "cell_type": "code",
   "execution_count": null,
   "metadata": {
    "colab": {
     "base_uri": "https://localhost:8080/",
     "height": 136
    },
    "colab_type": "code",
    "id": "Ku6ZHTdJltn_",
    "outputId": "b24c362a-bfbd-4207-9afa-ded84d8e6845"
   },
   "outputs": [],
   "source": []
  },
  {
   "cell_type": "markdown",
   "metadata": {
    "colab_type": "text",
    "id": "NySIp62hltoC"
   },
   "source": [
    "## *A.copy()*\n",
    "\n",
    "Cria uma cópia da lista *A*.\n",
    "\n",
    "<font color=red>**Observação:**</font> O mesmo resultado pode ser obtido com o seguinte código: \n",
    "```\n",
    "A[:]\n",
    "```"
   ]
  },
  {
   "cell_type": "code",
   "execution_count": null,
   "metadata": {
    "colab": {
     "base_uri": "https://localhost:8080/",
     "height": 136
    },
    "colab_type": "code",
    "id": "yP9ODygcltoC",
    "outputId": "e64316b6-682c-46cc-ce5a-d4bec622864e"
   },
   "outputs": [],
   "source": []
  },
  {
   "cell_type": "code",
   "execution_count": null,
   "metadata": {
    "colab": {
     "base_uri": "https://localhost:8080/",
     "height": 136
    },
    "colab_type": "code",
    "id": "W3eQdVWkltoF",
    "outputId": "e562b631-af5d-4841-854b-68719c2b29e3"
   },
   "outputs": [],
   "source": []
  },
  {
   "cell_type": "code",
   "execution_count": null,
   "metadata": {
    "colab": {
     "base_uri": "https://localhost:8080/",
     "height": 153
    },
    "colab_type": "code",
    "id": "OVbvjjmdltoG",
    "outputId": "07b58d5a-5dc4-4d01-e680-52cb5d17c480"
   },
   "outputs": [],
   "source": []
  },
  {
   "cell_type": "code",
   "execution_count": null,
   "metadata": {
    "colab": {
     "base_uri": "https://localhost:8080/",
     "height": 153
    },
    "colab_type": "code",
    "id": "P-MN1JfAltoH",
    "outputId": "f28ef733-a175-429f-f71b-1dd8368b59b9"
   },
   "outputs": [],
   "source": []
  },
  {
   "cell_type": "code",
   "execution_count": null,
   "metadata": {
    "colab": {
     "base_uri": "https://localhost:8080/",
     "height": 136
    },
    "colab_type": "code",
    "id": "ZVQ38eqVltoJ",
    "outputId": "4dbacadd-bc45-4b33-a1ea-c291dc124183"
   },
   "outputs": [],
   "source": []
  },
  {
   "cell_type": "code",
   "execution_count": null,
   "metadata": {
    "colab": {
     "base_uri": "https://localhost:8080/",
     "height": 136
    },
    "colab_type": "code",
    "id": "bqPiw5wSltoM",
    "outputId": "1658c51c-4222-4714-a9a0-7cab61de8557"
   },
   "outputs": [],
   "source": []
  },
  {
   "cell_type": "code",
   "execution_count": null,
   "metadata": {
    "colab": {
     "base_uri": "https://localhost:8080/",
     "height": 136
    },
    "colab_type": "code",
    "id": "Lo9WgzF6ltoP",
    "outputId": "c92a0f14-5926-40b4-fcc1-4be1ec9e23e0"
   },
   "outputs": [],
   "source": []
  },
  {
   "cell_type": "code",
   "execution_count": null,
   "metadata": {
    "colab": {
     "base_uri": "https://localhost:8080/",
     "height": 153
    },
    "colab_type": "code",
    "id": "r2LPHB34ltoQ",
    "outputId": "060e522e-408e-41a0-e665-632108d4f36f"
   },
   "outputs": [],
   "source": []
  },
  {
   "cell_type": "code",
   "execution_count": null,
   "metadata": {
    "colab": {
     "base_uri": "https://localhost:8080/",
     "height": 136
    },
    "colab_type": "code",
    "id": "UQqUkO8YltoR",
    "outputId": "9721590f-3858-4d61-8e26-15bb7e431a8f"
   },
   "outputs": [],
   "source": []
  },
  {
   "cell_type": "code",
   "execution_count": null,
   "metadata": {
    "colab": {
     "base_uri": "https://localhost:8080/",
     "height": 136
    },
    "colab_type": "code",
    "id": "5hC4R-jNltoS",
    "outputId": "2097ea1e-9deb-4cdf-e849-8d89a1629756"
   },
   "outputs": [],
   "source": []
  },
  {
   "cell_type": "markdown",
   "metadata": {
    "colab_type": "text",
    "id": "8zMZNsg2ltoU"
   },
   "source": [
    "# <font color=green> 4. ESTRUTURAS DE REPETIÇÃO E CONDICIONAIS\n",
    "---"
   ]
  },
  {
   "cell_type": "markdown",
   "metadata": {
    "colab_type": "text",
    "id": "gxUmCLyJltoU"
   },
   "source": [
    "# 4.1 Instrução *for*\n",
    "\n",
    "#### Formato padrão\n",
    "\n",
    "```\n",
    "for <variável> in <coleção>:\n",
    "    <instruções>\n",
    "```"
   ]
  },
  {
   "cell_type": "markdown",
   "metadata": {
    "colab_type": "text",
    "id": "Irl5oa0altoU"
   },
   "source": [
    "### Loops com listas"
   ]
  },
  {
   "cell_type": "code",
   "execution_count": null,
   "metadata": {
    "colab": {
     "base_uri": "https://localhost:8080/",
     "height": 136
    },
    "colab_type": "code",
    "id": "E1LZ5n25ltoV",
    "outputId": "ca9f9bea-d01d-4880-ea1a-752740e17403"
   },
   "outputs": [],
   "source": []
  },
  {
   "cell_type": "code",
   "execution_count": null,
   "metadata": {
    "colab": {
     "base_uri": "https://localhost:8080/",
     "height": 136
    },
    "colab_type": "code",
    "id": "Z459QqsFltoY",
    "outputId": "68a05115-29e3-44be-f0f5-b5a774334c5c"
   },
   "outputs": [],
   "source": []
  },
  {
   "cell_type": "markdown",
   "metadata": {
    "colab_type": "text",
    "id": "Gbztj9T4ltoZ"
   },
   "source": [
    "###  List comprehensions\n",
    "\n",
    "https://docs.python.org/3.6/tutorial/datastructures.html#list-comprehensions"
   ]
  },
  {
   "cell_type": "markdown",
   "metadata": {
    "colab_type": "text",
    "id": "4Y8g0cSHjbof"
   },
   "source": [
    "*range()* -> https://docs.python.org/3.6/library/functions.html#func-range"
   ]
  },
  {
   "cell_type": "code",
   "execution_count": null,
   "metadata": {
    "colab": {
     "base_uri": "https://localhost:8080/",
     "height": 34
    },
    "colab_type": "code",
    "id": "xDo9TLdYltoZ",
    "outputId": "d3cf8562-be5f-4008-874e-00e4a723aba7"
   },
   "outputs": [],
   "source": []
  },
  {
   "cell_type": "code",
   "execution_count": null,
   "metadata": {
    "colab": {
     "base_uri": "https://localhost:8080/",
     "height": 34
    },
    "colab_type": "code",
    "id": "V12p_CQBltoc",
    "outputId": "4567917f-a946-4f1e-9665-955f6617d38c"
   },
   "outputs": [],
   "source": []
  },
  {
   "cell_type": "code",
   "execution_count": null,
   "metadata": {
    "colab": {
     "base_uri": "https://localhost:8080/",
     "height": 187
    },
    "colab_type": "code",
    "id": "OOzHHRWHltof",
    "outputId": "2059643d-aebd-40d5-e1f2-56ee5dd14487"
   },
   "outputs": [],
   "source": []
  },
  {
   "cell_type": "code",
   "execution_count": null,
   "metadata": {
    "colab": {
     "base_uri": "https://localhost:8080/",
     "height": 34
    },
    "colab_type": "code",
    "id": "TKynwnxgltog",
    "outputId": "d1a5a478-4ac5-419f-bca3-47d4560ac985"
   },
   "outputs": [],
   "source": []
  },
  {
   "cell_type": "code",
   "execution_count": null,
   "metadata": {
    "colab": {
     "base_uri": "https://localhost:8080/",
     "height": 34
    },
    "colab_type": "code",
    "id": "d77YH_dVltoh",
    "outputId": "8a6c14ce-88cd-432c-defc-207660b098da"
   },
   "outputs": [],
   "source": []
  },
  {
   "cell_type": "code",
   "execution_count": null,
   "metadata": {
    "colab": {
     "base_uri": "https://localhost:8080/",
     "height": 34
    },
    "colab_type": "code",
    "id": "3OmElLO2ltoi",
    "outputId": "3a4a0297-6433-47ae-d08f-5fa880f25bd6"
   },
   "outputs": [],
   "source": []
  },
  {
   "cell_type": "code",
   "execution_count": null,
   "metadata": {
    "colab": {
     "base_uri": "https://localhost:8080/",
     "height": 34
    },
    "colab_type": "code",
    "id": "HKUkvcDkltok",
    "outputId": "eb5be35a-8a19-4d58-a84a-31b5f2e461fc"
   },
   "outputs": [],
   "source": []
  },
  {
   "cell_type": "markdown",
   "metadata": {
    "colab_type": "text",
    "id": "AcAcaKFXltom"
   },
   "source": [
    "# 4.2 Loops aninhados"
   ]
  },
  {
   "cell_type": "code",
   "execution_count": null,
   "metadata": {
    "colab": {
     "base_uri": "https://localhost:8080/",
     "height": 425
    },
    "colab_type": "code",
    "id": "mjgJCo3dlton",
    "outputId": "7ee9270d-b5da-41e6-9c2b-fdcd15f21b51"
   },
   "outputs": [],
   "source": [
    "dados = [ \n",
    "    ['Rodas de liga', 'Travas elétricas', 'Piloto automático', 'Bancos de couro', 'Ar condicionado', 'Sensor de estacionamento', 'Sensor crepuscular', 'Sensor de chuva'],\n",
    "    ['Central multimídia', 'Teto panorâmico', 'Freios ABS', '4 X 4', 'Painel digital', 'Piloto automático', 'Bancos de couro', 'Câmera de estacionamento'],\n",
    "    ['Piloto automático', 'Controle de estabilidade', 'Sensor crepuscular', 'Freios ABS', 'Câmbio automático', 'Bancos de couro', 'Central multimídia', 'Vidros elétricos']\n",
    "]\n",
    "dados"
   ]
  },
  {
   "cell_type": "code",
   "execution_count": null,
   "metadata": {
    "colab": {
     "base_uri": "https://localhost:8080/",
     "height": 68
    },
    "colab_type": "code",
    "id": "pLgxwApVltop",
    "outputId": "78ef859a-f80e-4e6e-e356-fe5be747b8a2"
   },
   "outputs": [],
   "source": []
  },
  {
   "cell_type": "code",
   "execution_count": null,
   "metadata": {
    "colab": {
     "base_uri": "https://localhost:8080/",
     "height": 425
    },
    "colab_type": "code",
    "id": "OYnDRvcYltor",
    "outputId": "27a82aad-7063-4cb1-aa44-01ed38653fa0"
   },
   "outputs": [],
   "source": []
  },
  {
   "cell_type": "code",
   "execution_count": null,
   "metadata": {
    "colab": {
     "base_uri": "https://localhost:8080/",
     "height": 425
    },
    "colab_type": "code",
    "id": "DbJa5_cJltos",
    "outputId": "22fea8e3-5760-4845-c561-ce29d309c1c6"
   },
   "outputs": [],
   "source": []
  },
  {
   "cell_type": "markdown",
   "metadata": {
    "colab_type": "text",
    "id": "RrGAOy1rn1Dj"
   },
   "source": [
    "## *set()*\n",
    "\n",
    "https://docs.python.org/3.6/library/stdtypes.html#types-set\n",
    "\n",
    "https://docs.python.org/3.6/library/functions.html#func-set"
   ]
  },
  {
   "cell_type": "code",
   "execution_count": null,
   "metadata": {
    "colab": {
     "base_uri": "https://localhost:8080/",
     "height": 306
    },
    "colab_type": "code",
    "id": "CuB-9ClSltos",
    "outputId": "a51fb957-846b-4f5e-ed6c-ee62372728a7"
   },
   "outputs": [],
   "source": []
  },
  {
   "cell_type": "markdown",
   "metadata": {
    "colab_type": "text",
    "id": "9hHKKABhltot"
   },
   "source": [
    "### List comprehensions"
   ]
  },
  {
   "cell_type": "code",
   "execution_count": null,
   "metadata": {
    "colab": {
     "base_uri": "https://localhost:8080/",
     "height": 306
    },
    "colab_type": "code",
    "id": "T6t79LTlltot",
    "outputId": "8ce3f380-6d92-4b46-d904-6e2b720ea78e"
   },
   "outputs": [],
   "source": []
  },
  {
   "cell_type": "markdown",
   "metadata": {
    "colab_type": "text",
    "id": "cJ4fPdj5ltou"
   },
   "source": [
    "# 4.3 Instrução *if*\n",
    "\n",
    "#### Formato padrão\n",
    "\n",
    "```\n",
    "if <condição>:\n",
    "     <instruções caso a condição seja verdadeira>\n",
    "```"
   ]
  },
  {
   "cell_type": "markdown",
   "metadata": {
    "colab_type": "text",
    "id": "bqOYDJiWltou"
   },
   "source": [
    "### Operadores de comparação: $==$, $!=$, $>$, $<$, $>=$, $<=$\n",
    "### e\n",
    "### Operadores lógicos: $and$, $or$, $not$"
   ]
  },
  {
   "cell_type": "code",
   "execution_count": null,
   "metadata": {
    "colab": {
     "base_uri": "https://localhost:8080/",
     "height": 187
    },
    "colab_type": "code",
    "id": "5eY_XPmrltov",
    "outputId": "f16b154b-1922-4193-97df-b5b2d0d91d6b"
   },
   "outputs": [],
   "source": [
    "# 1º item da lista - Nome do veículo\n",
    "# 2º item da lista - Ano de fabricação\n",
    "# 3º item da lista - Veículo é zero km?\n",
    "\n",
    "dados = [\n",
    "    ['Jetta Variant', 2003, False],\n",
    "    ['Passat', 1991, False],\n",
    "    ['Crossfox', 1990, False],\n",
    "    ['DS5', 2019, True],\n",
    "    ['Aston Martin DB4', 2006, False],\n",
    "    ['Palio Weekend', 2012, False],\n",
    "    ['A5', 2019, True],\n",
    "    ['Série 3 Cabrio', 2009, False],\n",
    "    ['Dodge Jorney', 2019, False],\n",
    "    ['Carens', 2011, False]\n",
    "]\n",
    "dados"
   ]
  },
  {
   "cell_type": "code",
   "execution_count": null,
   "metadata": {
    "colab": {
     "base_uri": "https://localhost:8080/",
     "height": 34
    },
    "colab_type": "code",
    "id": "nyb0iDH1ltoy",
    "outputId": "961e4590-0216-4652-83ec-4044264c40ae"
   },
   "outputs": [],
   "source": []
  },
  {
   "cell_type": "code",
   "execution_count": null,
   "metadata": {
    "colab": {
     "base_uri": "https://localhost:8080/",
     "height": 153
    },
    "colab_type": "code",
    "id": "5MlITJppltoy",
    "outputId": "688d681e-e26b-436d-bcf4-56ca27854c64"
   },
   "outputs": [],
   "source": []
  },
  {
   "cell_type": "markdown",
   "metadata": {
    "colab_type": "text",
    "id": "51Js0kXD0aRH"
   },
   "source": [
    "### List comprehensions"
   ]
  },
  {
   "cell_type": "code",
   "execution_count": null,
   "metadata": {
    "colab": {
     "base_uri": "https://localhost:8080/",
     "height": 34
    },
    "colab_type": "code",
    "id": "Ly4QUX5J0aRI",
    "outputId": "2c0cdbb5-8904-4f08-b7d4-ed70a9b11902"
   },
   "outputs": [],
   "source": []
  },
  {
   "cell_type": "markdown",
   "metadata": {
    "colab_type": "text",
    "id": "CKjrvO5Tltoz"
   },
   "source": [
    "# 4.4 Instruções *if-else* e *if-elif-else*\n",
    "\n",
    "#### Formato padrão\n",
    "\n",
    "```\n",
    "if <condição>:\n",
    "    <instruções caso a condição seja verdadeira>\n",
    "else:\n",
    "    <instruções caso a condição não seja verdadeira>\n",
    "```"
   ]
  },
  {
   "cell_type": "code",
   "execution_count": null,
   "metadata": {
    "colab": {},
    "colab_type": "code",
    "id": "K_VORb47ltoz"
   },
   "outputs": [],
   "source": []
  },
  {
   "cell_type": "code",
   "execution_count": null,
   "metadata": {
    "colab": {
     "base_uri": "https://localhost:8080/",
     "height": 34
    },
    "colab_type": "code",
    "id": "vhz5T7jDlto1",
    "outputId": "23011d63-fe16-4d8f-a310-3fe6b333ad0d"
   },
   "outputs": [],
   "source": []
  },
  {
   "cell_type": "code",
   "execution_count": null,
   "metadata": {
    "colab": {
     "base_uri": "https://localhost:8080/",
     "height": 153
    },
    "colab_type": "code",
    "id": "XlvlpPjhlto1",
    "outputId": "9b1ae98f-3b20-492d-a13b-af23f604d22d"
   },
   "outputs": [],
   "source": []
  },
  {
   "cell_type": "markdown",
   "metadata": {
    "colab_type": "text",
    "id": "Z2-8WeN1lto2"
   },
   "source": [
    "#### Formato padrão\n",
    "\n",
    "```\n",
    "if <condição 1>:\n",
    "    <instruções caso a condição 1 seja verdadeira>\n",
    "elif <condição 2>:\n",
    "    <instruções caso a condição 2 seja verdadeira>\n",
    "elif <condição 3>:\n",
    "    <instruções caso a condição 3 seja verdadeira>\n",
    "                        .\n",
    "                        .\n",
    "                        .\n",
    "else:\n",
    "    <instruções caso as condições anteriores não sejam verdadeiras>\n",
    "```"
   ]
  },
  {
   "cell_type": "code",
   "execution_count": null,
   "metadata": {
    "colab": {
     "base_uri": "https://localhost:8080/",
     "height": 187
    },
    "colab_type": "code",
    "id": "ggrbaB4Tlto2",
    "outputId": "78f4adf3-34cf-48af-fc96-2c053f6287fb"
   },
   "outputs": [],
   "source": []
  },
  {
   "cell_type": "code",
   "execution_count": null,
   "metadata": {
    "colab": {
     "base_uri": "https://localhost:8080/",
     "height": 102
    },
    "colab_type": "code",
    "id": "KJgRc1F9lto3",
    "outputId": "67054bad-771d-4fea-b0c4-bf6e0bc0baf3"
   },
   "outputs": [],
   "source": [
    "print('AND')\n",
    "print(f'(True and True) o resultado é: {True and True}')\n",
    "print(f'(True and False) o resultado é: {True and False}')\n",
    "print(f'(False and True) o resultado é: {False and True}')\n",
    "print(f'(False and False) o resultado é: {False and False}')"
   ]
  },
  {
   "cell_type": "code",
   "execution_count": null,
   "metadata": {
    "colab": {
     "base_uri": "https://localhost:8080/",
     "height": 102
    },
    "colab_type": "code",
    "id": "sb0mSh-o0aRM",
    "outputId": "6f607bbf-7cd3-4f1c-d6ff-01207ff74b0f"
   },
   "outputs": [],
   "source": [
    "print('OR')\n",
    "print(f'(True or True) o resultado é: {True or True}')\n",
    "print(f'(True or False) o resultado é: {True or False}')\n",
    "print(f'(False or True) o resultado é: {False or True}')\n",
    "print(f'(False or False) o resultado é: {False or False}')"
   ]
  },
  {
   "cell_type": "code",
   "execution_count": null,
   "metadata": {
    "colab": {},
    "colab_type": "code",
    "id": "AfNdTPzElto3"
   },
   "outputs": [],
   "source": []
  },
  {
   "cell_type": "code",
   "execution_count": null,
   "metadata": {
    "colab": {},
    "colab_type": "code",
    "id": "5bN7SuvTlto4"
   },
   "outputs": [],
   "source": []
  },
  {
   "cell_type": "code",
   "execution_count": null,
   "metadata": {
    "colab": {
     "base_uri": "https://localhost:8080/",
     "height": 34
    },
    "colab_type": "code",
    "id": "dDEl3Vfglto4",
    "outputId": "d0978d78-2395-4b16-d7c1-1e521032a827"
   },
   "outputs": [],
   "source": []
  },
  {
   "cell_type": "code",
   "execution_count": null,
   "metadata": {
    "colab": {
     "base_uri": "https://localhost:8080/",
     "height": 68
    },
    "colab_type": "code",
    "id": "Ot4HLQlelto5",
    "outputId": "c7ce788c-2ce9-487d-fe05-7f0ff9ffa8ef"
   },
   "outputs": [],
   "source": []
  },
  {
   "cell_type": "code",
   "execution_count": null,
   "metadata": {
    "colab": {
     "base_uri": "https://localhost:8080/",
     "height": 102
    },
    "colab_type": "code",
    "id": "FN26ZBKJlto5",
    "outputId": "ff5d0420-ac3c-488d-8033-f70b9455b29c"
   },
   "outputs": [],
   "source": []
  },
  {
   "cell_type": "markdown",
   "metadata": {
    "colab_type": "text",
    "id": "aRfQfubxlto6"
   },
   "source": [
    "# <font color=green> 5. NUMPY BÁSICO\n",
    "---\n",
    "\n",
    "Numpy é a abreviação de Numerical Python e é um dos pacotes mais importantes para processamento numérico em Python. Numpy oferece a base para a maioria dos pacotes de aplicações científicas que utilizem dados numéricos em Python (estruturas de dados e algoritmos). Pode-se destacar os seguintes recursos que o pacote Numpy contém:\n",
    "\n",
    "- Um poderoso objeto array multidimensional;\n",
    "- Funções matemáticas sofisticadas para operações com arrays sem a necessidade de utilização de laços *for*;\n",
    "- Recursos de algebra linear e geração de números aleatórios\n",
    "\n",
    "Além de seus óbvios usos científicos, o pacote NumPy também é muito utilizado em análise de dados como um eficiente contêiner multidimensional de dados genéricos para transporte entre diversos algoritmos e bibliotecas em Python.\n",
    "\n",
    "**Versão:** 1.16.5\n",
    "\n",
    "**Instalação:** https://scipy.org/install.html\n",
    "\n",
    "**Documentação:** https://numpy.org/doc/1.16/"
   ]
  },
  {
   "cell_type": "markdown",
   "metadata": {
    "colab_type": "text",
    "id": "RtG2-g1ultme"
   },
   "source": [
    "### Pacotes\n",
    "\n",
    "Existem diversos pacotes Python disponíveis para download na internet. Cada pacote tem como objetivo a solução de determinado tipo de problema e para isso são desenvolvidos novos tipos, funções e métodos.\n",
    "\n",
    "Alguns pacotes são bastante utilizados em um contexto de ciência de dados como por exemplo:\n",
    "\n",
    "- Numpy\n",
    "- Pandas\n",
    "- Scikit-learn\n",
    "- Matplotlib\n",
    "\n",
    "Alguns pacotes não são distribuídos com a instalação default do Python. Neste caso devemos instalar os pacotes que necessitamos em nosso sistema para podermos utilizar suas funcionalidades."
   ]
  },
  {
   "cell_type": "markdown",
   "metadata": {
    "colab_type": "text",
    "id": "b8prsQjmltme"
   },
   "source": [
    "### Importando todo o pacote"
   ]
  },
  {
   "cell_type": "code",
   "execution_count": null,
   "metadata": {
    "colab": {},
    "colab_type": "code",
    "id": "lP0tqXHLltmf"
   },
   "outputs": [],
   "source": []
  },
  {
   "cell_type": "markdown",
   "metadata": {},
   "source": [
    "https://numpy.org/doc/1.16/reference/generated/numpy.arange.html"
   ]
  },
  {
   "cell_type": "code",
   "execution_count": null,
   "metadata": {
    "colab": {
     "base_uri": "https://localhost:8080/",
     "height": 34
    },
    "colab_type": "code",
    "id": "Y40UP3K7ltmg",
    "outputId": "35f0bfcc-af82-4e41-ed31-d615a6ab57ff"
   },
   "outputs": [],
   "source": []
  },
  {
   "cell_type": "markdown",
   "metadata": {
    "colab_type": "text",
    "id": "84-53f4Lltmh"
   },
   "source": [
    "### Importando todo o pacote e atribuindo um novo nome "
   ]
  },
  {
   "cell_type": "code",
   "execution_count": null,
   "metadata": {
    "colab": {},
    "colab_type": "code",
    "id": "CzESWck7ltmi"
   },
   "outputs": [],
   "source": []
  },
  {
   "cell_type": "code",
   "execution_count": null,
   "metadata": {
    "colab": {
     "base_uri": "https://localhost:8080/",
     "height": 34
    },
    "colab_type": "code",
    "id": "RC7Dr5Viltmj",
    "outputId": "641cdf28-11c8-44ff-ee8b-7316ea3309a3"
   },
   "outputs": [],
   "source": []
  },
  {
   "cell_type": "markdown",
   "metadata": {
    "colab_type": "text",
    "id": "WWawttSpltml"
   },
   "source": [
    "### Importando parte do pacote"
   ]
  },
  {
   "cell_type": "code",
   "execution_count": null,
   "metadata": {
    "colab": {},
    "colab_type": "code",
    "id": "8kTeo3Ltltmo"
   },
   "outputs": [],
   "source": []
  },
  {
   "cell_type": "code",
   "execution_count": null,
   "metadata": {
    "colab": {
     "base_uri": "https://localhost:8080/",
     "height": 34
    },
    "colab_type": "code",
    "id": "4LPnpiEwltmt",
    "outputId": "fdd7cfc4-ce08-49b4-c04b-a6f1b9ac2562"
   },
   "outputs": [],
   "source": []
  },
  {
   "cell_type": "markdown",
   "metadata": {
    "colab_type": "text",
    "id": "VSmffnCklto6"
   },
   "source": [
    "# 5.1 Criando arrays Numpy"
   ]
  },
  {
   "cell_type": "code",
   "execution_count": null,
   "metadata": {
    "colab": {},
    "colab_type": "code",
    "id": "Wqpin_-Plto8"
   },
   "outputs": [],
   "source": []
  },
  {
   "cell_type": "markdown",
   "metadata": {
    "colab_type": "text",
    "id": "ock4Ku-Ulto8"
   },
   "source": [
    "### A partir de listas\n",
    "\n",
    "https://numpy.org/doc/1.16/user/basics.creation.html"
   ]
  },
  {
   "cell_type": "code",
   "execution_count": null,
   "metadata": {
    "colab": {},
    "colab_type": "code",
    "id": "82H-09CQlto9"
   },
   "outputs": [],
   "source": []
  },
  {
   "cell_type": "code",
   "execution_count": null,
   "metadata": {
    "colab": {
     "base_uri": "https://localhost:8080/",
     "height": 34
    },
    "colab_type": "code",
    "id": "8VYE3JSYlto9",
    "outputId": "994bfcb0-3620-493d-b52e-e0d7d1211fea"
   },
   "outputs": [],
   "source": []
  },
  {
   "cell_type": "code",
   "execution_count": null,
   "metadata": {
    "colab": {
     "base_uri": "https://localhost:8080/",
     "height": 34
    },
    "colab_type": "code",
    "id": "OBsa5Cfplto-",
    "outputId": "6844f02e-e0fe-4795-b5d4-ab67f0b10764"
   },
   "outputs": [],
   "source": []
  },
  {
   "cell_type": "markdown",
   "metadata": {
    "colab_type": "text",
    "id": "RfQ3jJSAlto-"
   },
   "source": [
    "https://numpy.org/doc/1.16/user/basics.types.html"
   ]
  },
  {
   "cell_type": "code",
   "execution_count": null,
   "metadata": {
    "colab": {
     "base_uri": "https://localhost:8080/",
     "height": 34
    },
    "colab_type": "code",
    "id": "6yLpkJcAlto-",
    "outputId": "b50ec0ed-1af4-4955-a781-e796453002e1"
   },
   "outputs": [],
   "source": []
  },
  {
   "cell_type": "markdown",
   "metadata": {
    "colab_type": "text",
    "id": "1pFx86QPlto_"
   },
   "source": [
    "### A partir de dados externos\n",
    "\n",
    "https://numpy.org/doc/1.16/reference/generated/numpy.loadtxt.html"
   ]
  },
  {
   "cell_type": "code",
   "execution_count": null,
   "metadata": {
    "colab": {},
    "colab_type": "code",
    "id": "26pQLNgrlto_"
   },
   "outputs": [],
   "source": []
  },
  {
   "cell_type": "code",
   "execution_count": null,
   "metadata": {
    "colab": {
     "base_uri": "https://localhost:8080/",
     "height": 578
    },
    "colab_type": "code",
    "id": "FoP42bdpltpA",
    "outputId": "d42c7fff-2645-4c1a-a32d-699e52896f8d",
    "scrolled": true
   },
   "outputs": [],
   "source": []
  },
  {
   "cell_type": "code",
   "execution_count": null,
   "metadata": {
    "colab": {
     "base_uri": "https://localhost:8080/",
     "height": 34
    },
    "colab_type": "code",
    "id": "MNPjZJbYltpA",
    "outputId": "b284de8d-0a2e-4969-c1a1-80da256e4335"
   },
   "outputs": [],
   "source": []
  },
  {
   "cell_type": "markdown",
   "metadata": {
    "colab_type": "text",
    "id": "_wnTg0wJltpB"
   },
   "source": [
    "### Arrays com duas dimensões"
   ]
  },
  {
   "cell_type": "code",
   "execution_count": null,
   "metadata": {
    "colab": {
     "base_uri": "https://localhost:8080/",
     "height": 425
    },
    "colab_type": "code",
    "id": "Gt1dL27GltpB",
    "outputId": "93a154b3-dd3d-476f-e0a6-62ec03ed38ca",
    "scrolled": true
   },
   "outputs": [],
   "source": [
    "dados = [ \n",
    "    ['Rodas de liga', 'Travas elétricas', 'Piloto automático', 'Bancos de couro', 'Ar condicionado', 'Sensor de estacionamento', 'Sensor crepuscular', 'Sensor de chuva'],\n",
    "    ['Central multimídia', 'Teto panorâmico', 'Freios ABS', '4 X 4', 'Painel digital', 'Piloto automático', 'Bancos de couro', 'Câmera de estacionamento'],\n",
    "    ['Piloto automático', 'Controle de estabilidade', 'Sensor crepuscular', 'Freios ABS', 'Câmbio automático', 'Bancos de couro', 'Central multimídia', 'Vidros elétricos']\n",
    "]\n",
    "dados"
   ]
  },
  {
   "cell_type": "code",
   "execution_count": null,
   "metadata": {
    "colab": {},
    "colab_type": "code",
    "id": "IlbYeZPkltpC"
   },
   "outputs": [],
   "source": []
  },
  {
   "cell_type": "code",
   "execution_count": null,
   "metadata": {
    "colab": {
     "base_uri": "https://localhost:8080/",
     "height": 187
    },
    "colab_type": "code",
    "id": "FgjmWozgltpD",
    "outputId": "082af2de-402a-4a7c-d18c-35d6d0cb8adc",
    "scrolled": true
   },
   "outputs": [],
   "source": []
  },
  {
   "cell_type": "code",
   "execution_count": null,
   "metadata": {
    "colab": {
     "base_uri": "https://localhost:8080/",
     "height": 34
    },
    "colab_type": "code",
    "id": "TDM9HskUltpD",
    "outputId": "510eedab-e026-49cf-e31a-ab52bb3b1bae"
   },
   "outputs": [],
   "source": []
  },
  {
   "cell_type": "code",
   "execution_count": null,
   "metadata": {
    "colab": {
     "base_uri": "https://localhost:8080/",
     "height": 34
    },
    "colab_type": "code",
    "id": "bBmnzpF5ltpE",
    "outputId": "cdd9cf12-9f2d-4bb5-efcc-817398b2855f"
   },
   "outputs": [],
   "source": []
  },
  {
   "cell_type": "markdown",
   "metadata": {
    "colab_type": "text",
    "id": "cPbkST9pltpE"
   },
   "source": [
    "### Comparando desempenho com listas"
   ]
  },
  {
   "cell_type": "code",
   "execution_count": null,
   "metadata": {
    "colab": {},
    "colab_type": "code",
    "id": "tTPC-G4vltpE"
   },
   "outputs": [],
   "source": []
  },
  {
   "cell_type": "code",
   "execution_count": null,
   "metadata": {
    "colab": {},
    "colab_type": "code",
    "id": "PIC-ndg9ltpF"
   },
   "outputs": [],
   "source": []
  },
  {
   "cell_type": "code",
   "execution_count": null,
   "metadata": {
    "colab": {
     "base_uri": "https://localhost:8080/",
     "height": 51
    },
    "colab_type": "code",
    "id": "vXy57nk2ltpF",
    "outputId": "887c4318-de05-42f7-8b08-ec0f44805f33"
   },
   "outputs": [],
   "source": []
  },
  {
   "cell_type": "code",
   "execution_count": null,
   "metadata": {
    "colab": {
     "base_uri": "https://localhost:8080/",
     "height": 51
    },
    "colab_type": "code",
    "id": "I94lVgCRltpG",
    "outputId": "09665988-9e30-404f-ced3-94bb0f59fb8f"
   },
   "outputs": [],
   "source": []
  },
  {
   "cell_type": "markdown",
   "metadata": {
    "colab_type": "text",
    "id": "ul4MuKyTltpG"
   },
   "source": [
    "# 5.2 Operações aritméticas com arrays Numpy"
   ]
  },
  {
   "cell_type": "markdown",
   "metadata": {
    "colab_type": "text",
    "id": "QwnxO_rYltpH"
   },
   "source": [
    "### Operações entre arrays e constantes"
   ]
  },
  {
   "cell_type": "code",
   "execution_count": null,
   "metadata": {
    "colab": {},
    "colab_type": "code",
    "id": "63KVHPK0ltpH"
   },
   "outputs": [],
   "source": [
    "km = [44410., 5712., 37123., 0., 25757.]\n",
    "anos = [2003, 1991, 1990, 2019, 2006]"
   ]
  },
  {
   "cell_type": "code",
   "execution_count": null,
   "metadata": {
    "colab": {},
    "colab_type": "code",
    "id": "AryIZaBIltpH"
   },
   "outputs": [],
   "source": []
  },
  {
   "cell_type": "code",
   "execution_count": null,
   "metadata": {
    "colab": {},
    "colab_type": "code",
    "id": "s8GvEk4HltpI"
   },
   "outputs": [],
   "source": [
    "km = np.array([44410., 5712., 37123., 0., 25757.])\n",
    "anos = np.array([2003, 1991, 1990, 2019, 2006])"
   ]
  },
  {
   "cell_type": "code",
   "execution_count": null,
   "metadata": {
    "colab": {},
    "colab_type": "code",
    "id": "aUnYV7OultpI"
   },
   "outputs": [],
   "source": []
  },
  {
   "cell_type": "code",
   "execution_count": null,
   "metadata": {
    "colab": {
     "base_uri": "https://localhost:8080/",
     "height": 34
    },
    "colab_type": "code",
    "id": "vg5yZ9IpltpJ",
    "outputId": "231e6535-3234-4343-dd12-25bffa432ce5"
   },
   "outputs": [],
   "source": []
  },
  {
   "cell_type": "markdown",
   "metadata": {
    "colab_type": "text",
    "id": "qn1PUsM9ltpJ"
   },
   "source": [
    "### Operações entre arrays"
   ]
  },
  {
   "cell_type": "code",
   "execution_count": null,
   "metadata": {
    "colab": {
     "base_uri": "https://localhost:8080/",
     "height": 85
    },
    "colab_type": "code",
    "id": "gU_d5aZkltpJ",
    "outputId": "987ae738-4d0b-4cf4-e1bd-87ecc0245e52"
   },
   "outputs": [],
   "source": []
  },
  {
   "cell_type": "code",
   "execution_count": null,
   "metadata": {
    "colab": {
     "base_uri": "https://localhost:8080/",
     "height": 34
    },
    "colab_type": "code",
    "id": "U9DXntUEltpK",
    "outputId": "1abedb19-e628-4742-8f62-5bf023e9bda0"
   },
   "outputs": [],
   "source": []
  },
  {
   "cell_type": "code",
   "execution_count": null,
   "metadata": {
    "colab": {
     "base_uri": "https://localhost:8080/",
     "height": 34
    },
    "colab_type": "code",
    "id": "n0rPxgY1ltpL",
    "outputId": "37cff722-ea36-42ef-dce3-f635e6121c21"
   },
   "outputs": [],
   "source": []
  },
  {
   "cell_type": "markdown",
   "metadata": {
    "colab_type": "text",
    "id": "o4-gsGICltpN"
   },
   "source": [
    "### Operações com arrays de duas dimensões"
   ]
  },
  {
   "cell_type": "code",
   "execution_count": null,
   "metadata": {
    "colab": {},
    "colab_type": "code",
    "id": "VT71Pbb3ltpN"
   },
   "outputs": [],
   "source": []
  },
  {
   "cell_type": "code",
   "execution_count": null,
   "metadata": {
    "colab": {
     "base_uri": "https://localhost:8080/",
     "height": 51
    },
    "colab_type": "code",
    "id": "bgDe00q8ltpO",
    "outputId": "47e0ef11-cef0-4ae9-f7ed-a833a72183d6"
   },
   "outputs": [],
   "source": []
  },
  {
   "cell_type": "code",
   "execution_count": null,
   "metadata": {
    "colab": {
     "base_uri": "https://localhost:8080/",
     "height": 34
    },
    "colab_type": "code",
    "id": "jIQU2ugKltpP",
    "outputId": "facf9fbe-a73b-43a0-b7ec-885b57f9fcd7"
   },
   "outputs": [],
   "source": []
  },
  {
   "cell_type": "markdown",
   "metadata": {
    "colab_type": "text",
    "id": "dsgz-E5ZltpP"
   },
   "source": [
    "![1410-img01.png](https://caelum-online-public.s3.amazonaws.com/1410-pythondatascience/01/1410-img01.png)"
   ]
  },
  {
   "cell_type": "code",
   "execution_count": null,
   "metadata": {
    "colab": {
     "base_uri": "https://localhost:8080/",
     "height": 34
    },
    "colab_type": "code",
    "id": "imANn6HultpQ",
    "outputId": "25b27625-593e-460c-80ab-f2b10254c11b"
   },
   "outputs": [],
   "source": []
  },
  {
   "cell_type": "code",
   "execution_count": null,
   "metadata": {
    "colab": {
     "base_uri": "https://localhost:8080/",
     "height": 34
    },
    "colab_type": "code",
    "id": "Nkp9ljkvltpQ",
    "outputId": "1a9e9903-3048-49fb-a4a6-8221ce47c737"
   },
   "outputs": [],
   "source": []
  },
  {
   "cell_type": "code",
   "execution_count": null,
   "metadata": {
    "colab": {
     "base_uri": "https://localhost:8080/",
     "height": 85
    },
    "colab_type": "code",
    "id": "njJ2z3HJltpR",
    "outputId": "9990316d-4ca4-431b-bd84-08de6f23a81a"
   },
   "outputs": [],
   "source": []
  },
  {
   "cell_type": "markdown",
   "metadata": {
    "colab_type": "text",
    "id": "4CAwtS0-ltpR"
   },
   "source": [
    "# 5.3 Seleções com arrays Numpy"
   ]
  },
  {
   "cell_type": "markdown",
   "metadata": {
    "colab_type": "text",
    "id": "QDAT1vODltpS"
   },
   "source": [
    "![1410-img01.png](https://caelum-online-public.s3.amazonaws.com/1410-pythondatascience/01/1410-img01.png)"
   ]
  },
  {
   "cell_type": "code",
   "execution_count": null,
   "metadata": {
    "colab": {
     "base_uri": "https://localhost:8080/",
     "height": 51
    },
    "colab_type": "code",
    "id": "nZpPGS2TltpS",
    "outputId": "7da9a1c6-991a-400b-fa4e-f11e79bfce8d"
   },
   "outputs": [],
   "source": []
  },
  {
   "cell_type": "markdown",
   "metadata": {
    "colab_type": "text",
    "id": "b--BIPcOltpT"
   },
   "source": [
    "![1410-img02.png](https://caelum-online-public.s3.amazonaws.com/1410-pythondatascience/01/1410-img02.png)"
   ]
  },
  {
   "cell_type": "markdown",
   "metadata": {
    "colab_type": "text",
    "id": "86-hOHa7ltpT"
   },
   "source": [
    "### Indexação \n",
    "\n",
    "<font color=red>**Observação:**</font> A indexação tem origem no zero."
   ]
  },
  {
   "cell_type": "code",
   "execution_count": null,
   "metadata": {
    "colab": {
     "base_uri": "https://localhost:8080/",
     "height": 34
    },
    "colab_type": "code",
    "id": "mr0Q_X0JltpT",
    "outputId": "fb805552-176f-46e8-bda5-14d8f6f3f956"
   },
   "outputs": [],
   "source": []
  },
  {
   "cell_type": "code",
   "execution_count": null,
   "metadata": {
    "colab": {
     "base_uri": "https://localhost:8080/",
     "height": 34
    },
    "colab_type": "code",
    "id": "VxiR_IgdltpU",
    "outputId": "789052b6-4d9b-48e1-dee4-3a72e38bae10"
   },
   "outputs": [],
   "source": []
  },
  {
   "cell_type": "code",
   "execution_count": null,
   "metadata": {
    "colab": {
     "base_uri": "https://localhost:8080/",
     "height": 34
    },
    "colab_type": "code",
    "id": "xGDomIyAltpU",
    "outputId": "b463a50b-69fa-4038-f3ef-b9a9745db367"
   },
   "outputs": [],
   "source": []
  },
  {
   "cell_type": "code",
   "execution_count": null,
   "metadata": {
    "colab": {
     "base_uri": "https://localhost:8080/",
     "height": 34
    },
    "colab_type": "code",
    "id": "QEO5Za5PltpV",
    "outputId": "1c7569a6-4be0-4d03-ec92-f74c081809f7"
   },
   "outputs": [],
   "source": []
  },
  {
   "cell_type": "code",
   "execution_count": null,
   "metadata": {
    "colab": {
     "base_uri": "https://localhost:8080/",
     "height": 34
    },
    "colab_type": "code",
    "id": "rvkeMK8KltpV",
    "outputId": "e6ec3ad3-2aa5-446e-fa86-89991007d880"
   },
   "outputs": [],
   "source": []
  },
  {
   "cell_type": "code",
   "execution_count": null,
   "metadata": {
    "colab": {
     "base_uri": "https://localhost:8080/",
     "height": 34
    },
    "colab_type": "code",
    "id": "X8c-lJRJltpW",
    "outputId": "6ea4c3e0-ae5e-4a2d-fcf4-9389a806b0a4"
   },
   "outputs": [],
   "source": []
  },
  {
   "cell_type": "markdown",
   "metadata": {
    "colab_type": "text",
    "id": "fCWUSI1zltpZ"
   },
   "source": [
    "## <font color=green>**Dica:**</font>\n",
    "### *ndarray[ linha ][ coluna ]* ou *ndarray[ linha, coluna ]*"
   ]
  },
  {
   "cell_type": "code",
   "execution_count": null,
   "metadata": {
    "colab": {
     "base_uri": "https://localhost:8080/",
     "height": 34
    },
    "colab_type": "code",
    "id": "Nxc3uY-ZltpZ",
    "outputId": "82bcfdd7-0fb9-4f07-86d6-659de36d65dd"
   },
   "outputs": [],
   "source": []
  },
  {
   "cell_type": "code",
   "execution_count": null,
   "metadata": {
    "colab": {
     "base_uri": "https://localhost:8080/",
     "height": 34
    },
    "colab_type": "code",
    "id": "xp8ByjualtpZ",
    "outputId": "ba078aaf-cc7d-4696-b66b-5f493a0eec1f"
   },
   "outputs": [],
   "source": []
  },
  {
   "cell_type": "markdown",
   "metadata": {
    "colab_type": "text",
    "id": "7osmTUC4ltpa"
   },
   "source": [
    " ### Fatiamentos\n",
    " \n",
    "A sintaxe para realizar fatiamento em um array Numpy é $i : j : k$ onde $i$ é o índice inicial, $j$ é o índice de parada, e $k$ é o indicador de passo ($k\\neq0$)\n",
    " \n",
    "<font color=red>**Observação:**</font> Nos fatiamentos (*slices*) o item com índice i é **incluído** e o item com índice j **não é incluído** no resultado."
   ]
  },
  {
   "cell_type": "markdown",
   "metadata": {
    "colab_type": "text",
    "id": "HEx4TbNlltpa"
   },
   "source": [
    "![1410-img01.png](https://caelum-online-public.s3.amazonaws.com/1410-pythondatascience/01/1410-img01.png)"
   ]
  },
  {
   "cell_type": "code",
   "execution_count": null,
   "metadata": {
    "colab": {
     "base_uri": "https://localhost:8080/",
     "height": 34
    },
    "colab_type": "code",
    "id": "tlaD1SENltpb",
    "outputId": "1c126afe-6ce1-4a99-8fe2-0807f37720a8"
   },
   "outputs": [],
   "source": []
  },
  {
   "cell_type": "code",
   "execution_count": null,
   "metadata": {
    "colab": {
     "base_uri": "https://localhost:8080/",
     "height": 34
    },
    "colab_type": "code",
    "id": "vXLIO1cVltpc",
    "outputId": "e4bc0c09-fc11-49d1-8013-bd98d1b2bfef"
   },
   "outputs": [],
   "source": []
  },
  {
   "cell_type": "code",
   "execution_count": null,
   "metadata": {
    "colab": {
     "base_uri": "https://localhost:8080/",
     "height": 34
    },
    "colab_type": "code",
    "id": "kYLgsQcHltpc",
    "outputId": "75041cfe-d698-418c-df94-a2a515170195"
   },
   "outputs": [],
   "source": []
  },
  {
   "cell_type": "code",
   "execution_count": null,
   "metadata": {
    "colab": {
     "base_uri": "https://localhost:8080/",
     "height": 34
    },
    "colab_type": "code",
    "id": "H2MJpIasltpd",
    "outputId": "c92dece1-fa73-4805-db15-8d3bd885bdc9"
   },
   "outputs": [],
   "source": []
  },
  {
   "cell_type": "code",
   "execution_count": null,
   "metadata": {
    "colab": {
     "base_uri": "https://localhost:8080/",
     "height": 34
    },
    "colab_type": "code",
    "id": "YVzf4fNCltpe",
    "outputId": "7c087f8e-e82b-487c-ddbb-3819bb6cfeff"
   },
   "outputs": [],
   "source": []
  },
  {
   "cell_type": "code",
   "execution_count": null,
   "metadata": {
    "colab": {
     "base_uri": "https://localhost:8080/",
     "height": 51
    },
    "colab_type": "code",
    "id": "bPyQsUFPltpf",
    "outputId": "decb9b9d-1365-4abc-b931-0bf7c7c25902"
   },
   "outputs": [],
   "source": []
  },
  {
   "cell_type": "code",
   "execution_count": null,
   "metadata": {
    "colab": {
     "base_uri": "https://localhost:8080/",
     "height": 51
    },
    "colab_type": "code",
    "id": "IRxfixG-ltpg",
    "outputId": "e9fe63bd-b94e-40c6-9151-a7d55f2f3d78"
   },
   "outputs": [],
   "source": []
  },
  {
   "cell_type": "code",
   "execution_count": null,
   "metadata": {
    "colab": {
     "base_uri": "https://localhost:8080/",
     "height": 34
    },
    "colab_type": "code",
    "id": "wfoJ84haltph",
    "outputId": "cc831053-a80d-4f17-81df-5110e67a3b27"
   },
   "outputs": [],
   "source": []
  },
  {
   "cell_type": "code",
   "execution_count": null,
   "metadata": {
    "colab": {
     "base_uri": "https://localhost:8080/",
     "height": 85
    },
    "colab_type": "code",
    "id": "UeejSXUAltph",
    "outputId": "f3f4e506-88a6-44d9-c185-11948413900a"
   },
   "outputs": [],
   "source": []
  },
  {
   "cell_type": "markdown",
   "metadata": {
    "colab_type": "text",
    "id": "-fW4EXIqltpi"
   },
   "source": [
    "### Indexação com array booleano\n",
    "\n",
    "<font color=red>**Observação:**</font> Seleciona um grupo de linhas e colunas segundo os rótulos ou um array booleano."
   ]
  },
  {
   "cell_type": "code",
   "execution_count": null,
   "metadata": {
    "colab": {
     "base_uri": "https://localhost:8080/",
     "height": 34
    },
    "colab_type": "code",
    "id": "MgmH-rCSltpi",
    "outputId": "fdce327f-6fc8-4beb-bc07-401c5c4d4050"
   },
   "outputs": [],
   "source": []
  },
  {
   "cell_type": "code",
   "execution_count": null,
   "metadata": {
    "colab": {
     "base_uri": "https://localhost:8080/",
     "height": 51
    },
    "colab_type": "code",
    "id": "HN1i-BlLltpj",
    "outputId": "8c8cac71-a75c-4d96-8829-ebcf81393aa5"
   },
   "outputs": [],
   "source": []
  },
  {
   "cell_type": "code",
   "execution_count": null,
   "metadata": {
    "colab": {
     "base_uri": "https://localhost:8080/",
     "height": 34
    },
    "colab_type": "code",
    "id": "iXJa9tL4ltpj",
    "outputId": "61ec0c5a-8959-4fae-afcc-6f16c6d832d1"
   },
   "outputs": [],
   "source": []
  },
  {
   "cell_type": "code",
   "execution_count": null,
   "metadata": {
    "colab": {
     "base_uri": "https://localhost:8080/",
     "height": 34
    },
    "colab_type": "code",
    "id": "54gH6X5eltpk",
    "outputId": "0b7bcbdb-f0da-4362-f9d4-da3b832895f6"
   },
   "outputs": [],
   "source": []
  },
  {
   "cell_type": "code",
   "execution_count": null,
   "metadata": {
    "colab": {
     "base_uri": "https://localhost:8080/",
     "height": 51
    },
    "colab_type": "code",
    "id": "F3z6zMELltpk",
    "outputId": "0847c7bf-7203-47e1-c3fb-6fb98c642385"
   },
   "outputs": [],
   "source": []
  },
  {
   "cell_type": "code",
   "execution_count": null,
   "metadata": {
    "colab": {
     "base_uri": "https://localhost:8080/",
     "height": 34
    },
    "colab_type": "code",
    "id": "pk8A68z1ltpl",
    "outputId": "384b5017-e439-43d6-aa21-f080ee6881e4"
   },
   "outputs": [],
   "source": []
  },
  {
   "cell_type": "code",
   "execution_count": null,
   "metadata": {
    "colab": {
     "base_uri": "https://localhost:8080/",
     "height": 51
    },
    "colab_type": "code",
    "id": "WUVMN29_ltpm",
    "outputId": "65384f27-5bb7-43af-bcb0-02879a6b0a38"
   },
   "outputs": [],
   "source": []
  },
  {
   "cell_type": "markdown",
   "metadata": {
    "colab_type": "text",
    "id": "Acw1DffHltpn"
   },
   "source": [
    "# 5.4 Atributos e métodos de arrays Numpy"
   ]
  },
  {
   "cell_type": "markdown",
   "metadata": {
    "colab_type": "text",
    "id": "RBnSne6Eltpo"
   },
   "source": [
    "### Atributos\n",
    "\n",
    "https://numpy.org/doc/1.16/reference/arrays.ndarray.html#array-attributes"
   ]
  },
  {
   "cell_type": "code",
   "execution_count": null,
   "metadata": {
    "colab": {
     "base_uri": "https://localhost:8080/",
     "height": 51
    },
    "colab_type": "code",
    "id": "stjvD6m8ltpo",
    "outputId": "32e25cd2-f033-4837-e02c-88f77438a997"
   },
   "outputs": [],
   "source": []
  },
  {
   "cell_type": "markdown",
   "metadata": {
    "colab_type": "text",
    "id": "uKqPxg2Zltpo"
   },
   "source": [
    "## *ndarray.shape*\n",
    "\n",
    "Retorna uma tupla com as dimensões do array."
   ]
  },
  {
   "cell_type": "code",
   "execution_count": null,
   "metadata": {
    "colab": {
     "base_uri": "https://localhost:8080/",
     "height": 34
    },
    "colab_type": "code",
    "id": "gmaZhF04ltpp",
    "outputId": "ddc2e444-3bce-4795-b4e1-70c050c3cccb"
   },
   "outputs": [],
   "source": []
  },
  {
   "cell_type": "markdown",
   "metadata": {
    "colab_type": "text",
    "id": "XaY6oXkmltpp"
   },
   "source": [
    "## *ndarray.ndim*\n",
    "\n",
    "Retorna o número de dimensões do array."
   ]
  },
  {
   "cell_type": "code",
   "execution_count": null,
   "metadata": {
    "colab": {
     "base_uri": "https://localhost:8080/",
     "height": 34
    },
    "colab_type": "code",
    "id": "inJ4HDjaltpq",
    "outputId": "7abafd3f-aa10-4798-f7d4-3c106ccfaaf9"
   },
   "outputs": [],
   "source": []
  },
  {
   "cell_type": "markdown",
   "metadata": {
    "colab_type": "text",
    "id": "ESgVt5xOltpq"
   },
   "source": [
    "## *ndarray.size*\n",
    "\n",
    "Retorna o número de elementos do array."
   ]
  },
  {
   "cell_type": "code",
   "execution_count": null,
   "metadata": {
    "colab": {
     "base_uri": "https://localhost:8080/",
     "height": 34
    },
    "colab_type": "code",
    "id": "BWr4efoiltpq",
    "outputId": "2c465a85-49a4-4410-b98f-69375c926bc2"
   },
   "outputs": [],
   "source": []
  },
  {
   "cell_type": "markdown",
   "metadata": {
    "colab_type": "text",
    "id": "Ox8JlBM3ltpr"
   },
   "source": [
    "## *ndarray.dtype*\n",
    "\n",
    "Retorna o tipo de dados dos elementos do array."
   ]
  },
  {
   "cell_type": "code",
   "execution_count": null,
   "metadata": {
    "colab": {
     "base_uri": "https://localhost:8080/",
     "height": 34
    },
    "colab_type": "code",
    "id": "npiL84Vfltpu",
    "outputId": "e0922ec0-a1d4-4097-8328-79e7a9048aa2"
   },
   "outputs": [],
   "source": []
  },
  {
   "cell_type": "markdown",
   "metadata": {
    "colab_type": "text",
    "id": "j7uPN16oltpv"
   },
   "source": [
    "## *ndarray.T*\n",
    "\n",
    "Retorna o array transposto, isto é, converte linhas em colunas e vice versa."
   ]
  },
  {
   "cell_type": "code",
   "execution_count": null,
   "metadata": {
    "colab": {
     "base_uri": "https://localhost:8080/",
     "height": 102
    },
    "colab_type": "code",
    "id": "bLjrrx56ltpv",
    "outputId": "54439045-02cb-40d1-9862-475e9d350aa3"
   },
   "outputs": [],
   "source": []
  },
  {
   "cell_type": "code",
   "execution_count": null,
   "metadata": {
    "colab": {
     "base_uri": "https://localhost:8080/",
     "height": 102
    },
    "colab_type": "code",
    "id": "5A9SlJQvltpw",
    "outputId": "830c7107-c7ce-4cbc-c2d0-de6fa5c98781"
   },
   "outputs": [],
   "source": []
  },
  {
   "cell_type": "markdown",
   "metadata": {
    "colab_type": "text",
    "id": "e9r6ryTrltpw"
   },
   "source": [
    "### Métodos\n",
    "\n",
    "https://numpy.org/doc/1.16/reference/arrays.ndarray.html#array-methods"
   ]
  },
  {
   "cell_type": "markdown",
   "metadata": {
    "colab_type": "text",
    "id": "SR9KYy-0ltpw"
   },
   "source": [
    "## *ndarray.tolist()*\n",
    "\n",
    "Retorna o array como uma lista Python."
   ]
  },
  {
   "cell_type": "code",
   "execution_count": null,
   "metadata": {
    "colab": {
     "base_uri": "https://localhost:8080/",
     "height": 51
    },
    "colab_type": "code",
    "id": "C2aTAwOXltpw",
    "outputId": "fa7a9260-94dc-4a0e-f83f-2aaff67e864d"
   },
   "outputs": [],
   "source": []
  },
  {
   "cell_type": "markdown",
   "metadata": {
    "colab_type": "text",
    "id": "bHxcxugPltpx"
   },
   "source": [
    "## *ndarray.reshape(shape[, order])*\n",
    "\n",
    "Retorna um array que contém os mesmos dados com uma nova forma."
   ]
  },
  {
   "cell_type": "code",
   "execution_count": null,
   "metadata": {
    "colab": {
     "base_uri": "https://localhost:8080/",
     "height": 34
    },
    "colab_type": "code",
    "id": "lwESxO71ltpx",
    "outputId": "25e45d80-e0ac-42d1-cb75-c284a7974264"
   },
   "outputs": [],
   "source": []
  },
  {
   "cell_type": "code",
   "execution_count": null,
   "metadata": {
    "colab": {
     "base_uri": "https://localhost:8080/",
     "height": 102
    },
    "colab_type": "code",
    "id": "sh9poyfzltpy",
    "outputId": "749190d1-f59e-4e86-f134-46bc32af6400"
   },
   "outputs": [],
   "source": []
  },
  {
   "cell_type": "code",
   "execution_count": null,
   "metadata": {
    "colab": {
     "base_uri": "https://localhost:8080/",
     "height": 102
    },
    "colab_type": "code",
    "id": "5332Xu8-ltpy",
    "outputId": "be1bd786-2632-4740-f356-1ece1681bad2"
   },
   "outputs": [],
   "source": []
  },
  {
   "cell_type": "code",
   "execution_count": null,
   "metadata": {
    "colab": {
     "base_uri": "https://localhost:8080/",
     "height": 102
    },
    "colab_type": "code",
    "id": "2RoZvbgHltpz",
    "outputId": "00c856c5-6b66-4bba-9cae-54882c1fb729"
   },
   "outputs": [],
   "source": []
  },
  {
   "cell_type": "code",
   "execution_count": null,
   "metadata": {
    "colab": {},
    "colab_type": "code",
    "id": "6q0dJZ-dltp0"
   },
   "outputs": [],
   "source": [
    "km = [44410, 5712, 37123, 0, 25757]\n",
    "anos = [2003, 1991, 1990, 2019, 2006]"
   ]
  },
  {
   "cell_type": "code",
   "execution_count": null,
   "metadata": {
    "colab": {
     "base_uri": "https://localhost:8080/",
     "height": 34
    },
    "colab_type": "code",
    "id": "bs56aGrkltp0",
    "outputId": "151668b5-b428-4139-a941-091203c8a827"
   },
   "outputs": [],
   "source": []
  },
  {
   "cell_type": "code",
   "execution_count": null,
   "metadata": {
    "colab": {
     "base_uri": "https://localhost:8080/",
     "height": 51
    },
    "colab_type": "code",
    "id": "s_GkTk2fltp1",
    "outputId": "9e6b7037-8ec0-485d-fc38-c3189e728caf"
   },
   "outputs": [],
   "source": []
  },
  {
   "cell_type": "code",
   "execution_count": null,
   "metadata": {
    "colab": {
     "base_uri": "https://localhost:8080/",
     "height": 102
    },
    "colab_type": "code",
    "id": "xodm8DVZltp1",
    "outputId": "7fe87021-3ac5-4e5b-cb64-c24739104564"
   },
   "outputs": [],
   "source": []
  },
  {
   "cell_type": "markdown",
   "metadata": {
    "colab_type": "text",
    "id": "Tdj5iArbltp2"
   },
   "source": [
    "## *ndarray.resize(new_shape[, refcheck])*\n",
    "\n",
    "Altera a forma e o tamanho do array."
   ]
  },
  {
   "cell_type": "code",
   "execution_count": null,
   "metadata": {
    "colab": {
     "base_uri": "https://localhost:8080/",
     "height": 51
    },
    "colab_type": "code",
    "id": "vB2zxCDtltp2",
    "outputId": "1709d905-c9b5-4365-9e40-08b422050b09"
   },
   "outputs": [],
   "source": []
  },
  {
   "cell_type": "code",
   "execution_count": null,
   "metadata": {
    "colab": {},
    "colab_type": "code",
    "id": "IMv0m4Multp2"
   },
   "outputs": [],
   "source": []
  },
  {
   "cell_type": "code",
   "execution_count": null,
   "metadata": {
    "colab": {
     "base_uri": "https://localhost:8080/",
     "height": 68
    },
    "colab_type": "code",
    "id": "wpAi9928ltp3",
    "outputId": "3e74adf2-de07-4f6b-e753-f2c8e352fbcf"
   },
   "outputs": [],
   "source": []
  },
  {
   "cell_type": "code",
   "execution_count": null,
   "metadata": {
    "colab": {
     "base_uri": "https://localhost:8080/",
     "height": 51
    },
    "colab_type": "code",
    "id": "CJyuKqaFltp3",
    "outputId": "aa61e9f3-ae59-4bae-80f7-7721129c6c83"
   },
   "outputs": [],
   "source": []
  },
  {
   "cell_type": "code",
   "execution_count": null,
   "metadata": {
    "colab": {
     "base_uri": "https://localhost:8080/",
     "height": 119
    },
    "colab_type": "code",
    "id": "bj_iPZAultp4",
    "outputId": "89d42d11-ba8f-45f0-eae7-ef8cdcda706d"
   },
   "outputs": [],
   "source": []
  },
  {
   "cell_type": "markdown",
   "metadata": {
    "colab_type": "text",
    "id": "GPSk7Q_Dltp4"
   },
   "source": [
    "# 5.5 Estatísticas com arrays Numpy\n",
    "\n",
    "https://numpy.org/doc/1.16/reference/arrays.ndarray.html#calculation\n",
    "\n",
    "e\n",
    "\n",
    "https://numpy.org/doc/1.16/reference/routines.statistics.html\n",
    "\n",
    "e\n",
    "\n",
    "https://numpy.org/doc/1.16/reference/routines.math.html"
   ]
  },
  {
   "cell_type": "code",
   "execution_count": null,
   "metadata": {
    "colab": {},
    "colab_type": "code",
    "id": "RH2u1orXltp5"
   },
   "outputs": [],
   "source": [
    "anos = np.loadtxt(fname = \"carros-anos.txt\", dtype = int)\n",
    "km = np.loadtxt(fname = \"carros-km.txt\")\n",
    "valor = np.loadtxt(fname = \"carros-valor.txt\")"
   ]
  },
  {
   "cell_type": "code",
   "execution_count": null,
   "metadata": {
    "colab": {
     "base_uri": "https://localhost:8080/",
     "height": 34
    },
    "colab_type": "code",
    "id": "wbITF7r6ltp5",
    "outputId": "b8aa6e88-3d2a-4bd8-801b-211fd0cbc6eb"
   },
   "outputs": [],
   "source": []
  },
  {
   "cell_type": "markdown",
   "metadata": {
    "colab_type": "text",
    "id": "U_x3SOVDltp7"
   },
   "source": [
    "https://numpy.org/doc/1.16/reference/generated/numpy.column_stack.html"
   ]
  },
  {
   "cell_type": "code",
   "execution_count": null,
   "metadata": {
    "colab": {
     "base_uri": "https://localhost:8080/",
     "height": 1000
    },
    "colab_type": "code",
    "id": "wefxl-XBltp8",
    "outputId": "7d31e768-4d29-4c2e-8893-0b71f1bf1da1"
   },
   "outputs": [],
   "source": []
  },
  {
   "cell_type": "code",
   "execution_count": null,
   "metadata": {
    "colab": {
     "base_uri": "https://localhost:8080/",
     "height": 34
    },
    "colab_type": "code",
    "id": "OzDTTmj8ltp_",
    "outputId": "ab5c3112-2b74-4adb-8129-6efecc5a0856",
    "scrolled": true
   },
   "outputs": [],
   "source": []
  },
  {
   "cell_type": "markdown",
   "metadata": {
    "colab_type": "text",
    "id": "Me6yUU_RltqA"
   },
   "source": [
    "## *np.mean()*\n",
    "\n",
    "Retorna a média dos elementos do array ao longo do eixo especificado."
   ]
  },
  {
   "cell_type": "code",
   "execution_count": null,
   "metadata": {
    "colab": {
     "base_uri": "https://localhost:8080/",
     "height": 34
    },
    "colab_type": "code",
    "id": "MNEKcP38ltqA",
    "outputId": "b88f235c-a375-44c8-b30c-2c7b9a176714"
   },
   "outputs": [],
   "source": []
  },
  {
   "cell_type": "code",
   "execution_count": null,
   "metadata": {
    "colab": {
     "base_uri": "https://localhost:8080/",
     "height": 1000
    },
    "colab_type": "code",
    "id": "sekHQ84zltqB",
    "outputId": "80164c3a-6f6b-4774-dc17-88930e1fac58"
   },
   "outputs": [],
   "source": []
  },
  {
   "cell_type": "code",
   "execution_count": null,
   "metadata": {
    "colab": {
     "base_uri": "https://localhost:8080/",
     "height": 34
    },
    "colab_type": "code",
    "id": "RpyETIVSltqC",
    "outputId": "3c4da336-d239-42c6-b818-6a6f997a618c"
   },
   "outputs": [],
   "source": []
  },
  {
   "cell_type": "code",
   "execution_count": null,
   "metadata": {
    "colab": {
     "base_uri": "https://localhost:8080/",
     "height": 34
    },
    "colab_type": "code",
    "id": "_-kpcTI8ltqD",
    "outputId": "e238f752-2fd6-4a07-c50a-1a4c937f45da",
    "scrolled": true
   },
   "outputs": [],
   "source": []
  },
  {
   "cell_type": "markdown",
   "metadata": {
    "colab_type": "text",
    "id": "71jViVBUltqE"
   },
   "source": [
    "## *np.std()*\n",
    "\n",
    "Retorna o desvio padrão dos elementos do array ao longo do eixo especificado."
   ]
  },
  {
   "cell_type": "code",
   "execution_count": null,
   "metadata": {
    "colab": {
     "base_uri": "https://localhost:8080/",
     "height": 34
    },
    "colab_type": "code",
    "id": "lEwUbPx2ltqE",
    "outputId": "50758772-5a03-4041-e067-5208434654cd",
    "scrolled": true
   },
   "outputs": [],
   "source": []
  },
  {
   "cell_type": "markdown",
   "metadata": {
    "colab_type": "text",
    "id": "JTUH-vAeltqG"
   },
   "source": [
    "## *ndarray.sum()*\n",
    "\n",
    "Retorna a soma dos elementos do array ao longo do eixo especificado."
   ]
  },
  {
   "cell_type": "code",
   "execution_count": null,
   "metadata": {
    "colab": {
     "base_uri": "https://localhost:8080/",
     "height": 34
    },
    "colab_type": "code",
    "id": "jIi3yoaWltqG",
    "outputId": "74d5043b-9e9d-4231-bf71-a8d127df0fa8"
   },
   "outputs": [],
   "source": []
  },
  {
   "cell_type": "code",
   "execution_count": null,
   "metadata": {
    "colab": {
     "base_uri": "https://localhost:8080/",
     "height": 34
    },
    "colab_type": "code",
    "id": "X3QYbdYLltqH",
    "outputId": "c5baaa9e-a26c-4baf-844c-0dbeaddf2c05"
   },
   "outputs": [],
   "source": []
  },
  {
   "cell_type": "markdown",
   "metadata": {
    "colab_type": "text",
    "id": "WbBD5ixaltqH"
   },
   "source": [
    "## *np.sum()*\n",
    "\n",
    "Retorna a soma dos elementos do array ao longo do eixo especificado."
   ]
  },
  {
   "cell_type": "code",
   "execution_count": null,
   "metadata": {
    "colab": {
     "base_uri": "https://localhost:8080/",
     "height": 34
    },
    "colab_type": "code",
    "id": "omB6kgWgltqH",
    "outputId": "dc6ccc67-663e-4960-fcb6-7679473254d6"
   },
   "outputs": [],
   "source": []
  },
  {
   "cell_type": "code",
   "execution_count": null,
   "metadata": {
    "colab": {
     "base_uri": "https://localhost:8080/",
     "height": 34
    },
    "colab_type": "code",
    "id": "LiD4G3kQltqI",
    "outputId": "7f4a5b05-15fe-45dc-b4fa-3bd405ccea45"
   },
   "outputs": [],
   "source": []
  },
  {
   "cell_type": "code",
   "execution_count": null,
   "metadata": {
    "colab": {},
    "colab_type": "code",
    "id": "kpakpnntltqJ"
   },
   "outputs": [],
   "source": []
  }
 ],
 "metadata": {
  "colab": {
   "name": "Python_para_Data_Science_Numpy.ipynb",
   "provenance": [],
   "toc_visible": true
  },
  "kernelspec": {
   "display_name": "Python 3",
   "language": "python",
   "name": "python3"
  },
  "language_info": {
   "codemirror_mode": {
    "name": "ipython",
    "version": 3
   },
   "file_extension": ".py",
   "mimetype": "text/x-python",
   "name": "python",
   "nbconvert_exporter": "python",
   "pygments_lexer": "ipython3",
   "version": "3.7.3"
  }
 },
 "nbformat": 4,
 "nbformat_minor": 1
}
