{
 "cells": [
  {
   "cell_type": "markdown",
   "metadata": {},
   "source": [
    "# Introdução ao Python - Aula 4\n",
    "<br><br>\n",
    "[**Scripting**](#aula_quatro)<br>\n",
    "1 - [Executando um script em Python](#aula_quatro-exec)<br>\n",
    "2 - [Erros e exceções](#aula_quatro-erros)<br>\n",
    "3 - [Lendo e escrevendo arquivos](#aula_quatro-arquivos)<br>\n",
    "4 - [Importando arquivos](#aula_quatro-import)<br>\n",
    "5 - [Experimentando um interpretador](#aula_quatro-interpretador)<br>\n",
    "6 - [](#aula_quatro-)<br>\n",
    "7 - [](#aula_quatro-)<br>\n",
    "8 - [](#aula_quatro-)<br>\n",
    "9 - [](#aula_quatro-)<br>\n",
    "10 - [](#aula_quatro-)<br>\n",
    "11 - [](#aula_quatro-)<br>\n",
    "12 - [](#aula_quatro-)<br>\n",
    "\n",
    "\n",
    "## <a id='aula_quatro'>Scripting</a>\n",
    "- Execução e edição de scripts em Python\n",
    "- Interação com a entrada do usuário\n",
    "- Tratamento de exceções\n",
    "- Leitura e escrita de arquivos\n",
    "- Importação de módulos locais, padrões e de terceiros\n",
    "- Experimentação com um interpretador\n",
    "\n",
    "\n",
    " \n",
    "### <a id='aula_quatro-exec'>1. Executando um script em Python</a>\n",
    "1. Crie um arquivo first_script.py, por exemplo, em um diretório apropriado no seu computador e adicione um print com alguma frase de sua preferência. Esse pode ser um bom momento para configurar um novo diretório para sua aprendizagem, se você ainda não tiver um.\n",
    "2. Abra o terminal e navegue até o diretório que contém o arquivo criado.\n",
    "3. Agora que você está no diretório com o arquivo, você pode executá-lo rodando o comando `python first_script.py`."
   ]
  },
  {
   "cell_type": "code",
   "execution_count": 1,
   "metadata": {},
   "outputs": [
    {
     "name": "stdout",
     "output_type": "stream",
     "text": [
      "Congratulations on running this script!!\n"
     ]
    }
   ],
   "source": [
    "print('Congratulations on running this script!!')"
   ]
  },
  {
   "cell_type": "markdown",
   "metadata": {},
   "source": [
    "#### 1.1. Editando um script em Python\n",
    "Abra um novo arquivo vazio em seu editor de texto, nomeie e salve-o no local onde você mantém os arquivos de seu aprendizado de Python. Coloque o seguinte código no arquivo:"
   ]
  },
  {
   "cell_type": "code",
   "execution_count": 3,
   "metadata": {},
   "outputs": [
    {
     "name": "stdout",
     "output_type": "stream",
     "text": [
      "\n",
      "Welcome to Python3!\n",
      "\n",
      "             ____\n",
      "            / . .\\\n",
      "            \\  ---<\n",
      "             \\  /\n",
      "   __________/ /\n",
      "-=:___________/\n",
      "\n",
      "<3, Bruno\n",
      "\n"
     ]
    }
   ],
   "source": [
    "how_many_snakes = 1\n",
    "snake_string = \"\"\"\n",
    "Welcome to Python3!\n",
    "\n",
    "             ____\n",
    "            / . .\\\\\n",
    "            \\  ---<\n",
    "             \\  /\n",
    "   __________/ /\n",
    "-=:___________/\n",
    "\n",
    "<3, Bruno\n",
    "\"\"\"\n",
    "\n",
    "\n",
    "print(snake_string * how_many_snakes)"
   ]
  },
  {
   "cell_type": "markdown",
   "metadata": {},
   "source": [
    "#### 1.2. Scripting com entrada\n",
    "Podemos obter uma entrada bruta do usuário com a função interna input, que recebe como argumento uma string opcional que você pode usar para especificar qual mensagem é exibida ao usuário ao pedir a entrada."
   ]
  },
  {
   "cell_type": "code",
   "execution_count": 4,
   "metadata": {},
   "outputs": [
    {
     "name": "stdout",
     "output_type": "stream",
     "text": [
      "Enter your name: Bruno\n",
      "Hello there, Bruno!\n"
     ]
    }
   ],
   "source": [
    "name = input(\"Enter your name: \")\n",
    "print(\"Hello there, {}!\".format(name.title()))"
   ]
  },
  {
   "cell_type": "markdown",
   "metadata": {},
   "source": [
    "Isso incita o usuário a inserir um nome e, então, usa essa entrada em uma saudação. A função `input` recebe um tipo qualquer que o usuário digite e o armazena como uma string. Se você quer interpretar a entrada como algo diferente de uma string, tal qual um inteiro, como no exemplo abaixo, precisa colocar o resultado no novo tipo para convertê-lo em uma string."
   ]
  },
  {
   "cell_type": "code",
   "execution_count": 8,
   "metadata": {},
   "outputs": [
    {
     "name": "stdout",
     "output_type": "stream",
     "text": [
      "Enter an integer: 3\n",
      "hello! hello! hello! \n"
     ]
    }
   ],
   "source": [
    "num = int(input(\"Enter an integer: \"))\n",
    "print(\"hello! \" * num)"
   ]
  },
  {
   "cell_type": "markdown",
   "metadata": {},
   "source": [
    "Podemos também interpretar a entrada do usuário como uma expressão Python usando a função interna `eval`. Esta função avalia uma string como uma linha de Python. "
   ]
  },
  {
   "cell_type": "code",
   "execution_count": 9,
   "metadata": {},
   "outputs": [
    {
     "name": "stdout",
     "output_type": "stream",
     "text": [
      "Enter an expression: 2*5\n",
      "10\n"
     ]
    }
   ],
   "source": [
    "result = eval(input(\"Enter an expression: \"))\n",
    "print(result)"
   ]
  },
  {
   "cell_type": "markdown",
   "metadata": {},
   "source": [
    "Se o usuário insere `2 * 3`, isso produz `6`."
   ]
  },
  {
   "cell_type": "markdown",
   "metadata": {},
   "source": [
    "### <a id='aula_quatro-erros'>2. Erros e exceções</a>\n",
    "- **Erros de sintaxe** ocorrem quando o Python não pode interpretar nosso código por não seguirmos a sintaxe correta para Python. Estes são erros que é provável que você cometa quando há um erro de digitação ou quando está começando a aprender Python.\n",
    "- **Exceções** ocorrem quando coisas inesperadas acontecem durante a execução de um programa, mesmo que o código esteja sintaticamente correto. Existem diferentes tipos de exceções internas em Python, e você pode ver qual foi a exceção lançada na mensagem de erro.\n",
    "\n",
    "#### 2.1. Declaração try\n",
    "Podemos utilizar declarações try para lidar com exceções. Existem quatro cláusulas que você pode usar (uma além daquelas mostrados no vídeo).\n",
    "- `try`: Essa é a única cláusula mandatória em uma declaração `try`. O código neste bloco é a primeira coisa que o Python executa em uma declaração `try`.\n",
    "- `except`: Se o Python encontra uma exceção durante a execução do bloco `try`, ele vai saltar para o bloco `except` que lida com aquela exceção.\n",
    "- `else`: Se o Python não encontra exceções durante a execução do bloco `try`, ele executará o código neste bloco depois de executar o bloco `try`.\n",
    "- `finally`: Antes de o Python sair da declaração `try`, ele executará o código deste bloco `finally` sob quaisquer condições, mesmo se estiver finalizando o programa. Por exemplo, se o Python encontrou um erro durante a execução do código do bloco `except` ou `else` , este bloco `finally` ainda será executado antes da interrupção do programa.\n",
    "\n",
    "[Por que precisamos da cláusula `finally` em Python?](https://stackoverflow.com/questions/11551996/why-do-we-need-the-finally-clause-in-python)\n",
    "\n",
    "No exemplo abaixo podemos ver um exemplo de _erro de excessão_:"
   ]
  },
  {
   "cell_type": "code",
   "execution_count": 3,
   "metadata": {},
   "outputs": [
    {
     "name": "stdout",
     "output_type": "stream",
     "text": [
      "Digite um número: dez\n",
      "Este não é um número válido!\n",
      "Tentativa de entrada!\n",
      "\n",
      "Digite um número: cinco\n",
      "Este não é um número válido!\n",
      "Tentativa de entrada!\n",
      "\n",
      "Digite um número: 3\n",
      "Tentativa de entrada!\n",
      "\n",
      "Número válido digitado!\n"
     ]
    }
   ],
   "source": [
    "while True:\n",
    "    try:\n",
    "        x = int(input('Digite um número: '))\n",
    "        break\n",
    "    except:\n",
    "        print('Este não é um número válido!')\n",
    "    finally:\n",
    "        print('Tentativa de entrada!\\n')\n",
    "print('Número válido digitado!')"
   ]
  },
  {
   "cell_type": "markdown",
   "metadata": {},
   "source": [
    "#### 2.2. Especificando exceções\n",
    "Se quisermos interromper a execução do programa com o comando `ctrl+C`, o código irá continuar a tratar esta entrada como uma exceção, pois não foi especificada o tipo de exceção. Para tratar disso podemos especificar com qual erro queremos lidar em um bloco `except`, desta maneira:"
   ]
  },
  {
   "cell_type": "code",
   "execution_count": 5,
   "metadata": {},
   "outputs": [
    {
     "name": "stdout",
     "output_type": "stream",
     "text": [
      "Digite um número: dez\n",
      "Este não é um número válido!\n",
      "Tentativa de entrada!\n",
      "\n",
      "Digite um número: ^C\n",
      "Este não é um número válido!\n",
      "Tentativa de entrada!\n",
      "\n",
      "Digite um número: 7\n",
      "Tentativa de entrada!\n",
      "\n",
      "Número válido digitado!\n"
     ]
    }
   ],
   "source": [
    "while True:\n",
    "    try:\n",
    "        x = int(input('Digite um número: '))\n",
    "        break\n",
    "    except ValueError:\n",
    "        print('Este não é um número válido!')\n",
    "    finally:\n",
    "        print('Tentativa de entrada!\\n')\n",
    "print('Número válido digitado!')"
   ]
  },
  {
   "cell_type": "markdown",
   "metadata": {},
   "source": [
    "Agora, ele pega a exceção ValueError, mas não as outras exceções (aqui ele pegou o ^C, pois foi digitada a string '^C' mesmo XD). Se queremos que esse tratador lide com mais de um tipo de exceção, nós podemos incluir uma tupla após `except` com as exceções."
   ]
  },
  {
   "cell_type": "code",
   "execution_count": null,
   "metadata": {},
   "outputs": [],
   "source": [
    "while True:\n",
    "    try:\n",
    "        x = int(input('Digite um número: '))\n",
    "        break\n",
    "    except ValueError, KeyboardInterrupt:\n",
    "        print('Este não é um número válido!')\n",
    "    finally:\n",
    "        print('Tentativa de entrada!\\n')\n",
    "print('Número válido digitado!')"
   ]
  },
  {
   "cell_type": "markdown",
   "metadata": {},
   "source": [
    "Ou, se quisermos executar diferentes blocos de código dependendo da exceção, você pode ter vários blocos `except`."
   ]
  },
  {
   "cell_type": "code",
   "execution_count": null,
   "metadata": {},
   "outputs": [],
   "source": [
    "while True:\n",
    "    try:\n",
    "        x = int(input('Digite um número: '))\n",
    "        break\n",
    "    except ValueError:\n",
    "        print('Este não é um número válido!')\n",
    "    except KeyboardInterrupt:\n",
    "        print('Este não é um número válido!')\n",
    "    finally:\n",
    "        print('Tentativa de entrada!\\n')\n",
    "print('Número válido digitado!')"
   ]
  },
  {
   "cell_type": "markdown",
   "metadata": {},
   "source": [
    "#### 2.3. Acessando as mensagens de erro\n",
    "Quando você lida com uma exceção, ainda pode acessar sua mensagem de erro desta forma:"
   ]
  },
  {
   "cell_type": "code",
   "execution_count": 6,
   "metadata": {},
   "outputs": [
    {
     "name": "stdout",
     "output_type": "stream",
     "text": [
      "Digite um número: 20\n",
      "Digite outro para dividi-lo: 0\n",
      "ZeroDivisionError occurred: division by zero\n",
      "Tentativa de entrada!\n",
      "\n",
      "Digite um número: 20\n",
      "Digite outro para dividi-lo: 2\n",
      "10.0\n",
      "Tentativa de entrada!\n",
      "\n"
     ]
    }
   ],
   "source": [
    "while True:\n",
    "    try:\n",
    "        x = int(input('Digite um número: '))\n",
    "        y = x / int(input('Digite outro para dividi-lo: '))\n",
    "        print(y)\n",
    "        break\n",
    "    except ZeroDivisionError as e:\n",
    "        print(\"ZeroDivisionError occurred: {}\".format(e))\n",
    "    finally:\n",
    "        print('Tentativa de entrada!\\n')"
   ]
  },
  {
   "cell_type": "markdown",
   "metadata": {},
   "source": [
    "Então, você ainda pode acessar as mensagens de erro, mesmo que lide com eles para evitar que seu programa seja interrompido!\n",
    "\n",
    "Se você não tiver um erro específico com o qual está lidando, ainda pode acessar a mensagem assim:"
   ]
  },
  {
   "cell_type": "code",
   "execution_count": 7,
   "metadata": {},
   "outputs": [
    {
     "name": "stdout",
     "output_type": "stream",
     "text": [
      "Digite um número: 30\n",
      "Digite outro para dividi-lo: 0\n",
      "Exception occurred: division by zero\n",
      "Tentativa de entrada!\n",
      "\n",
      "Digite um número: 40\n",
      "Digite outro para dividi-lo: 4\n",
      "10.0\n",
      "Tentativa de entrada!\n",
      "\n"
     ]
    }
   ],
   "source": [
    "while True:\n",
    "    try:\n",
    "        x = int(input('Digite um número: '))\n",
    "        y = x / int(input('Digite outro para dividi-lo: '))\n",
    "        print(y)\n",
    "        break\n",
    "    except ZeroDivisionError as e:\n",
    "        print(\"Exception occurred: {}\".format(e))\n",
    "    finally:\n",
    "        print('Tentativa de entrada!\\n')"
   ]
  },
  {
   "cell_type": "markdown",
   "metadata": {},
   "source": [
    "`Exception` é a classe base para todas as exceções internas. Você pode aprender mais sobre as exceções do Python [aqui](https://docs.python.org/3/library/exceptions.html#bltin-exceptions)."
   ]
  },
  {
   "cell_type": "markdown",
   "metadata": {},
   "source": [
    "### <a id='aula_dois-arquivos'>3. Lendo e escrevendo arquivos</a>\n",
    "Crie um novo arquivo, escolha o concetúdo de acordo com sua preferência e salve-o no seu diretório de aprendizado.\n",
    "\n",
    "#### 3.1. Lendo um arquivo"
   ]
  },
  {
   "cell_type": "code",
   "execution_count": 8,
   "metadata": {},
   "outputs": [
    {
     "name": "stdout",
     "output_type": "stream",
     "text": [
      "Hello!!\n",
      "\n",
      "You've read the contents of this file!\n"
     ]
    }
   ],
   "source": [
    "f = open('imagens/aula4_arquivo-teste-leitura.txt', 'r')\n",
    "file_data = f.read()\n",
    "print(file_data)\n",
    "f.close()"
   ]
  },
  {
   "cell_type": "markdown",
   "metadata": {},
   "source": [
    "1. Primeiro, abra o arquivo usando a função interna `open`. Isso requer uma string que mostre o caminho para o arquivo. A função `open` devolve um objeto de arquivo, que é um objeto do Python, através do qual o Python interage com o arquivo em si. Aqui, podemos atribuir a esse objeto a variável `f`.\n",
    "2. Existem parâmetros opcionais que você pode especificar na função open. Um é o modo com o qual vamos abrir o arquivo. Aqui, usamos `'r'` ou somente leitura. Este é, na verdade, o valor padrão para o argumento modo.\n",
    "3. Use o método `read` para acessar o conteúdo do objeto de arquivo. Este método `read` recebe o texto contido em um arquivo e o coloca em uma string. Aqui, podemos atribuir a string devolvida por esse método para a variável `file_data`.\n",
    "4. Ao terminar com o arquivo, use o método `close` para liberar quaisquer recursos do sistema ocupados pelo arquivo.\n",
    "\n",
    "#### 3.2. Escrevendo em um arquivo"
   ]
  },
  {
   "cell_type": "code",
   "execution_count": 11,
   "metadata": {},
   "outputs": [
    {
     "name": "stdout",
     "output_type": "stream",
     "text": [
      "Hello there!\n"
     ]
    }
   ],
   "source": [
    "f = open('imagens/aula4_arquivo-teste-escrita.txt', 'w')\n",
    "f.write(\"Hello there!\")\n",
    "f.close()\n",
    "\n",
    "f = open('imagens/aula4_arquivo-teste-escrita.txt', 'r')\n",
    "file_data = f.read()\n",
    "print(file_data)\n",
    "f.close()"
   ]
  },
  {
   "cell_type": "markdown",
   "metadata": {},
   "source": [
    "1. Abra o arquivo no modo de escrita (`'w'`). Se o arquivo não existir, o Python vai criá-lo para você. Se você abrir um arquivo existente no modo de escrita, qualquer conteúdo que ele continha anteriormente será excluído. Se você estiver interessado em adicionar algo a um arquivo existente, sem excluir seu conteúdo, deve usar o modo acrescentar (`'a'`), em vez de escrever.\n",
    "2. Use o método de escrita `write()` para adicionar texto ao arquivo.\n",
    "3. Feche o arquivo quando terminar.\n",
    "\n",
    "#### 3.3. Muitos arquivos abertos\n",
    "Execute o seguinte script em Python para ver o que acontece quando você abre muitos arquivos sem fechá-los!"
   ]
  },
  {
   "cell_type": "code",
   "execution_count": 15,
   "metadata": {},
   "outputs": [],
   "source": [
    "files = []\n",
    "for i in range(10000):\n",
    "    files.append(open('some_file.txt', 'r'))\n",
    "    print(i)"
   ]
  },
  {
   "cell_type": "markdown",
   "metadata": {},
   "source": [
    "#### 3.3. With\n",
    "O Python fornece uma sintaxe especial que fecha automaticamente um arquivo assim que você terminar de usá-lo."
   ]
  },
  {
   "cell_type": "code",
   "execution_count": null,
   "metadata": {},
   "outputs": [],
   "source": [
    "with open('my_path/my_file.txt', 'r') as f:\n",
    "    file_data = f.read()"
   ]
  },
  {
   "cell_type": "markdown",
   "metadata": {},
   "source": [
    "A palavra-chave `with` permite que você abra um arquivo, faça operações nele e o feche automaticamente após a execução do código indentado, neste caso, fazendo a leitura do arquivo. Agora, não temos que utilizar f.close()! Você só pode acessar o objeto de arquivo, f, dentro deste bloco indentado."
   ]
  },
  {
   "cell_type": "markdown",
   "metadata": {},
   "source": [
    "### <a id='aula_quatro-import'>4. Importando arquivos</a>\n",
    "#### 4.1. Importando scripts locais\n",
    "Na realidade, podemos importar códigos Python de outros scripts, o que é útil se você estiver trabalhando em um projeto maior no qual você deseja organizar seu código em vários arquivos e reutilizar esses códigos. Se o script Python que você deseja importar estiver no mesmo diretório que o script atual, apenas digite `import` seguido do nome do arquivo **_sem_ a extensão `.py`**."
   ]
  },
  {
   "cell_type": "code",
   "execution_count": null,
   "metadata": {},
   "outputs": [],
   "source": [
    "import useful_functions"
   ]
  },
  {
   "cell_type": "markdown",
   "metadata": {},
   "source": [
    "É a convenção padrão que declarações `import` sejam escritas na parte superior de um script Python, um em cada linha separada. Esta declaração `import` cria um objeto de **módulo chamado** `useful_functions`. Módulos são apenas arquivos de Python que contêm definições e declarações. Para acessar objetos de módulos importados, você precisa utilizar a notação de ponto."
   ]
  },
  {
   "cell_type": "code",
   "execution_count": null,
   "metadata": {},
   "outputs": [],
   "source": [
    "import useful_functions\n",
    "useful_functions.add_five([1, 2, 3, 4])"
   ]
  },
  {
   "cell_type": "markdown",
   "metadata": {},
   "source": [
    "Podemos adicionar um apelido a um módulo importado para recorrer a ele com um nome diferente."
   ]
  },
  {
   "cell_type": "code",
   "execution_count": null,
   "metadata": {},
   "outputs": [],
   "source": [
    "import useful_functions as uf\n",
    "uf.add_five([1, 2, 3, 4])"
   ]
  },
  {
   "cell_type": "markdown",
   "metadata": {},
   "source": [
    "#### 4.2. Utilizando um bloco principal\n",
    "Para evitar a execução de declarações executáveis de um script quando elas foram importadas como um módulo em outro script, inclua essas linhas em um bloco if `__name__ == \"__main__\"`. Ou, alternativamente, inclua-os em uma função chamada main() e utilize-a no bloco `if main`.\n",
    "Sempre que podemos executar um script como este, o Python na verdade define uma variável interna especial chamada `__name__` para qualquer módulo. Quando executamos um script, o Python reconhece este módulo como o programa principal e define a variável `__name__` para este módulo para a string `“__main__”`. Para quaisquer módulos importados neste script, essa variável interna `__name__` só é definida para o nome desse módulo. Portanto, a condição de if `__name__ == \"__main__\"` só está checando se este módulo é o programa principal.\n",
    "\n",
    "#### 4.3. A biblioteca padrão\n",
    "Você pode descobrir novos módulos no blog [Módulo Python da semana](https://pymotw.com/3/).\n",
    "\n",
    "#### 4.4. Técnicas para a importação de módulos\n",
    "Existem outras variantes de declarações import que são úteis em diferentes situações.\n",
    "1. Para importar uma função individual ou a uma classe de um módulo:"
   ]
  },
  {
   "cell_type": "code",
   "execution_count": null,
   "metadata": {},
   "outputs": [],
   "source": [
    "from module_name import object_name"
   ]
  },
  {
   "cell_type": "markdown",
   "metadata": {},
   "source": [
    "2. Para importar múltiplos objetos individuais de um módulo:"
   ]
  },
  {
   "cell_type": "code",
   "execution_count": null,
   "metadata": {},
   "outputs": [],
   "source": [
    "from module_name import first_object, second_object"
   ]
  },
  {
   "cell_type": "markdown",
   "metadata": {},
   "source": [
    "3. Para renomear um módulo:"
   ]
  },
  {
   "cell_type": "code",
   "execution_count": null,
   "metadata": {},
   "outputs": [],
   "source": [
    "import module_name as new_name"
   ]
  },
  {
   "cell_type": "markdown",
   "metadata": {},
   "source": [
    "4. Para importar um objeto de um módulo e renomeá-lo:"
   ]
  },
  {
   "cell_type": "code",
   "execution_count": null,
   "metadata": {},
   "outputs": [],
   "source": [
    "from module_name import object_name as new_name"
   ]
  },
  {
   "cell_type": "markdown",
   "metadata": {},
   "source": [
    "5. Para importar cada objeto individualmente de um módulo (NÃO FAÇA ISSO):"
   ]
  },
  {
   "cell_type": "code",
   "execution_count": null,
   "metadata": {},
   "outputs": [],
   "source": [
    "from module_name import *"
   ]
  },
  {
   "cell_type": "markdown",
   "metadata": {},
   "source": [
    "6. Se você realmente quiser usar todos os objetos de um módulo, use a declaração de importação padrão module_name e acesse cada um dos objetos com a notação de ponto."
   ]
  },
  {
   "cell_type": "code",
   "execution_count": null,
   "metadata": {},
   "outputs": [],
   "source": [
    "import module_name"
   ]
  },
  {
   "cell_type": "markdown",
   "metadata": {},
   "source": [
    "#### Módulos, pacotes e nomes\n",
    "Para gerenciar melhor o código, os módulos da biblioteca padrão do Python estão divididos em submódulos que estão contidos dentro de um pacote. Um pacote é simplesmente um módulo que contém submódulos. Um submódulo é especificado com a notação habitual de ponto.\n",
    "\n",
    "Módulos que são submódulos são especificados pelo nome do pacote seguido pelo nome do submódulo separados por um ponto. Você pode importar o submódulo assim."
   ]
  },
  {
   "cell_type": "code",
   "execution_count": null,
   "metadata": {},
   "outputs": [],
   "source": [
    "import package_name.submodule_name"
   ]
  },
  {
   "cell_type": "markdown",
   "metadata": {},
   "source": [
    "#### 4.5. Bibliotecas de terceiros\n",
    "Existem dezenas de milhares de bibliotecas de terceiros escritas por desenvolvedores independentes! Você pode instalá-las usando o `pip`, um gerenciador de pacotes que está incluso no Python 3. O `pip` é o gerenciador de pacotes padrão para o Python, mas não é o único. Uma alternativa popular é o Anaconda, que é projetado especificamente para ciência de dados.\n",
    "\n",
    "Para instalar um pacote usando o pip, basta digitar `'pip install'` seguido do nome do pacote em sua linha de comando, assim: `pip install package_name`. Isso baixa e instala o pacote para que ele esteja disponível para importação em seus programas. Uma vez instalado, você pode importar pacotes de terceiros usando a mesma sintaxe usada para importar da biblioteca padrão.\n",
    "\n",
    "##### 4.5.1. Usando um arquivo requirements.txt\n",
    "Programas maiores em Python podem depender de dezenas de pacotes de terceiros. Para facilitar o compartilhamento desses programas, os programadores frequentemente listam as dependências do projeto em um arquivo chamado requirements.txt. Este é um exemplo de um arquivo requirements.txt."
   ]
  },
  {
   "cell_type": "code",
   "execution_count": null,
   "metadata": {},
   "outputs": [],
   "source": [
    "beautifulsoup4==4.5.1\n",
    "bs4==0.0.1\n",
    "pytz==2016.7\n",
    "requests==2.11.1"
   ]
  },
  {
   "cell_type": "markdown",
   "metadata": {},
   "source": [
    "Cada linha do arquivo inclui o nome de um pacote e seu número de versão. O número de versão é opcional, mas geralmente é incluído. Bibliotecas podem mudar sutilmente ou drasticamente entre as versões, por isso, é importante usar as mesmas versões de biblioteca que foram utilizadas para escrever o programa.\n",
    "\n",
    "Você pode usar o pip para instalar todas as dependências do projeto ao mesmo tempo, digitando `pip install -r requirements.txt` em sua linha de comando.\n",
    "\n",
    "##### 4.5.2. Pacotes úteis de terceiros\n",
    "Ser capaz de instalar e importar bibliotecas de terceiros é útil, mas, para ser um programador eficaz, você também precisa saber quais bibliotecas estão disponíveis uso. As pessoas geralmente aprendem sobre novas bibliotecas úteis por meio de recomendações online ou de colegas. Se você for um programador novo em Python, pode não ter muitos colegas, então, para começar, aqui está uma lista de pacotes que são populares entre os engenheiros da Udacity.\n",
    "- [IPython](https://ipython.org/) - um interpretador interativo do Python.\n",
    "- [requests](http://docs.python-requests.org/) - fornece métodos fáceis de usar para fazer solicitações na web. Útil para acessar APIs da web.\n",
    "- [Flask](http://flask.pocoo.org/) - uma estrutura leve para fazer aplicações web e APIs.\n",
    "- [Django](https://www.djangoproject.com/) - uma estrutura mais recheada de recursos para criar aplicações web. O Django é particularmente bom para projetar aplicações web complexas e com muito conteúdo.\n",
    "- [Beautiful Soup](https://www.crummy.com/software/BeautifulSoup/) - usado para analisar HTML e extrair informações a partir daí. Ótimo para web scraping.\n",
    "- [pytest](http://doc.pytest.org/) - estende os módulos de assertivas internas e testes de unidade (unittest) do Python.\n",
    "- [PyYAML](http://pyyaml.org/wiki/PyYAML) - para ler e gravar arquivos YAML.\n",
    "- [NumPy](http://www.numpy.org/) - o pacote fundamental para a computação científica com Python. Ele contém, entre outras coisas, um poderoso objeto array N-dimensional e capacidades úteis para álgebra linear.\n",
    "- [pandas](http://pandas.pydata.org/) - uma biblioteca contendo ferramentas de alto desempenho, para estruturas de dados e de análise de dados. O Pandas, em especial, fornece dataframes!\n",
    "- [matplotlib](http://matplotlib.org/) - uma biblioteca de plotagem 2D que produz figuras com qualidade de publicação em uma variedade de formatos em papel e ambientes interativos.\n",
    "- [ggplot](http://ggplot.yhathq.com/) - outra biblioteca de plotagem 2D, com base na biblioteca ggplot2 do software R.\n",
    "- [Pillow](https://python-pillow.org/) - a biblioteca de imagens do Python adiciona capacidades de processamento de imagens a seu interpretador Python.\n",
    "- [pyglet](http://www.pyglet.org/) - uma estrutura de aplicação multiplataforma voltada ao desenvolvimento de jogos\n",
    "- [Pygame](http://www.pygame.org/) - um conjunto de módulos Python projetados para escrever jogos.\n",
    "- [pytz](http://pytz.sourceforge.net/) - definições de fuso horário do mundo para Python"
   ]
  },
  {
   "cell_type": "markdown",
   "metadata": {},
   "source": [
    "### <a id='aula_quatro-interpretador'>5. Experimentando um interpretador</a>\n",
    "Inicie seu interpretador interativo do Python digitando o comando `python` em seu terminal. Você pode digitá-lo aqui para interagir diretamente com o Python. Este é um lugar incrível para experimentar e testar um pedaço de código Python de cada vez. Basta digitar o código Python, que a saída aparecerá na linha seguinte."
   ]
  },
  {
   "cell_type": "code",
   "execution_count": 12,
   "metadata": {},
   "outputs": [
    {
     "data": {
      "text/plain": [
       "float"
      ]
     },
     "execution_count": 12,
     "metadata": {},
     "output_type": "execute_result"
    }
   ],
   "source": [
    "type(5.2)"
   ]
  },
  {
   "cell_type": "markdown",
   "metadata": {},
   "source": [
    "No interpretador, o valor da última linha em um prompt será emitido automaticamente. Se você tivesse várias linhas das quais você gostaria que houvesse saída de valores, ainda teria que usar print.\n",
    "\n",
    "Se você começar a definir uma função, verá uma mudança no prompt, indicando que se trata de uma linha de continuação. Você terá que incluir sua própria indentação conforme você define a função."
   ]
  },
  {
   "cell_type": "code",
   "execution_count": null,
   "metadata": {},
   "outputs": [],
   "source": [
    ">>> def cylinder_volume(height, radius):\n",
    "...         pi = 3.14159\n",
    "...         return height * pi * radius ** 2"
   ]
  },
  {
   "cell_type": "markdown",
   "metadata": {},
   "source": [
    "Uma desvantagem do interpretador é que é complicado editar o código. Se você cometeu um erro ao digitar esta função ou se esqueceu da indentação do corpo da função, não pode usar o mouse para colocar o cursor onde quiser. Você tem que navegar com as setas para mover o cursor para a frente e para trás na própria linha, para editar. Seria de grande ajuda para você aprender atalhos úteis para ações, como mover para o início ou fim da linha.\n",
    "\n",
    "Um truque útil é usar as setas “para cima” e “para baixo” para percorrer seus comandos recentes no prompt interativo. Isso pode ser útil para reexecutar ou adaptar um código que você já testou.\n",
    "\n",
    "Para encerrar o interpretador interativo do Python, use o comando `exit()` ou clique `ctrl-D` no Mac ou Linux e `ctrl-Z` depois `Enter` no Windows."
   ]
  }
 ],
 "metadata": {
  "kernelspec": {
   "display_name": "Python 3",
   "language": "python",
   "name": "python3"
  },
  "language_info": {
   "codemirror_mode": {
    "name": "ipython",
    "version": 3
   },
   "file_extension": ".py",
   "mimetype": "text/x-python",
   "name": "python",
   "nbconvert_exporter": "python",
   "pygments_lexer": "ipython3",
   "version": "3.7.1"
  }
 },
 "nbformat": 4,
 "nbformat_minor": 2
}
